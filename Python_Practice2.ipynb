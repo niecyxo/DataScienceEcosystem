{
 "cells": [
  {
   "cell_type": "markdown",
   "id": "2fa81e0b-7e02-4b84-8cea-962cb1d8a6ba",
   "metadata": {},
   "source": [
    "# Python Practice 2 "
   ]
  },
  {
   "cell_type": "markdown",
   "id": "c01667b7-37b7-4fd7-9488-0bd6ca150c5c",
   "metadata": {},
   "source": [
    "## This document is part 2 of the composition of Python language in Jupyter Notebooks; Established to show basic understanding of coding in Python. "
   ]
  },
  {
   "cell_type": "markdown",
   "id": "71ef44b6-174a-4c9a-a514-13a06f22126b",
   "metadata": {},
   "source": [
    "### Negative Indexing"
   ]
  },
  {
   "cell_type": "markdown",
   "id": "83834aec-7b8f-49e5-9828-a76ec7b9bf72",
   "metadata": {},
   "source": [
    "<img src=\"https://cf-courses-data.s3.us.cloud-object-storage.appdomain.cloud/IBMDeveloperSkillsNetwork-PY0101EN-SkillsNetwork/labs/Module%201/images/StringsNeg.png\" width=\"600\" align=\"center\">"
   ]
  },
  {
   "cell_type": "markdown",
   "id": "0868709e-cd4c-4a32-9f83-122e7310b372",
   "metadata": {},
   "source": [
    "The first index is given by the index -15, the last index is given by the index -1."
   ]
  },
  {
   "cell_type": "code",
   "execution_count": 50,
   "id": "e82f47e1-0fb9-44b7-a9d3-4db3fabcdbec",
   "metadata": {},
   "outputs": [],
   "source": [
    "# Using the example in the skills Network, the name will be 'Michael Jackson'."
   ]
  },
  {
   "cell_type": "code",
   "execution_count": 65,
   "id": "5e44161d-10c0-4d3c-a14e-a6238a6b410b",
   "metadata": {},
   "outputs": [
    {
     "data": {
      "text/plain": [
       "'Michael Jackson'"
      ]
     },
     "execution_count": 65,
     "metadata": {},
     "output_type": "execute_result"
    }
   ],
   "source": [
    "# Assign string to variable\n",
    "name = 'Michael Jackson'\n",
    "name"
   ]
  },
  {
   "cell_type": "code",
   "execution_count": 51,
   "id": "dec2f5cc-babd-460e-ad54-4ea9b85df040",
   "metadata": {},
   "outputs": [
    {
     "name": "stdout",
     "output_type": "stream",
     "text": [
      "n\n"
     ]
    }
   ],
   "source": [
    "# Print the last element of the string\n",
    "print(name[-1])"
   ]
  },
  {
   "cell_type": "code",
   "execution_count": 55,
   "id": "3f28f5c2-9996-4704-b026-7ea95a7521f6",
   "metadata": {},
   "outputs": [
    {
     "name": "stdout",
     "output_type": "stream",
     "text": [
      "M\n"
     ]
    }
   ],
   "source": [
    "# Print the first element of the string \n",
    "print(name[-15])"
   ]
  },
  {
   "cell_type": "markdown",
   "id": "cbcc4926-f257-4aa2-add6-8b43c116a9d4",
   "metadata": {},
   "source": [
    "### Find the number of characters in a string by using _**len**_, short for length."
   ]
  },
  {
   "cell_type": "code",
   "execution_count": 56,
   "id": "e7f391e2-2482-4ea2-8044-9a492dab52d9",
   "metadata": {},
   "outputs": [
    {
     "data": {
      "text/plain": [
       "15"
      ]
     },
     "execution_count": 56,
     "metadata": {},
     "output_type": "execute_result"
    }
   ],
   "source": [
    "# Find the length of the string\n",
    "len('Michael Jackson')"
   ]
  }
 ],
 "metadata": {
  "kernelspec": {
   "display_name": "Python 3 (ipykernel)",
   "language": "python",
   "name": "python3"
  },
  "language_info": {
   "codemirror_mode": {
    "name": "ipython",
    "version": 3
   },
   "file_extension": ".py",
   "mimetype": "text/x-python",
   "name": "python",
   "nbconvert_exporter": "python",
   "pygments_lexer": "ipython3",
   "version": "3.12.4"
  }
 },
 "nbformat": 4,
 "nbformat_minor": 5
}
