{
 "cells": [
  {
   "cell_type": "markdown",
   "id": "0771229a-82dd-49ad-b06e-97e076a270fc",
   "metadata": {},
   "source": [
    "# Python Practice 10"
   ]
  },
  {
   "cell_type": "markdown",
   "id": "d2c13136-5cad-42c6-9ffb-4285ce9163ec",
   "metadata": {},
   "source": [
    "## This document is part 10 of the composition of Python language in Jupyter Notebooks; Established to show basic understanding of coding to Understand functions and variables, as well as working with functions and variables."
   ]
  },
  {
   "cell_type": "markdown",
   "id": "5ddd60bf-4a21-4d95-a361-1b9817a152e4",
   "metadata": {},
   "source": [
    "## Function: A reusable block of code which performs _operations specified in the function._ They let you break down tasks and allow you to reuse your code in different programs.\n",
    "\n",
    "There are two types of functions :\n",
    "\n",
    "* Pre-defined functions\n",
    "* User defined functions"
   ]
  },
  {
   "cell_type": "markdown",
   "id": "5463e182-1262-4eb3-8229-31802117fb50",
   "metadata": {},
   "source": [
    "* ### You can define functions to provide the required functionality. Simple rules to define a function in Python:\n",
    "\n",
    "1. *__Functions blocks begin def followed by the function name and parentheses ().__*\n",
    "2. There are *__input parameters or arguments that should be placed within these parentheses.__*\n",
    "3. You can also define parameters inside these parentheses.\n",
    "4. There is a *__body within every function that starts with a colon (:) and is indented.__*\n",
    "5. You can also place documentation before the body.\n",
    "6. The statement return exits a function, optionally passing back a value. <br> \n",
    "__An example of a function that adds on to the parameter a prints and returns the output as b:__"
   ]
  },
  {
   "cell_type": "code",
   "execution_count": 4,
   "id": "c55f5c55-a114-4a25-b763-37931f448544",
   "metadata": {},
   "outputs": [],
   "source": [
    "# First function example: Add 1 to a and store as b\n",
    "\n",
    "def add(a):\n",
    "    \"\"\"\n",
    "    add 1 to a\n",
    "    \"\"\"\n",
    "    b = a + 1\n",
    "    print(a, \"if you add one\", b)\n",
    "    return(b)"
   ]
  },
  {
   "cell_type": "markdown",
   "id": "aa4027b4-55f3-4769-ba6b-8c89e5df14d6",
   "metadata": {},
   "source": [
    "<img src=\"https://cf-courses-data.s3.us.cloud-object-storage.appdomain.cloud/IBMDeveloperSkillsNetwork-PY0101EN-SkillsNetwork/labs/Module%203/images/FuncsDefinition.png\" width=\"500\"> "
   ]
  },
  {
   "cell_type": "markdown",
   "id": "8d9bf6d4-0c9f-4ccf-9f73-17c39e7bdd27",
   "metadata": {},
   "source": [
    "* ###  Obtain help about a function "
   ]
  },
  {
   "cell_type": "code",
   "execution_count": 24,
   "id": "cce1ddd9-a9db-4ce1-bf7e-171a3b767646",
   "metadata": {},
   "outputs": [
    {
     "name": "stdout",
     "output_type": "stream",
     "text": [
      "Help on function add in module __main__:\n",
      "\n",
      "add(a)\n",
      "    add 1 to a\n",
      "\n"
     ]
    }
   ],
   "source": [
    "# Get a help on add function\n",
    "\n",
    "help(add)\n",
    "add(1)"
   ]
  },
  {
   "cell_type": "markdown",
   "id": "53726cad-998d-4c0e-874c-53ff192c866d",
   "metadata": {},
   "source": [
    "* ### Call the function"
   ]
  },
  {
   "cell_type": "code",
   "execution_count": 25,
   "id": "73d7369f-4069-445b-be0f-7751926db1d9",
   "metadata": {},
   "outputs": [],
   "source": [
    "# Call the function add()\n",
    "\n",
    "add(1)"
   ]
  },
  {
   "cell_type": "markdown",
   "id": "d8247a53-9b25-416e-87fb-7785296bbd79",
   "metadata": {},
   "source": [
    "* ### Call the function with a new input we get a new result"
   ]
  },
  {
   "cell_type": "code",
   "execution_count": 26,
   "id": "29689962-35de-4811-a1fb-23e256170f1c",
   "metadata": {},
   "outputs": [],
   "source": [
    "# Call the function add()\n",
    "\n",
    "add(2)"
   ]
  },
  {
   "cell_type": "markdown",
   "id": "c24d3d24-b098-4c05-b10b-c153b65372ef",
   "metadata": {},
   "source": [
    "* ### We can create different functions. For example, we can create a function that multiplies two numbers. The numbers will be represented by the variables *a and b:*"
   ]
  },
  {
   "cell_type": "code",
   "execution_count": 27,
   "id": "95a5e575-2da2-4ce7-8950-6374249d2e74",
   "metadata": {},
   "outputs": [
    {
     "name": "stdout",
     "output_type": "stream",
     "text": [
      "24\n"
     ]
    }
   ],
   "source": [
    "# Define a function for multiple two numbers\n",
    "\n",
    "def Mult(a, b):\n",
    "    c = a * b\n",
    "    return(c)\n",
    "    print('This is not printed')\n",
    "    \n",
    "result = Mult(12,2)\n",
    "print(result)"
   ]
  },
  {
   "cell_type": "markdown",
   "id": "50bd1d01-8f9a-4f2d-8cf7-28b4a6aec61b",
   "metadata": {},
   "source": [
    "* ### The same function can be used for different data types. For example, we can multiply two integers."
   ]
  },
  {
   "cell_type": "code",
   "execution_count": 28,
   "id": "05f53ca8-8136-4638-8421-593ecc2ba991",
   "metadata": {},
   "outputs": [
    {
     "data": {
      "text/plain": [
       "6"
      ]
     },
     "execution_count": 28,
     "metadata": {},
     "output_type": "execute_result"
    }
   ],
   "source": [
    "# Use mult() multiply two integers\n",
    "\n",
    "Mult(2, 3)"
   ]
  },
  {
   "cell_type": "markdown",
   "id": "1b8a0bf1-c258-4c3e-bdaf-3f9f2d06d263",
   "metadata": {},
   "source": [
    "* #### Note how the function terminates at the  return  statement, while passing back a value. This value can be further assigned to a different variable as desired."
   ]
  },
  {
   "cell_type": "code",
   "execution_count": 29,
   "id": "e306c9b2-653d-4f6c-9486-0f0230d8db0a",
   "metadata": {},
   "outputs": [
    {
     "data": {
      "text/plain": [
       "31.400000000000002"
      ]
     },
     "execution_count": 29,
     "metadata": {},
     "output_type": "execute_result"
    }
   ],
   "source": [
    "# Use mult() multiply two floats\n",
    "\n",
    "Mult(10.0, 3.14)"
   ]
  },
  {
   "cell_type": "markdown",
   "id": "46a28b94-9c6b-4256-b677-520ed71a8c63",
   "metadata": {},
   "source": [
    "* ####  Replicate a string by multiplying with an integer"
   ]
  },
  {
   "cell_type": "code",
   "execution_count": 30,
   "id": "476c76d9-a978-4150-9153-4dff24a871f9",
   "metadata": {},
   "outputs": [
    {
     "data": {
      "text/plain": [
       "'Michael Jackson Michael Jackson '"
      ]
     },
     "execution_count": 30,
     "metadata": {},
     "output_type": "execute_result"
    }
   ],
   "source": [
    "# Use mult() multiply two different type values together\n",
    "\n",
    "Mult(2, \"Michael Jackson \")"
   ]
  },
  {
   "cell_type": "markdown",
   "id": "e5bdb3f5-5b73-4221-827d-46da778c1ff3",
   "metadata": {},
   "source": [
    "### Variables"
   ]
  },
  {
   "cell_type": "markdown",
   "id": "24281e03-3f58-4b93-9c46-0b039ff4e4c1",
   "metadata": {},
   "source": [
    "#### * The input to a function is called a __formal parameter.__\n",
    "\n",
    "#### * A variable that is __declared inside a function is called a local variable.__ The parameter only exists within the function (i.e. the point where the function starts and stops).\n",
    "\n",
    "#### * A variable that is __declared outside a function definition is a global variable, and its value is accessible and modifiable throughout the program.__ We will discuss more about global variables at the end of the lab."
   ]
  },
  {
   "cell_type": "code",
   "execution_count": 31,
   "id": "7f47a01d-7519-45b5-99df-a6d113da208f",
   "metadata": {},
   "outputs": [],
   "source": [
    "# Function Definition\n",
    "\n",
    "def square(a):\n",
    "    \n",
    "    # Local variable b\n",
    "    b = 1\n",
    "    c = a * a + b\n",
    "    print(a, \"if you square + 1\", c) \n",
    "    return(c)"
   ]
  },
  {
   "cell_type": "markdown",
   "id": "9fc8348a-2663-476b-a563-bb7d8084ebf0",
   "metadata": {},
   "source": [
    "<img src=\"https://cf-courses-data.s3.us.cloud-object-storage.appdomain.cloud/IBMDeveloperSkillsNetwork-PY0101EN-SkillsNetwork/labs/Module%203/images/FuncsVar.png\" width=\"500\">\n"
   ]
  },
  {
   "cell_type": "code",
   "execution_count": 37,
   "id": "7985c35e-2aec-427d-bfed-277009df8018",
   "metadata": {},
   "outputs": [
    {
     "name": "stdout",
     "output_type": "stream",
     "text": [
      "1 if you square+1 2\n"
     ]
    },
    {
     "data": {
      "text/plain": [
       "2"
      ]
     },
     "execution_count": 37,
     "metadata": {},
     "output_type": "execute_result"
    }
   ],
   "source": [
    "# Function definition\n",
    "c = 1\n",
    "def square(a):\n",
    "    '''\n",
    "    Square the input add add 1\n",
    "    '''\n",
    "b = a*a+c;\n",
    "print(a, 'if you square+1', b)\n",
    "(b)"
   ]
  },
  {
   "cell_type": "markdown",
   "id": "f971f607-25ed-4953-a22a-51fd00738b71",
   "metadata": {},
   "source": [
    "#### Call the function with an input of 3"
   ]
  },
  {
   "cell_type": "code",
   "execution_count": 40,
   "id": "a09b6d06-74ae-4bde-bef1-f32884ca37a5",
   "metadata": {},
   "outputs": [
    {
     "data": {
      "text/plain": [
       "9"
      ]
     },
     "execution_count": 40,
     "metadata": {},
     "output_type": "execute_result"
    }
   ],
   "source": [
    "# Initializes Global variable  \n",
    "\n",
    "x = 3\n",
    "# Makes function call and return function a y\n",
    "y = square(x)\n",
    "y = x*x\n",
    "y"
   ]
  },
  {
   "cell_type": "markdown",
   "id": "278ee845-70b7-4669-91fa-2f7daa388f7c",
   "metadata": {},
   "source": [
    "* #### Call the function with an input of 2 in a different manner"
   ]
  },
  {
   "cell_type": "code",
   "execution_count": 47,
   "id": "bc40ef84-0cd8-4fa2-8793-d2a3056d1c0f",
   "metadata": {},
   "outputs": [
    {
     "data": {
      "text/plain": [
       "False"
      ]
     },
     "execution_count": 47,
     "metadata": {},
     "output_type": "execute_result"
    }
   ],
   "source": [
    "# Directly enter a number as parameter\n",
    "\n",
    "square(2)\n",
    "x = 2\n",
    "2*2 == x\n"
   ]
  },
  {
   "cell_type": "markdown",
   "id": "43207446-c6b5-4c0f-81c4-39f93d63f65f",
   "metadata": {},
   "source": [
    "#### If there is no return statement, the function returns None. The following two functions are equivalent"
   ]
  },
  {
   "cell_type": "code",
   "execution_count": 48,
   "id": "e5245b1b-76cd-49d8-b8c5-4317da19251e",
   "metadata": {},
   "outputs": [],
   "source": [
    "# Define functions, one with return value None and other without return value\n",
    "\n",
    "def MJ():\n",
    "    print('Michael Jackson')\n",
    "    \n",
    "def MJ1():\n",
    "    print('Michael Jackson')\n",
    "    return(None)"
   ]
  },
  {
   "cell_type": "code",
   "execution_count": 49,
   "id": "360fc35f-d3a2-49f5-a9b5-c12c2ae42ec0",
   "metadata": {},
   "outputs": [
    {
     "name": "stdout",
     "output_type": "stream",
     "text": [
      "Michael Jackson\n"
     ]
    }
   ],
   "source": [
    "# See the output\n",
    "\n",
    "MJ()"
   ]
  },
  {
   "cell_type": "code",
   "execution_count": 50,
   "id": "a2bd547c-70e2-4cbb-b7cb-d425cce6ceb9",
   "metadata": {},
   "outputs": [
    {
     "name": "stdout",
     "output_type": "stream",
     "text": [
      "Michael Jackson\n"
     ]
    }
   ],
   "source": [
    "# See the output\n",
    "\n",
    "MJ1()"
   ]
  },
  {
   "cell_type": "markdown",
   "id": "5238da6c-10f9-48b7-b208-42614c759812",
   "metadata": {},
   "source": [
    "* #### Printing the function after a call reveals a None is the default return statement"
   ]
  },
  {
   "cell_type": "code",
   "execution_count": 51,
   "id": "549198d2-33c0-4179-b739-9a44544c4fed",
   "metadata": {},
   "outputs": [
    {
     "name": "stdout",
     "output_type": "stream",
     "text": [
      "Michael Jackson\n",
      "None\n",
      "Michael Jackson\n",
      "None\n"
     ]
    }
   ],
   "source": [
    "# See what functions returns are\n",
    "\n",
    "print(MJ())\n",
    "print(MJ1())"
   ]
  },
  {
   "cell_type": "markdown",
   "id": "06793b8f-78ca-4e6a-af2f-e2121ea95017",
   "metadata": {},
   "source": [
    "* #### Create a function <code>con</code> that  concatenates two strings using the addition operation\n"
   ]
  },
  {
   "cell_type": "code",
   "execution_count": 52,
   "id": "3a6bef5b-917b-48d6-b262-a6db63117d2a",
   "metadata": {},
   "outputs": [],
   "source": [
    "# Define the function for combining strings\n",
    "\n",
    "def con(a, b):\n",
    "    return(a + b)"
   ]
  },
  {
   "cell_type": "code",
   "execution_count": 55,
   "id": "dbebecf2-3d12-443c-94ce-af05e14b1916",
   "metadata": {},
   "outputs": [
    {
     "data": {
      "text/plain": [
       "3"
      ]
     },
     "execution_count": 55,
     "metadata": {},
     "output_type": "execute_result"
    }
   ],
   "source": [
    "con(a,b)\n",
    "(a+b)"
   ]
  },
  {
   "cell_type": "code",
   "execution_count": 56,
   "id": "378599b0-f439-409c-8b2f-54afc8c0185b",
   "metadata": {},
   "outputs": [
    {
     "data": {
      "text/plain": [
       "'This is'"
      ]
     },
     "execution_count": 56,
     "metadata": {},
     "output_type": "execute_result"
    }
   ],
   "source": [
    "# Test on the con() function\n",
    "\n",
    "con(\"This \", \"is\")"
   ]
  },
  {
   "cell_type": "code",
   "execution_count": 59,
   "id": "9ebbc456-b9d1-4002-ab35-9e54be5eb2c1",
   "metadata": {},
   "outputs": [
    {
     "data": {
      "text/plain": [
       "5"
      ]
     },
     "execution_count": 59,
     "metadata": {},
     "output_type": "execute_result"
    }
   ],
   "source": [
    "# a and b calculation block1\n",
    "\n",
    "a1 = 4\n",
    "b1 = 5\n",
    "c1 = a1 + b1 + 2 * a1 * b1 - 1\n",
    "if(c1 < 0):\n",
    "    c1 = 0 \n",
    "else:\n",
    "    c1 = 5\n",
    "c1   "
   ]
  },
  {
   "cell_type": "code",
   "execution_count": 60,
   "id": "1127d04a-ddc0-422e-9028-f4bf4f817b6f",
   "metadata": {},
   "outputs": [
    {
     "data": {
      "text/plain": [
       "0"
      ]
     },
     "execution_count": 60,
     "metadata": {},
     "output_type": "execute_result"
    }
   ],
   "source": [
    "# a and b calculation block2\n",
    "\n",
    "a2 = 0\n",
    "b2 = 0\n",
    "c2 = a2 + b2 + 2 * a2 * b2 - 1\n",
    "if(c2 < 0):\n",
    "    c2 = 0 \n",
    "else:`mf\n",
    "    c2 = 5\n",
    "c2   "
   ]
  },
  {
   "cell_type": "markdown",
   "id": "1bb58ee0-994c-4b3f-930c-014fc35762b0",
   "metadata": {},
   "source": [
    "* #### We can *replace the lines of code with a function. A function combines many instructions into a single line of code. Once a function is defined, it can be used repeatedly. You can invoke the same function many times in your program.* You can save your function and use it in another program or use someone else’s function. The lines of code in code Block 1 and code Block 2 can be replaced by the following:"
   ]
  },
  {
   "cell_type": "code",
   "execution_count": 61,
   "id": "53d6207e-13fe-4c34-83c8-8af0aca20e6a",
   "metadata": {},
   "outputs": [],
   "source": [
    "# Make a Function for the calculation above\n",
    "\n",
    "def Equation(a,b):\n",
    "    c = a + b + 2 * a * b - 1\n",
    "    if(c < 0):\n",
    "        c = 0 \n",
    "    else:\n",
    "        c = 5\n",
    "    return(c) "
   ]
  },
  {
   "cell_type": "code",
   "execution_count": 62,
   "id": "efbf4325-eb05-45be-add9-7900d873116f",
   "metadata": {},
   "outputs": [
    {
     "data": {
      "text/plain": [
       "0"
      ]
     },
     "execution_count": 62,
     "metadata": {},
     "output_type": "execute_result"
    }
   ],
   "source": [
    "a2 = 0\n",
    "b2 = 0\n",
    "c2 = 0 + 0 + 2 * 0 * 0 - 1\n",
    "if(c2 < 0):\n",
    "    c2 = 0 \n",
    "else:\n",
    "    c2 = 5\n",
    "c2   "
   ]
  },
  {
   "cell_type": "code",
   "execution_count": 66,
   "id": "074fe6ee-3a31-477a-8099-e4d6c9ac98a6",
   "metadata": {},
   "outputs": [
    {
     "data": {
      "text/plain": [
       "5"
      ]
     },
     "execution_count": 66,
     "metadata": {},
     "output_type": "execute_result"
    }
   ],
   "source": [
    "# Block 1 \n",
    "a1 = 4\n",
    "b1 = 5\n",
    "c1 = a1 + b1 + 2 * a1 * b1 - 1\n",
    "if(c1 < 0):\n",
    "    c1 = 0 \n",
    "else:\n",
    "    c1 = 5\n",
    "c1   \n"
   ]
  },
  {
   "cell_type": "code",
   "execution_count": 67,
   "id": "c9a7bb1f-0284-4b4e-92a8-a38137d0a5a3",
   "metadata": {},
   "outputs": [
    {
     "data": {
      "text/plain": [
       "0"
      ]
     },
     "execution_count": 67,
     "metadata": {},
     "output_type": "execute_result"
    }
   ],
   "source": [
    "# Block 2\n",
    "a2 = 0\n",
    "b2 = 0\n",
    "c2 = a2 + b2 + 2 * a2 * b2 - 1\n",
    "if(c2 < 0):\n",
    "    c2 = 0 \n",
    "else:\n",
    "    c2 = 5\n",
    "c2   "
   ]
  },
  {
   "cell_type": "code",
   "execution_count": 68,
   "id": "b30abb7d-41fe-4bd6-8cc5-4a4314727715",
   "metadata": {},
   "outputs": [],
   "source": [
    "# Make a Function for the calculation above\n",
    "\n",
    "def Equation(a,b):\n",
    "    c = a + b + 2 * a * b - 1\n",
    "    if(c < 0):\n",
    "        c = 0 \n",
    "    else:\n",
    "        c = 5\n",
    "    return(c) "
   ]
  },
  {
   "cell_type": "code",
   "execution_count": 70,
   "id": "19ab1496-03a0-4b5e-8c59-06af4378af88",
   "metadata": {},
   "outputs": [
    {
     "data": {
      "text/plain": [
       "0"
      ]
     },
     "execution_count": 70,
     "metadata": {},
     "output_type": "execute_result"
    }
   ],
   "source": [
    "def equation (a,b):\n",
    "    c = a1 = 4\n",
    "b1 = 5\n",
    "c1 = a1 + b1 + 2 * a1 * b1 - 1\n",
    "if(c1 < 0):\n",
    "    c1 = 0 \n",
    "else:\n",
    "    c1 = 5\n",
    "    \n",
    "a2 = 0\n",
    "b2 = 0\n",
    "c2 = a2 + b2 + 2 * a2 * b2 - 1\n",
    "if(c2 < 0):\n",
    "    c2 = 0 \n",
    "else:\n",
    "    c2 = 5\n",
    "c2   "
   ]
  },
  {
   "cell_type": "code",
   "execution_count": 71,
   "id": "75e1116c-a54d-4301-b153-adb57c6caffc",
   "metadata": {},
   "outputs": [
    {
     "data": {
      "text/plain": [
       "5"
      ]
     },
     "execution_count": 71,
     "metadata": {},
     "output_type": "execute_result"
    }
   ],
   "source": [
    "a1 = 4\n",
    "b1 = 5\n",
    "c1 = Equation(a1, b1)\n",
    "c1"
   ]
  },
  {
   "cell_type": "code",
   "execution_count": 72,
   "id": "36046a8c-523f-4ceb-a83b-8dbffa1d30cc",
   "metadata": {},
   "outputs": [
    {
     "data": {
      "text/plain": [
       "0"
      ]
     },
     "execution_count": 72,
     "metadata": {},
     "output_type": "execute_result"
    }
   ],
   "source": [
    "a2 = 0\n",
    "b2 = 0\n",
    "c2 = Equation(a2, b2)\n",
    "c2"
   ]
  },
  {
   "cell_type": "markdown",
   "id": "c1a9da51-bc6c-4035-ac45-f259c3eb07c6",
   "metadata": {},
   "source": [
    "* ### Pre-defined functions\n"
   ]
  },
  {
   "cell_type": "markdown",
   "id": "0efc484a-bcfc-4dd3-ac97-0dcf691f3e21",
   "metadata": {},
   "source": [
    "* #### The print() function"
   ]
  },
  {
   "cell_type": "code",
   "execution_count": 74,
   "id": "e253122c-fc0e-44b7-850b-432632c73a48",
   "metadata": {},
   "outputs": [
    {
     "name": "stdout",
     "output_type": "stream",
     "text": [
      "[10.0, 8.5, 9.5, 7.0, 7.0, 9.5, 9.0, 9.5]\n"
     ]
    }
   ],
   "source": [
    "# Build-in function print()\n",
    "\n",
    "album_ratings = [10.0, 8.5, 9.5, 7.0, 7.0, 9.5, 9.0, 9.5] \n",
    "print(album_ratings)"
   ]
  },
  {
   "cell_type": "markdown",
   "id": "7bbd94eb-fc87-4503-84ce-3b49a277647d",
   "metadata": {},
   "source": [
    "* #### The sum() function adds all the elements in a list or tuple"
   ]
  },
  {
   "cell_type": "code",
   "execution_count": 75,
   "id": "5479f389-a6ef-44d3-a760-8d21d3f74f16",
   "metadata": {},
   "outputs": [
    {
     "data": {
      "text/plain": [
       "70.0"
      ]
     },
     "execution_count": 75,
     "metadata": {},
     "output_type": "execute_result"
    }
   ],
   "source": [
    "# Use sum() to add every element in a list or tuple together\n",
    "\n",
    "sum(album_ratings)"
   ]
  },
  {
   "cell_type": "markdown",
   "id": "bae2d725-6e5f-40d0-aaab-1393813a4cbd",
   "metadata": {},
   "source": [
    "* #### The len() function returns the length of a list or tuple"
   ]
  },
  {
   "cell_type": "code",
   "execution_count": 76,
   "id": "f2481dbe-acac-40ec-89a0-262db3ded383",
   "metadata": {},
   "outputs": [
    {
     "data": {
      "text/plain": [
       "8"
      ]
     },
     "execution_count": 76,
     "metadata": {},
     "output_type": "execute_result"
    }
   ],
   "source": [
    "# Show the length of the list or tuple\n",
    "\n",
    "len(album_ratings)"
   ]
  },
  {
   "cell_type": "markdown",
   "id": "0f69eabb-ea14-436c-ba0f-ca5cd95a1078",
   "metadata": {},
   "source": [
    "### In-Built Functions"
   ]
  },
  {
   "cell_type": "code",
   "execution_count": 77,
   "id": "caf33884-303c-40ee-a17b-981bc604d6a3",
   "metadata": {},
   "outputs": [
    {
     "ename": "TypeError",
     "evalue": "'int' object is not iterable",
     "output_type": "error",
     "traceback": [
      "\u001b[0;31m---------------------------------------------------------------------------\u001b[0m",
      "\u001b[0;31mTypeError\u001b[0m                                 Traceback (most recent call last)",
      "Cell \u001b[0;32mIn[77], line 3\u001b[0m\n\u001b[1;32m      1\u001b[0m \u001b[38;5;66;03m#You will see below will return an error as integer alone is not considered while using a function.It either has to be in the form of tuple, list or a set.\u001b[39;00m\n\u001b[0;32m----> 3\u001b[0m \u001b[38;5;28msum\u001b[39m(\u001b[38;5;241m1\u001b[39m,\u001b[38;5;241m2\u001b[39m)\n",
      "\u001b[0;31mTypeError\u001b[0m: 'int' object is not iterable"
     ]
    }
   ],
   "source": [
    "#You will see below will return an error as integer alone is not considered while using a function.It either has to be in the form of tuple, list or a set.\n",
    "\n",
    "sum(1,2)"
   ]
  },
  {
   "cell_type": "code",
   "execution_count": 78,
   "id": "8bffaafb-5381-4882-93bf-87a68874d668",
   "metadata": {},
   "outputs": [
    {
     "name": "stdout",
     "output_type": "stream",
     "text": [
      "The sum of the elements in the tuple (1, 2) is 3.\n"
     ]
    }
   ],
   "source": [
    "# Define a tuple\n",
    "a = (1, 2)\n",
    "\n",
    "# Pass the tuple to the sum function and store the result in a variable\n",
    "c = sum(a)\n",
    "\n",
    "# Print the result\n",
    "print(f\"The sum of the elements in the tuple {a} is {c}.\")\n"
   ]
  },
  {
   "cell_type": "code",
   "execution_count": 80,
   "id": "c36b799a-fbeb-4ee4-a586-671e5765fb41",
   "metadata": {},
   "outputs": [
    {
     "name": "stdout",
     "output_type": "stream",
     "text": [
      "The sum of the elements in the list {a} is {c}.\n"
     ]
    }
   ],
   "source": [
    "# Define a list\n",
    "a = [1, 2]\n",
    "\n",
    "# Pass the list to the sum function and store the result in a variable\n",
    "c = sum(a)\n",
    "\n",
    "# Print the result\n",
    "print(\"The sum of the elements in the list {a} is {c}.\")"
   ]
  },
  {
   "cell_type": "markdown",
   "id": "0e879aae-1171-45c9-989f-796129692c3e",
   "metadata": {},
   "source": [
    "* #### Using if/else Statements and Loops in Functions"
   ]
  },
  {
   "cell_type": "markdown",
   "id": "2d972597-c409-4fa4-adea-1f00fa11e883",
   "metadata": {},
   "source": [
    "    * The return() function is particularly useful if you have any IF statements in the function, when you want your output to be dependent on some condition"
   ]
  },
  {
   "cell_type": "code",
   "execution_count": 81,
   "id": "843d2d73-9b36-4816-b008-e89caf1d6f73",
   "metadata": {},
   "outputs": [
    {
     "name": "stdout",
     "output_type": "stream",
     "text": [
      "Michael Jackson Thriller 1980\n",
      "Oldie\n"
     ]
    }
   ],
   "source": [
    "# Function example\n",
    "\n",
    "def type_of_album(artist, album, year_released):\n",
    "    \n",
    "    print(artist, album, year_released)\n",
    "    if year_released > 1980:\n",
    "        return \"Modern\"\n",
    "    else:\n",
    "        return \"Oldie\"\n",
    "    \n",
    "x = type_of_album(\"Michael Jackson\", \"Thriller\", 1980)\n",
    "print(x)"
   ]
  },
  {
   "cell_type": "markdown",
   "id": "1f7a6d80-f308-443b-b453-931f2aaa2f8d",
   "metadata": {},
   "source": [
    "* #### Use a loop in a function. For example, we can print out each element in a list"
   ]
  },
  {
   "cell_type": "code",
   "execution_count": 82,
   "id": "0a6c96a7-6f79-44e0-a66f-670bd62256e9",
   "metadata": {},
   "outputs": [],
   "source": [
    "# Print the list using for loop\n",
    "\n",
    "def PrintList(the_list):\n",
    "    for element in the_list:\n",
    "        print(element)"
   ]
  },
  {
   "cell_type": "code",
   "execution_count": 83,
   "id": "bdd1e7e0-5961-46c7-a6dd-9f1510d99e80",
   "metadata": {},
   "outputs": [
    {
     "name": "stdout",
     "output_type": "stream",
     "text": [
      "1\n",
      "1\n",
      "the man\n",
      "abc\n"
     ]
    }
   ],
   "source": [
    "# Implement the printlist function\n",
    "\n",
    "PrintList(['1', 1, 'the man', \"abc\"])"
   ]
  },
  {
   "cell_type": "code",
   "execution_count": 85,
   "id": "5971866b-c887-413c-80ad-f6ef5a035b6f",
   "metadata": {},
   "outputs": [
    {
     "name": "stdout",
     "output_type": "stream",
     "text": [
      "1\n",
      "1\n",
      "the man\n",
      "abc\n"
     ]
    }
   ],
   "source": [
    "PrintList(['1', 1, 'the man', \"abc\"])\n",
    "\n",
    "def PrintList(the_list):\n",
    "    for element in the_list:\n",
    "        print(element)"
   ]
  },
  {
   "cell_type": "markdown",
   "id": "01abd546-76c8-466d-8d7f-c140f1c07320",
   "metadata": {},
   "source": [
    "* #### String comparison in Functions"
   ]
  },
  {
   "cell_type": "markdown",
   "id": "a0ec034a-cab1-4efe-9159-a8ea94d09462",
   "metadata": {},
   "source": [
    "#### The relational operators compare the Unicode values of the characters of the strings from the zeroth index till the end of the string. It then returns a boolean value according to the operator used."
   ]
  },
  {
   "cell_type": "code",
   "execution_count": 86,
   "id": "fb85d6b8-83f2-4aaa-9f21-8f45e46f7627",
   "metadata": {},
   "outputs": [
    {
     "data": {
      "text/plain": [
       "'String matched'"
      ]
     },
     "execution_count": 86,
     "metadata": {},
     "output_type": "execute_result"
    }
   ],
   "source": [
    "#Compare Two Strings Directly using in operator\n",
    "# add string\n",
    "string= \"Michael Jackson is the best\"\n",
    "\n",
    "# Define a function\n",
    "def check_string(text):\n",
    "    \n",
    "# Use if else statement and 'in' operatore to compare the string\n",
    "    if text in string:\n",
    "        return 'String matched'\n",
    "    else:\n",
    "        return 'String not matched'\n",
    "\n",
    "check_string(\"Michael Jackson is the best\")"
   ]
  },
  {
   "cell_type": "markdown",
   "id": "23bec978-48d3-47a0-8e6d-a3f5e082c844",
   "metadata": {},
   "source": [
    "#### This program uses a user-defined function named *__compareStrings() to compare two strings.__*\n",
    "\n",
    "* #### This function *receives both strings as its argument and returns 1 if both strings are equal using == operator*"
   ]
  },
  {
   "cell_type": "code",
   "execution_count": 87,
   "id": "41d936e0-fc8f-45fd-a97b-9da1bbd7b606",
   "metadata": {},
   "outputs": [
    {
     "name": "stdout",
     "output_type": "stream",
     "text": [
      "\n",
      "String Matched\n"
     ]
    }
   ],
   "source": [
    "#Compare two strings using == operator and function\n",
    "def compareStrings(x, y):\n",
    "# Use if else statement to compare x and y\n",
    "    if x==y:\n",
    "        return 1\n",
    "    \n",
    "# Declare two different variables as string1 and string2 and pass string in it\n",
    "string1 = \"Michael Jackson is the best\"\n",
    "string2 = \"Michael Jackson is the best\"\n",
    "\n",
    "# Declare a variable to store result after comparing both the strings\n",
    "check = compareStrings(string1, string2)\n",
    "\n",
    "#Use if else statement to compare the string\n",
    "if check==1:\n",
    "    print(\"\\nString Matched\")\n",
    "else:\n",
    "    print(\"\\nString not Matched\")"
   ]
  },
  {
   "cell_type": "markdown",
   "id": "e9a99bb7-cfbd-4a82-8c1f-071701c04b5f",
   "metadata": {},
   "source": [
    "*__Count the Frequency of Words Appearing in a String Using a Dictionary__*\n",
    "\n",
    "1. Find the count of occurence of any word in our string using python. This is what we are going to do in this section, count the number of word in a given string and print it.\n",
    "\n",
    "2. Lets suppose we have a ‘string’ and the ‘word’ and we need to find the count of occurence of this word in our string using python. This is what we are going to do in this section, count the number of word in a given string and print it.\n",
    "\n",
    "3. The first thing, we will do is define a function and and then create a list that will be empty initially.\n",
    "\n",
    "4. Next, we will add a code to convert the string to a list. Python string has a split() method. It takes a string and some separator to return a list.\n",
    "\n",
    "5. Now we will declare an empty dictionary.\n",
    "\n",
    "6. Next we will add code using for loop to iterate the words and value will will count the frequency of each words in the string and store them to the dictionary.\n",
    "\n",
    "7. Finally we will print the dictionary."
   ]
  },
  {
   "cell_type": "code",
   "execution_count": 89,
   "id": "70efe771-3022-4c46-aa24-2a0e794cc95e",
   "metadata": {},
   "outputs": [
    {
     "name": "stdout",
     "output_type": "stream",
     "text": [
      "The Frequency of words is: {'Mary': 6, 'had': 2, 'a': 2, 'little': 3, 'lamb': 3, 'Little': 1, 'lamb,': 1, 'lamb.Its': 1, 'fleece': 1, 'was': 2, 'white': 1, 'as': 1, 'snow': 1, 'And': 1, 'everywhere': 1, 'that': 2, 'went': 3, 'went,': 1, 'Everywhere': 1, 'The': 1, 'sure': 1, 'to': 1, 'go': 1}\n"
     ]
    }
   ],
   "source": [
    "# Python Program to Count words in a String using Dictionary\n",
    "def freq(string):\n",
    "    \n",
    "    #step1: A list variable is declared and initialized to an empty list.\n",
    "    words = []\n",
    "    \n",
    "    #step2: Break the string into list of words\n",
    "    words = string.split() # or string.lower().split()\n",
    "    \n",
    "    #step3: Declare a dictionary\n",
    "    Dict = {}\n",
    "    \n",
    "    #step4: Use for loop to iterate words and values to the dictionary\n",
    "    for key in words:\n",
    "        Dict[key] = words.count(key)\n",
    "        \n",
    "    #step5: Print the dictionary\n",
    "    print(\"The Frequency of words is:\",Dict)\n",
    "    \n",
    "#step6: Call function and pass string in it\n",
    "freq(\"Mary had a little lamb Little lamb, little lamb Mary had a little lamb.Its fleece was white as snow And everywhere that Mary went Mary went, Mary went \\\n",
    "Everywhere that Mary went The lamb was sure to go\")"
   ]
  },
  {
   "cell_type": "markdown",
   "id": "fd712b84-eed1-4695-b250-2307f5d8dee6",
   "metadata": {},
   "source": [
    "#### Setting default argument values in your custom functions: <br>\n",
    "* #### You can set a default value for arguments in your function. For example, in the isGoodRating() function, what if we wanted to create a threshold for what we consider to be a good rating? Perhaps by default, we should have a default rating of 4:"
   ]
  },
  {
   "cell_type": "code",
   "execution_count": 91,
   "id": "0129c0b0-3fdf-48ba-8a77-3c8a7fac4e55",
   "metadata": {},
   "outputs": [],
   "source": [
    "# Example for setting param with default value\n",
    "\n",
    "def isGoodRating(rating=4): \n",
    "    if(rating < 7):\n",
    "        print(\"this album sucks it's rating is\",rating)\n",
    "        \n",
    "    else:\n",
    "        print(\"this album is good its rating is\",rating)"
   ]
  },
  {
   "cell_type": "code",
   "execution_count": 92,
   "id": "ca63bec6-3f21-4f8d-a50d-4a26a3c13f0b",
   "metadata": {},
   "outputs": [
    {
     "name": "stdout",
     "output_type": "stream",
     "text": [
      "this album sucks it's rating is 4\n",
      "this album is good its rating is 10\n"
     ]
    }
   ],
   "source": [
    "# Test the value with default value and with input\n",
    "\n",
    "isGoodRating()\n",
    "isGoodRating(10)"
   ]
  },
  {
   "cell_type": "code",
   "execution_count": 93,
   "id": "42c720c7-112e-4cfb-abbd-5d8aba0d76c7",
   "metadata": {},
   "outputs": [
    {
     "name": "stdout",
     "output_type": "stream",
     "text": [
      "this album is good its rating is 10\n",
      "this album sucks it's rating is 4\n"
     ]
    }
   ],
   "source": [
    "def isGoodRating(rating=4): \n",
    "    if(rating < 7):\n",
    "        print(\"this album sucks it's rating is\",rating)\n",
    "        \n",
    "    else:\n",
    "        print(\"this album is good its rating is\",rating)\n",
    "        isGoodRating()\n",
    "isGoodRating(10)"
   ]
  },
  {
   "cell_type": "code",
   "execution_count": 95,
   "id": "69ee5b17-04c4-432d-8d5f-99bfcb3dc50b",
   "metadata": {},
   "outputs": [
    {
     "name": "stdout",
     "output_type": "stream",
     "text": [
      "this album is good its rating is 10\n",
      "this album sucks it's rating is 6\n"
     ]
    }
   ],
   "source": [
    "def isGoodRating(rating=6): \n",
    "    if(rating < 7):\n",
    "        print(\"this album sucks it's rating is\",rating)\n",
    "        \n",
    "    else:\n",
    "        print(\"this album is good its rating is\",rating)\n",
    "        isGoodRating()\n",
    "isGoodRating(10)"
   ]
  },
  {
   "cell_type": "markdown",
   "id": "2c4274fc-4a9a-4e44-8941-1368ead94e81",
   "metadata": {},
   "source": [
    "### Global variables\n",
    "* #### We've been creating variables within functions, but we have not discussed variables outside the function. These are called global variables."
   ]
  },
  {
   "cell_type": "code",
   "execution_count": 97,
   "id": "92298bd4-235a-4769-9f34-634f1aaecf88",
   "metadata": {},
   "outputs": [
    {
     "name": "stdout",
     "output_type": "stream",
     "text": [
      "Michael Jackson is an artist\n"
     ]
    }
   ],
   "source": [
    "# Example of global variable\n",
    "\n",
    "artist = \"Michael Jackson\"\n",
    "def printer1(artist):\n",
    "    internal_var1 = artist\n",
    "    print(artist, \"is an artist\")\n",
    "    \n",
    "printer1(artist)\n",
    "# try runningthe following code\n",
    "#printer1(internal_var1) "
   ]
  },
  {
   "cell_type": "markdown",
   "id": "e135b68c-3db7-4cb3-8e4c-5ebfe61bae2f",
   "metadata": {},
   "source": [
    "__All the variables we create in the function is a local variable, meaning that the variable assignment does not persist outside the function.__\n",
    "\n",
    "But there is a way to create global variables from within a function."
   ]
  },
  {
   "cell_type": "code",
   "execution_count": 99,
   "id": "bcb177c4-bb2c-4a5d-a941-27a873e251dd",
   "metadata": {},
   "outputs": [
    {
     "ename": "SyntaxError",
     "evalue": "invalid non-printable character U+200B (3244201367.py, line 2)",
     "output_type": "error",
     "traceback": [
      "\u001b[0;36m  Cell \u001b[0;32mIn[99], line 2\u001b[0;36m\u001b[0m\n\u001b[0;31m    ​\u001b[0m\n\u001b[0m    ^\u001b[0m\n\u001b[0;31mSyntaxError\u001b[0m\u001b[0;31m:\u001b[0m invalid non-printable character U+200B\n"
     ]
    }
   ],
   "source": [
    "artist = \"Michael Jackson\"\n",
    "​\n",
    "def printer(artist):\n",
    "    global internal_var \n",
    "    internal_var= \"Whitney Houston\"\n",
    "    print(artist,\"is an artist\")\n",
    "​\n",
    "printer(artist) \n",
    "printer(internal_var)"
   ]
  },
  {
   "cell_type": "code",
   "execution_count": 100,
   "id": "f431bb82-9515-4efa-ae1b-94f8a928fc0b",
   "metadata": {},
   "outputs": [
    {
     "name": "stdout",
     "output_type": "stream",
     "text": [
      "Michael Jackson is an artist\n",
      "Whitney Houston is an artist\n"
     ]
    }
   ],
   "source": [
    "artist = \"Michael Jackson\"\n",
    "\n",
    "def printer(artist):\n",
    "    global internal_var \n",
    "    internal_var= \"Whitney Houston\"\n",
    "    print(artist,\"is an artist\")\n",
    "\n",
    "printer(artist) \n",
    "printer(internal_var)"
   ]
  },
  {
   "cell_type": "markdown",
   "id": "31ffd765-faa4-4d91-ab5d-9db0b28f977f",
   "metadata": {},
   "source": [
    "### Scope of a Variable "
   ]
  },
  {
   "cell_type": "markdown",
   "id": "69dbf970-7f74-41de-ba28-02fe2de9556c",
   "metadata": {},
   "source": [
    "* #### The scope of a variable is the part of that program where that variable is accessible. Variables that are declared outside of all function definitions, such as the <code>myFavouriteBand</code> variable in the code shown here, are accessible from anywhere within the program. As a result, such variables are said to have global scope, and are known as global variables. <code>myFavouriteBand</code> is a global variable, so it is accessible from within the <code>getBandRating</code> function, and we can use it to determine a band's rating. We can also use it outside of the function, such as when we pass it to the print function to display it.\n"
   ]
  },
  {
   "cell_type": "code",
   "execution_count": 101,
   "id": "c79ad01f-b681-444d-8432-586fa6bb4b81",
   "metadata": {},
   "outputs": [
    {
     "name": "stdout",
     "output_type": "stream",
     "text": [
      "AC/DC's rating is: 10.0\n",
      "Deep Purple's rating is: 0.0\n",
      "My favourite band is: AC/DC\n"
     ]
    }
   ],
   "source": [
    "# Example of global variable\n",
    "\n",
    "myFavouriteBand = \"AC/DC\"\n",
    "\n",
    "def getBandRating(bandname):\n",
    "    if bandname == myFavouriteBand:\n",
    "        return 10.0\n",
    "    else:\n",
    "        return 0.0\n",
    "\n",
    "print(\"AC/DC's rating is:\", getBandRating(\"AC/DC\"))\n",
    "print(\"Deep Purple's rating is:\",getBandRating(\"Deep Purple\"))\n",
    "print(\"My favourite band is:\", myFavouriteBand)"
   ]
  },
  {
   "cell_type": "markdown",
   "id": "e300fbb8-9a28-4c04-aa39-014f59c6f876",
   "metadata": {},
   "source": [
    "* ####  Now the myFavouriteBand variable is defined within the getBandRating function. *__A variable that is defined within a function is said to be a local variable of that function. That means that it is only accessible from within the function in which it is defined. Our getBandRating function will still work, because myFavouriteBand is still defined within the function. However, we can no longer print myFavouriteBand outside our function, because it is a local variable of our getBandRating function; it is only defined within the getBandRating function.__*\n",
    "\n"
   ]
  },
  {
   "cell_type": "code",
   "execution_count": 103,
   "id": "3da92fc3-3bbc-479c-b7a5-4f2533055b24",
   "metadata": {},
   "outputs": [
    {
     "ename": "NameError",
     "evalue": "name 'myFavouriteBand' is not defined",
     "output_type": "error",
     "traceback": [
      "\u001b[0;31m---------------------------------------------------------------------------\u001b[0m",
      "\u001b[0;31mNameError\u001b[0m                                 Traceback (most recent call last)",
      "Cell \u001b[0;32mIn[103], line 3\u001b[0m\n\u001b[1;32m      1\u001b[0m \u001b[38;5;66;03m# Deleting the variable \"myFavouriteBand\" from the previous example to demonstrate an example of a local variable \u001b[39;00m\n\u001b[0;32m----> 3\u001b[0m \u001b[38;5;28;01mdel\u001b[39;00m myFavouriteBand\n\u001b[1;32m      5\u001b[0m \u001b[38;5;66;03m# Example of local variable\u001b[39;00m\n\u001b[1;32m      7\u001b[0m \u001b[38;5;28;01mdef\u001b[39;00m \u001b[38;5;21mgetBandRating\u001b[39m(bandname):\n",
      "\u001b[0;31mNameError\u001b[0m: name 'myFavouriteBand' is not defined"
     ]
    }
   ],
   "source": [
    "# Deleting the variable \"myFavouriteBand\" from the previous example to demonstrate an example of a local variable \n",
    "\n",
    "del myFavouriteBand\n",
    "\n",
    "# Example of local variable\n",
    "\n",
    "def getBandRating(bandname):\n",
    "    myFavouriteBand = \"AC/DC\"\n",
    "    if bandname == myFavouriteBand:\n",
    "        return 10.0\n",
    "    else:\n",
    "        return 0.0\n",
    "\n",
    "print(\"AC/DC's rating is: \", getBandRating(\"AC/DC\"))\n",
    "print(\"Deep Purple's rating is: \", getBandRating(\"Deep Purple\"))"
   ]
  },
  {
   "cell_type": "markdown",
   "id": "5e85565a-9a2f-46ec-8016-e9730e5f5f5c",
   "metadata": {},
   "source": [
    "* #### There are now two myFavouriteBand variable definitions. The _first one of these has a global scope, and the second of them is a local variable within the getBandRating function. Within the getBandRating function, the local variable takes precedence._ Deep Purple will receive a rating of 10.0 when passed to the getBandRating function. However, outside of the getBandRating function, the getBandRating s local variable is not defined, so the myFavouriteBand variable we print is the global variable, which has a value of AC/DC."
   ]
  },
  {
   "cell_type": "code",
   "execution_count": 104,
   "id": "fb8b8300-dbed-4c5b-bb4d-958afdc38866",
   "metadata": {},
   "outputs": [
    {
     "name": "stdout",
     "output_type": "stream",
     "text": [
      "AC/DC's rating is: 0.0\n",
      "Deep Purple's rating is:  10.0\n",
      "My favourite band is: AC/DC\n"
     ]
    }
   ],
   "source": [
    "# Example of global variable and local variable with the same name\n",
    "\n",
    "myFavouriteBand = \"AC/DC\"\n",
    "\n",
    "def getBandRating(bandname):\n",
    "    myFavouriteBand = \"Deep Purple\"\n",
    "    if bandname == myFavouriteBand:\n",
    "        return 10.0\n",
    "    else:\n",
    "        return 0.0\n",
    "\n",
    "print(\"AC/DC's rating is:\",getBandRating(\"AC/DC\"))\n",
    "print(\"Deep Purple's rating is: \",getBandRating(\"Deep Purple\"))\n",
    "print(\"My favourite band is:\",myFavouriteBand)"
   ]
  },
  {
   "cell_type": "markdown",
   "id": "21ace9ff-faa2-4322-b205-b58c96ca1055",
   "metadata": {},
   "source": [
    "### Collections and Functions "
   ]
  },
  {
   "cell_type": "markdown",
   "id": "6c02fdce-0b68-4292-9c77-4bb025f7f09a",
   "metadata": {},
   "source": [
    "* When the number of arguments are unknown for a function, They can all be packed into a tuple."
   ]
  },
  {
   "cell_type": "code",
   "execution_count": 105,
   "id": "ac11c5b6-eae7-419c-9f5c-f25b041d7456",
   "metadata": {},
   "outputs": [
    {
     "name": "stdout",
     "output_type": "stream",
     "text": [
      "No of arguments: 3\n",
      "Horsefeather\n",
      "Adonis\n",
      "Bone\n",
      "No of arguments: 4\n",
      "Sidecar\n",
      "Long Island\n",
      "Mudslide\n",
      "Carriage\n"
     ]
    }
   ],
   "source": [
    "def printAll(*args): # All the arguments are 'packed' into args which can be treated like a tuple\n",
    "    print(\"No of arguments:\", len(args)) \n",
    "    for argument in args:\n",
    "        print(argument)\n",
    "#printAll with 3 arguments\n",
    "printAll('Horsefeather','Adonis','Bone')\n",
    "#printAll with 4 arguments\n",
    "printAll('Sidecar','Long Island','Mudslide','Carriage')"
   ]
  },
  {
   "cell_type": "markdown",
   "id": "77637da7-fba0-4a50-98b8-370931d1fbb5",
   "metadata": {},
   "source": [
    "* #### Similarly, The arguments can also be packed into a dictionary."
   ]
  },
  {
   "cell_type": "code",
   "execution_count": 106,
   "id": "f2c28129-a79a-4430-8cda-2ea76e438526",
   "metadata": {},
   "outputs": [
    {
     "name": "stdout",
     "output_type": "stream",
     "text": [
      "Country : Canada\n",
      "Province : Ontario\n",
      "City : Toronto\n"
     ]
    }
   ],
   "source": [
    "def printDictionary(**args):\n",
    "    for key in args:\n",
    "        print(key + \" : \" + args[key])\n",
    "\n",
    "printDictionary(Country='Canada',Province='Ontario',City='Toronto')\n",
    "    "
   ]
  },
  {
   "cell_type": "markdown",
   "id": "a92ddee0-b9ec-4df7-a542-cea27f8edccf",
   "metadata": {},
   "source": [
    "#### Functions can be incredibly powerful and versatile. They can accept (and return) data types, objects and even other functions as arguments."
   ]
  },
  {
   "cell_type": "code",
   "execution_count": 107,
   "id": "cce9566d-df1d-47bb-9d5a-7eba59ff91be",
   "metadata": {},
   "outputs": [
    {
     "data": {
      "text/plain": [
       "['One', 'Two', 'Three', 'Four']"
      ]
     },
     "execution_count": 107,
     "metadata": {},
     "output_type": "execute_result"
    }
   ],
   "source": [
    "def addItems(list):\n",
    "    list.append(\"Three\")\n",
    "    list.append(\"Four\")\n",
    "\n",
    "myList = [\"One\",\"Two\"]\n",
    "\n",
    "addItems(myList)\n",
    "\n",
    "myList\n",
    "    "
   ]
  },
  {
   "cell_type": "markdown",
   "id": "6dce834b-4626-4680-a523-305acde375bc",
   "metadata": {},
   "source": [
    "* #### Note how the changes made to the list are not limited to the functions scope. This occurs as it is the lists reference that is passed to the function - Any changes made are on the orignal instance of the list. Therefore, one should be cautious when passing mutable objects into functions."
   ]
  },
  {
   "cell_type": "markdown",
   "id": "e7e778dc-91a2-4e9c-ad29-abcfde70b51d",
   "metadata": {},
   "source": [
    "### Recap on Functions"
   ]
  },
  {
   "cell_type": "markdown",
   "id": "993ffaa8-8dbb-4693-8c53-bc7e7b9b16e2",
   "metadata": {},
   "source": [
    "* Come up with a function that divides the first input by the second input."
   ]
  },
  {
   "cell_type": "code",
   "execution_count": 108,
   "id": "f959247e-288d-4978-9c6c-a3bc67ee253a",
   "metadata": {},
   "outputs": [],
   "source": [
    "def div(a, b):\n",
    "    return(a/b)"
   ]
  },
  {
   "cell_type": "markdown",
   "id": "98465d04-7729-4f99-9836-11f060158ef6",
   "metadata": {},
   "source": [
    "* Can the con function we defined before be used to add two integers or strings?"
   ]
  },
  {
   "cell_type": "code",
   "execution_count": 112,
   "id": "8a074073-1c9e-4ee4-b36c-e71211ba8313",
   "metadata": {},
   "outputs": [
    {
     "data": {
      "text/plain": [
       "4"
      ]
     },
     "execution_count": 112,
     "metadata": {},
     "output_type": "execute_result"
    }
   ],
   "source": [
    "con(2,2)"
   ]
  },
  {
   "cell_type": "code",
   "execution_count": 115,
   "id": "2846fa60-25f9-4cd8-91b2-16f724e7efdf",
   "metadata": {},
   "outputs": [
    {
     "data": {
      "text/plain": [
       "'MichaelJackson'"
      ]
     },
     "execution_count": 115,
     "metadata": {},
     "output_type": "execute_result"
    }
   ],
   "source": [
    "a = 'Michael'\n",
    "b = 'Jackson'\n",
    "con(a,b)"
   ]
  },
  {
   "cell_type": "markdown",
   "id": "7e7e49ab-5456-4f75-8e09-cb4544018dab",
   "metadata": {},
   "source": [
    "* Can the con function we defined before be used to concatenate lists or tuples?"
   ]
  },
  {
   "cell_type": "code",
   "execution_count": 122,
   "id": "6ae81269-2f56-4d49-9880-e2fa1c5506f6",
   "metadata": {},
   "outputs": [
    {
     "data": {
      "text/plain": [
       "['a', 1, 'b', 1]"
      ]
     },
     "execution_count": 122,
     "metadata": {},
     "output_type": "execute_result"
    }
   ],
   "source": [
    "con(['a', 1], ['b', 1])"
   ]
  },
  {
   "cell_type": "markdown",
   "id": "03fb4309-f247-4a04-ba4b-40f03499d6c6",
   "metadata": {},
   "source": [
    "* Write a function code to find total count of word 'little' in the given string: \"Mary had a little lamb Little lamb, little lamb Mary had a little lamb.Its fleece was white as snow And everywhere that Mary went Mary went, Mary went Everywhere that Mary went The lamb was sure to go\""
   ]
  },
  {
   "cell_type": "code",
   "execution_count": 123,
   "id": "1753e617-dd6c-4e8d-8951-31809cd58f7e",
   "metadata": {},
   "outputs": [
    {
     "name": "stdout",
     "output_type": "stream",
     "text": [
      "Total Count: {'little': 3}\n"
     ]
    }
   ],
   "source": [
    "# Python Program to Count words in a String using Dictionary\n",
    "def freq(string,passedkey):\n",
    "\n",
    "    #step1: A list variable is declared and initialized to an empty list.\n",
    "    words = []\n",
    "\n",
    "    #step2: Break the string into list of words\n",
    "    words = string.split() # or string.lower().split()\n",
    "\n",
    "    #step3: Declare a dictionary\n",
    "    Dict = {}\n",
    "\n",
    "    #step4: Use for loop to iterate words and values to the dictionary\n",
    "    for key in words:\n",
    "        if(key == passedkey):\n",
    "            Dict[key] = words.count(key)   \n",
    "    #step5: Print the dictionary\n",
    "    print(\"Total Count:\",Dict)\n",
    "\n",
    "#step6: Call function and pass string in it\n",
    "freq(\"Mary had a little lamb Little lamb, little lamb Mary had a little lamb.Its fleece was white as snow And everywhere that Mary went Mary went, Mary went \\\n",
    "Everywhere that Mary went The lamb was sure to go\",\"little\")"
   ]
  }
 ],
 "metadata": {
  "kernelspec": {
   "display_name": "Python 3 (ipykernel)",
   "language": "python",
   "name": "python3"
  },
  "language_info": {
   "codemirror_mode": {
    "name": "ipython",
    "version": 3
   },
   "file_extension": ".py",
   "mimetype": "text/x-python",
   "name": "python",
   "nbconvert_exporter": "python",
   "pygments_lexer": "ipython3",
   "version": "3.12.4"
  }
 },
 "nbformat": 4,
 "nbformat_minor": 5
}
