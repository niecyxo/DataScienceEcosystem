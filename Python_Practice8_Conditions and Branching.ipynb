{
 "cells": [
  {
   "cell_type": "markdown",
   "id": "cd183cc6-af18-4317-a71d-69166b5d5278",
   "metadata": {},
   "source": [
    "# Python Practice 8"
   ]
  },
  {
   "cell_type": "markdown",
   "id": "4bca3662-02af-490a-b658-60390396b30f",
   "metadata": {},
   "source": [
    "## This document is part 8 of the composition of Python language in Jupyter Notebooks; Established to show basic understanding of coding to work with condition statements in Python, including operators, and branching."
   ]
  },
  {
   "cell_type": "markdown",
   "id": "6db120be-9aed-4d87-b07e-09bad733590b",
   "metadata": {},
   "source": [
    "### Condition Statements"
   ]
  },
  {
   "cell_type": "markdown",
   "id": "52625283-e6c9-4104-b4d3-68d399bce07f",
   "metadata": {},
   "source": [
    "* ### Comparison operations compare some value or operand and based on a condition, produce a Boolean. When comparing two values you can use these operators:\n",
    "\n",
    "1. equal: ==\n",
    "2. not equal: !=\n",
    "3. greater than: >\n",
    "4. less than: <\n",
    "5. greater than or equal to: >=\n",
    "6. less than or equal to: <="
   ]
  },
  {
   "cell_type": "markdown",
   "id": "2c79bb7e-7b12-4239-b505-e7aaac8e1a65",
   "metadata": {},
   "source": [
    "* Let's assign 'a' value of 5. Use the equality operator denoted with two equal == signs to determine if two values are equal. The case below compares the variable a with 6."
   ]
  },
  {
   "cell_type": "code",
   "execution_count": 72,
   "id": "12e69a83-abf6-4f4f-bc3d-f7de411a053c",
   "metadata": {},
   "outputs": [
    {
     "data": {
      "text/plain": [
       "False"
      ]
     },
     "execution_count": 72,
     "metadata": {},
     "output_type": "execute_result"
    }
   ],
   "source": [
    "# Condition Equal\n",
    "\n",
    "a = 5\n",
    "a == 6"
   ]
  },
  {
   "cell_type": "markdown",
   "id": "fc7f785e-1736-4efe-b8fb-44e1f0e6a253",
   "metadata": {},
   "source": [
    "* Consider the following equality comparison operator: __i > 5__. If the value of the __left operand, in this case the variable i, is greater than the value of the right operand, in this case 5, then the statement is True.__ Otherwise, the statement is False. **If i is equal to 6, because 6 is larger than 5, the output is True.**"
   ]
  },
  {
   "cell_type": "code",
   "execution_count": 2,
   "id": "9c0b1187-e4ef-435d-9503-3d49d38586af",
   "metadata": {},
   "outputs": [
    {
     "data": {
      "text/plain": [
       "True"
      ]
     },
     "execution_count": 2,
     "metadata": {},
     "output_type": "execute_result"
    }
   ],
   "source": [
    "# Greater than Sign\n",
    "\n",
    "i = 6\n",
    "i > 5"
   ]
  },
  {
   "cell_type": "markdown",
   "id": "d7113756-4375-4e7b-b599-b5861e3afaac",
   "metadata": {},
   "source": [
    "* Set i = 2. The statement is False as 2 is not greater than 5"
   ]
  },
  {
   "cell_type": "code",
   "execution_count": 6,
   "id": "f2a21f76-02d2-491b-a5f0-884420cd8858",
   "metadata": {},
   "outputs": [
    {
     "data": {
      "text/plain": [
       "False"
      ]
     },
     "execution_count": 6,
     "metadata": {},
     "output_type": "execute_result"
    }
   ],
   "source": [
    "i = 2\n",
    "i > 2"
   ]
  },
  {
   "cell_type": "markdown",
   "id": "b505747f-7c6d-432f-bcad-21f0800269be",
   "metadata": {},
   "source": [
    "* Display some values for i in the figure. Set the values greater than 5 in green and the rest in red. The green region represents where the condition is True, the red where the statement is False. If the value of i is 2, we get False as the 2 falls in the red region. Similarly, if the value for i is 6 we get a True as the condition falls in the green region."
   ]
  },
  {
   "cell_type": "markdown",
   "id": "78af65b9-8855-43fa-bc92-0be40a06481e",
   "metadata": {},
   "source": [
    "<img src=\"https://cf-courses-data.s3.us.cloud-object-storage.appdomain.cloud/IBMDeveloperSkillsNetwork-PY0101EN-SkillsNetwork/labs/Module%203/images/CondsGreater.gif\" width=\"650\">"
   ]
  },
  {
   "cell_type": "markdown",
   "id": "d2d6810b-b95d-42f8-9cec-edac44d9a2b1",
   "metadata": {},
   "source": [
    "* The __inequality test uses an exclamation mark preceding the equal sign (!=)__ , if two operands are not equal then the condition becomes True.\n",
    "    * i.e the following condition will produce True as long as the value of i is not equal to 6"
   ]
  },
  {
   "cell_type": "code",
   "execution_count": 7,
   "id": "0c654c04-bacb-4fc6-8942-a74cec161371",
   "metadata": {},
   "outputs": [
    {
     "data": {
      "text/plain": [
       "True"
      ]
     },
     "execution_count": 7,
     "metadata": {},
     "output_type": "execute_result"
    }
   ],
   "source": [
    "# Inequality Sign\n",
    "\n",
    "i = 2\n",
    "i != 6"
   ]
  },
  {
   "cell_type": "code",
   "execution_count": 9,
   "id": "78c39144-f9cc-40e5-a95b-aa38f5dcb458",
   "metadata": {},
   "outputs": [
    {
     "data": {
      "text/plain": [
       "True"
      ]
     },
     "execution_count": 9,
     "metadata": {},
     "output_type": "execute_result"
    }
   ],
   "source": [
    "i = 2 \n",
    "i != 9"
   ]
  },
  {
   "cell_type": "code",
   "execution_count": 10,
   "id": "385c89c3-5cd1-43b2-8a23-187d3cec65c0",
   "metadata": {},
   "outputs": [
    {
     "data": {
      "text/plain": [
       "False"
      ]
     },
     "execution_count": 10,
     "metadata": {},
     "output_type": "execute_result"
    }
   ],
   "source": [
    "i = 2 \n",
    "i != 2 "
   ]
  },
  {
   "cell_type": "code",
   "execution_count": 11,
   "id": "13bfb4ab-9052-42b4-9786-9df8e78e7c42",
   "metadata": {},
   "outputs": [
    {
     "data": {
      "text/plain": [
       "False"
      ]
     },
     "execution_count": 11,
     "metadata": {},
     "output_type": "execute_result"
    }
   ],
   "source": [
    "i = 6 \n",
    "i != 6 "
   ]
  },
  {
   "cell_type": "markdown",
   "id": "ea28d628-35be-4993-979f-81b40152dc82",
   "metadata": {},
   "source": [
    "* #### We can apply the same methods on strings. For example, we can use an equality operator on two different strings. As the strings are not equal, we get a False."
   ]
  },
  {
   "cell_type": "code",
   "execution_count": 12,
   "id": "9ae83c40-24e5-4597-a520-77b4fe3b2cfa",
   "metadata": {},
   "outputs": [
    {
     "data": {
      "text/plain": [
       "False"
      ]
     },
     "execution_count": 12,
     "metadata": {},
     "output_type": "execute_result"
    }
   ],
   "source": [
    "# Use Equality sign to compare the strings\n",
    "\n",
    "\"ACDC\" == \"Michael Jackson\""
   ]
  },
  {
   "cell_type": "code",
   "execution_count": 13,
   "id": "b699d99b-be94-4865-b401-97ae5228602a",
   "metadata": {},
   "outputs": [
    {
     "data": {
      "text/plain": [
       "False"
      ]
     },
     "execution_count": 13,
     "metadata": {},
     "output_type": "execute_result"
    }
   ],
   "source": [
    "'Beyonce' == 'Drake'"
   ]
  },
  {
   "cell_type": "code",
   "execution_count": 15,
   "id": "a98aef8d-42d1-407f-b378-d0382b4c1e92",
   "metadata": {},
   "outputs": [
    {
     "data": {
      "text/plain": [
       "True"
      ]
     },
     "execution_count": 15,
     "metadata": {},
     "output_type": "execute_result"
    }
   ],
   "source": [
    "'Beyonce' == 'Beyonce'"
   ]
  },
  {
   "cell_type": "code",
   "execution_count": 16,
   "id": "b257c520-6b41-472f-bd88-c55c68a3d6e2",
   "metadata": {},
   "outputs": [
    {
     "data": {
      "text/plain": [
       "False"
      ]
     },
     "execution_count": 16,
     "metadata": {},
     "output_type": "execute_result"
    }
   ],
   "source": [
    "'Beyonce' != 'Beyonce'"
   ]
  },
  {
   "cell_type": "code",
   "execution_count": 17,
   "id": "0046aa2a-3915-4989-985f-5859e2fbd047",
   "metadata": {},
   "outputs": [
    {
     "data": {
      "text/plain": [
       "True"
      ]
     },
     "execution_count": 17,
     "metadata": {},
     "output_type": "execute_result"
    }
   ],
   "source": [
    "'Beyonce' != 'Drake'"
   ]
  },
  {
   "cell_type": "markdown",
   "id": "f297aceb-9f4a-403d-b4ea-a7c86a58b658",
   "metadata": {},
   "source": [
    "* ### The inequality operation is also used to compare the letters/words/symbols according to the ASCII value of letters. The decimal value shown in the following represents the order of the character."
   ]
  },
  {
   "cell_type": "markdown",
   "id": "82451860-5b69-4d20-9b4d-40924b5802b2",
   "metadata": {},
   "source": [
    "<style type=\"text/css\">\n",
    ".tg  {border-collapse:collapse;border-spacing:0;}\n",
    ".tg td{border-color:black;border-style:solid;border-width:1px;font-family:Arial, sans-serif;font-size:14px;\n",
    "  overflow:hidden;padding:10px 5px;word-break:normal;}\n",
    ".tg th{border-color:black;border-style:solid;border-width:1px;font-family:Arial, sans-serif;font-size:14px;\n",
    "  font-weight:normal;overflow:hidden;padding:10px 5px;word-break:normal;}\n",
    ".tg .tg-baqh{text-align:center;vertical-align:top}\n",
    ".tg .tg-7geq{background-color:#ffffc7;text-align:center;vertical-align:top}\n",
    ".tg .tg-1cln{background-color:#ffcc67;font-size:100%;font-weight:bold;text-align:center;vertical-align:top}\n",
    ".tg .tg-xozw{background-color:#ffcc67;font-weight:bold;text-align:center;vertical-align:top}\n",
    "</style>\n",
    "\n",
    "<table class=\"tg\">\n",
    "<thead>\n",
    "  <tr>\n",
    "    <th class=\"tg-1cln\">Char.</th>\n",
    "    <th class=\"tg-xozw\">ASCII</th>\n",
    "    <th class=\"tg-xozw\">Char.</th>\n",
    "    <th class=\"tg-xozw\">ASCII</th>\n",
    "    <th class=\"tg-xozw\">Char.</th>\n",
    "    <th class=\"tg-xozw\">ASCII</th>\n",
    "    <th class=\"tg-xozw\">Char.</th>\n",
    "    <th class=\"tg-xozw\">ASCII</th>\n",
    "  </tr>\n",
    "</thead>\n",
    "<tbody>\n",
    "  <tr>\n",
    "    <td class=\"tg-7geq\">A</td>\n",
    "    <td class=\"tg-baqh\">65</td>\n",
    "    <td class=\"tg-7geq\">N</td>\n",
    "    <td class=\"tg-baqh\">78</td>\n",
    "    <td class=\"tg-7geq\">a</td>\n",
    "    <td class=\"tg-baqh\">97</td>\n",
    "    <td class=\"tg-7geq\">n</td>\n",
    "    <td class=\"tg-baqh\">110</td>\n",
    "  </tr>\n",
    "  <tr>\n",
    "    <td class=\"tg-7geq\">B</td>\n",
    "    <td class=\"tg-baqh\">66</td>\n",
    "    <td class=\"tg-7geq\">O</td>\n",
    "    <td class=\"tg-baqh\">79</td>\n",
    "    <td class=\"tg-7geq\">b</td>\n",
    "    <td class=\"tg-baqh\">98</td>\n",
    "    <td class=\"tg-7geq\">o</td>\n",
    "    <td class=\"tg-baqh\">111</td>\n",
    "  </tr>\n",
    "  <tr>\n",
    "    <td class=\"tg-7geq\">C</td>\n",
    "    <td class=\"tg-baqh\">67</td>\n",
    "    <td class=\"tg-7geq\">P</td>\n",
    "    <td class=\"tg-baqh\">80</td>\n",
    "    <td class=\"tg-7geq\">c</td>\n",
    "    <td class=\"tg-baqh\">99</td>\n",
    "    <td class=\"tg-7geq\">p</td>\n",
    "    <td class=\"tg-baqh\">112</td>\n",
    "  </tr>\n",
    "  <tr>\n",
    "    <td class=\"tg-7geq\">D</td>\n",
    "    <td class=\"tg-baqh\">68</td>\n",
    "    <td class=\"tg-7geq\">Q</td>\n",
    "    <td class=\"tg-baqh\">81</td>\n",
    "    <td class=\"tg-7geq\">d</td>\n",
    "    <td class=\"tg-baqh\">100</td>\n",
    "    <td class=\"tg-7geq\">q</td>\n",
    "    <td class=\"tg-baqh\">113</td>\n",
    "  </tr>\n",
    "  <tr>\n",
    "    <td class=\"tg-7geq\">E</td>\n",
    "    <td class=\"tg-baqh\">69</td>\n",
    "    <td class=\"tg-7geq\">R</td>\n",
    "    <td class=\"tg-baqh\">82</td>\n",
    "    <td class=\"tg-7geq\">e</td>\n",
    "    <td class=\"tg-baqh\">101</td>\n",
    "    <td class=\"tg-7geq\">r</td>\n",
    "    <td class=\"tg-baqh\">114</td>\n",
    "  </tr>\n",
    "  <tr>\n",
    "    <td class=\"tg-7geq\">F</td>\n",
    "    <td class=\"tg-baqh\">70</td>\n",
    "    <td class=\"tg-7geq\">S</td>\n",
    "    <td class=\"tg-baqh\">83</td>\n",
    "    <td class=\"tg-7geq\">f</td>\n",
    "    <td class=\"tg-baqh\">102</td>\n",
    "    <td class=\"tg-7geq\">s</td>\n",
    "    <td class=\"tg-baqh\">115</td>\n",
    "  </tr>\n",
    "  <tr>\n",
    "    <td class=\"tg-7geq\">G</td>\n",
    "    <td class=\"tg-baqh\">71</td>\n",
    "    <td class=\"tg-7geq\">T</td>\n",
    "    <td class=\"tg-baqh\">84</td>\n",
    "    <td class=\"tg-7geq\">g</td>\n",
    "    <td class=\"tg-baqh\">103</td>\n",
    "    <td class=\"tg-7geq\">t</td>\n",
    "    <td class=\"tg-baqh\">116</td>\n",
    "  </tr>\n",
    "  <tr>\n",
    "    <td class=\"tg-7geq\">H</td>\n",
    "    <td class=\"tg-baqh\">72</td>\n",
    "    <td class=\"tg-7geq\">U</td>\n",
    "    <td class=\"tg-baqh\">85</td>\n",
    "    <td class=\"tg-7geq\">h</td>\n",
    "    <td class=\"tg-baqh\">104</td>\n",
    "    <td class=\"tg-7geq\">u</td>\n",
    "    <td class=\"tg-baqh\">117</td>\n",
    "  </tr>\n",
    "  <tr>\n",
    "    <td class=\"tg-7geq\">I</td>\n",
    "    <td class=\"tg-baqh\">73</td>\n",
    "    <td class=\"tg-7geq\">V</td>\n",
    "    <td class=\"tg-baqh\">86</td>\n",
    "    <td class=\"tg-7geq\">i</td>\n",
    "    <td class=\"tg-baqh\">105</td>\n",
    "    <td class=\"tg-7geq\">v</td>\n",
    "    <td class=\"tg-baqh\">118</td>\n",
    "  </tr>\n",
    "  <tr>\n",
    "    <td class=\"tg-7geq\">J</td>\n",
    "    <td class=\"tg-baqh\">74</td>\n",
    "    <td class=\"tg-7geq\">W</td>\n",
    "    <td class=\"tg-baqh\">87</td>\n",
    "    <td class=\"tg-7geq\">j</td>\n",
    "    <td class=\"tg-baqh\">106</td>\n",
    "    <td class=\"tg-7geq\">w</td>\n",
    "    <td class=\"tg-baqh\">119</td>\n",
    "  </tr>\n",
    "  <tr>\n",
    "    <td class=\"tg-7geq\">K</td>\n",
    "    <td class=\"tg-baqh\">75</td>\n",
    "    <td class=\"tg-7geq\">X</td>\n",
    "    <td class=\"tg-baqh\">88</td>\n",
    "    <td class=\"tg-7geq\">k</td>\n",
    "    <td class=\"tg-baqh\">107</td>\n",
    "    <td class=\"tg-7geq\">x</td>\n",
    "    <td class=\"tg-baqh\">120</td>\n",
    "  </tr>\n",
    "  <tr>\n",
    "    <td class=\"tg-7geq\">L</td>\n",
    "    <td class=\"tg-baqh\">76</td>\n",
    "    <td class=\"tg-7geq\">Y</td>\n",
    "    <td class=\"tg-baqh\">89</td>\n",
    "    <td class=\"tg-7geq\">l</td>\n",
    "    <td class=\"tg-baqh\">108</td>\n",
    "    <td class=\"tg-7geq\">y</td>\n",
    "    <td class=\"tg-baqh\">121</td>\n",
    "  </tr>\n",
    "  <tr>\n",
    "    <td class=\"tg-7geq\">M</td>\n",
    "    <td class=\"tg-baqh\">77</td>\n",
    "    <td class=\"tg-7geq\">Z</td>\n",
    "    <td class=\"tg-baqh\">90</td>\n",
    "    <td class=\"tg-7geq\">m</td>\n",
    "    <td class=\"tg-baqh\">109</td>\n",
    "    <td class=\"tg-7geq\">z</td>\n",
    "    <td class=\"tg-baqh\">122</td>\n",
    "  </tr>\n",
    "</tbody>\n",
    "</table>"
   ]
  },
  {
   "cell_type": "markdown",
   "id": "f53899e8-a4a1-44d3-be55-2e12dcf11da1",
   "metadata": {},
   "source": [
    "* From the table above we see that the value for A is 65, and the value for B is 66."
   ]
  },
  {
   "cell_type": "code",
   "execution_count": 18,
   "id": "39913078-81ff-4200-83b5-a47f801ab974",
   "metadata": {},
   "outputs": [
    {
     "data": {
      "text/plain": [
       "True"
      ]
     },
     "execution_count": 18,
     "metadata": {},
     "output_type": "execute_result"
    }
   ],
   "source": [
    "# Compare characters\n",
    "\n",
    "'B' > 'A'"
   ]
  },
  {
   "cell_type": "markdown",
   "id": "9fd3f996-37d9-4a14-b92f-a9b5640cb776",
   "metadata": {},
   "source": [
    "* ### When there are multiple letters, the first letter takes precedence in ordering."
   ]
  },
  {
   "cell_type": "code",
   "execution_count": 19,
   "id": "3c7ecb61-b7ae-4b16-bbf0-895db6ec4667",
   "metadata": {},
   "outputs": [
    {
     "data": {
      "text/plain": [
       "True"
      ]
     },
     "execution_count": 19,
     "metadata": {},
     "output_type": "execute_result"
    }
   ],
   "source": [
    "# Compare characters\n",
    "\n",
    "'BA' > 'AB'"
   ]
  },
  {
   "cell_type": "markdown",
   "id": "403038d7-416f-4dad-869c-78ab8cc5ae03",
   "metadata": {},
   "source": [
    "* #### Note: Upper Case Letters have different ASCII code than Lower Case Letters, which means the comparison between the letters in Python is case-sensitive."
   ]
  },
  {
   "cell_type": "markdown",
   "id": "f0f49525-2761-46e2-bf21-65ff8c952412",
   "metadata": {},
   "source": [
    "## Branching: Allows us to run *different statements for different inputs.* It is helpful to think of: _an 'if' statement as a locked room; if the statement is True we can enter the room and your program will run some predefined tasks, but if the statement is False the program will ignore the task._"
   ]
  },
  {
   "cell_type": "markdown",
   "id": "9ef9cb9c-e4e2-480a-8595-c5258565a39a",
   "metadata": {},
   "source": [
    "* ### We can use the condition statements learned before as the conditions that need to be checked in the if statement. The syntax is as simple as  _'if:'_ --  which contains a word if, any condition statement, and a colon at the end.\n",
    "     * Start your tasks which need to be executed under this condition in a new line with an indent.\n",
    "     * The lines of code _after the colon and with an indent will only be executed when the if statement is True._ The tasks will end when the line of code does not contain the indent."
   ]
  },
  {
   "cell_type": "markdown",
   "id": "fa4e853f-38b1-4ba4-a439-b7b9b7c21438",
   "metadata": {},
   "source": [
    "* ### Ex: The code print(“you can enter”) is executed _only if the variable age is greater than 18 is a True case because this line of code has the indent._ However, the execution of *print(“move on”) will not be influenced by the if statement.*"
   ]
  },
  {
   "cell_type": "code",
   "execution_count": 20,
   "id": "06e55e84-a459-441d-9446-ef2347500554",
   "metadata": {},
   "outputs": [
    {
     "name": "stdout",
     "output_type": "stream",
     "text": [
      "you can enter\n",
      "move on\n"
     ]
    }
   ],
   "source": [
    "# If statement example\n",
    "\n",
    "age = 19\n",
    "#age = 18\n",
    "\n",
    "#expression that can be true or false\n",
    "if age > 18:\n",
    "    \n",
    "    #within an indent, we have the expression that is run if the condition is true\n",
    "    print(\"you can enter\" )\n",
    "\n",
    "#The statements after the if statement will run regardless if the condition is true or false \n",
    "print(\"move on\")"
   ]
  },
  {
   "cell_type": "code",
   "execution_count": 24,
   "id": "6c1587f5-42f1-4e73-b50a-8aaa39c1f2b1",
   "metadata": {},
   "outputs": [
    {
     "name": "stdout",
     "output_type": "stream",
     "text": [
      "move on\n"
     ]
    }
   ],
   "source": [
    "age = 17 \n",
    "#age = 18 \n",
    "\n",
    "if age > 18:\n",
    "    print('you can enter')\n",
    "print('move on')    "
   ]
  },
  {
   "cell_type": "code",
   "execution_count": 26,
   "id": "b4f73232-4e45-4685-8faf-e5f9883621ab",
   "metadata": {},
   "outputs": [
    {
     "name": "stdout",
     "output_type": "stream",
     "text": [
      "you can enter\n",
      "move on\n"
     ]
    }
   ],
   "source": [
    "age = 21 \n",
    "#age = 18 \n",
    "\n",
    "if age > 18: \n",
    "    print('you can enter')\n",
    "print('move on')"
   ]
  },
  {
   "cell_type": "markdown",
   "id": "566a83af-24da-48d8-ab76-c7af74f8b7de",
   "metadata": {},
   "source": [
    "* On the left side, _we see what happens when the condition is True._ The person _enters the ACDC concert representing the code in the indent being executed; they then move on._ On the right side, *we see what happens when the condition is False; the person is not granted access, and the person moves on.* In this case, the segment of code in the indent does not run, but the rest of the statements are run."
   ]
  },
  {
   "cell_type": "markdown",
   "id": "451cb53b-b5cd-4fb0-bc60-b275c023e698",
   "metadata": {},
   "source": [
    "<img src=\"https://cf-courses-data.s3.us.cloud-object-storage.appdomain.cloud/IBMDeveloperSkillsNetwork-PY0101EN-SkillsNetwork/labs/Module%203/images/CondsIf.gif\" width=\"650\">"
   ]
  },
  {
   "cell_type": "markdown",
   "id": "a95279bc-b7d2-4753-add5-c31c53bf9ee9",
   "metadata": {},
   "source": [
    "* ## The Else Statement: Runs a block of code _if none of the conditions are True before this else statement._ Let's use the ACDC concert analogy again. _If the user is 17 they cannot go to the ACDC concert, but they can go to the Meatloaf concert._ The syntax of the else statement is similar as the syntax of the if statement, as *'else :'*. Notice that, there is no condition statement for else. Try changing the values of age to see what happens."
   ]
  },
  {
   "cell_type": "code",
   "execution_count": 27,
   "id": "52f675ed-a77d-4143-bd3d-f00bfb05bfe5",
   "metadata": {},
   "outputs": [
    {
     "name": "stdout",
     "output_type": "stream",
     "text": [
      "go see Meat Loaf\n",
      "move on\n"
     ]
    }
   ],
   "source": [
    "# Else statement example\n",
    "\n",
    "age = 18\n",
    "# age = 19\n",
    "\n",
    "if age > 18:\n",
    "    print(\"you can enter\" )\n",
    "else:\n",
    "    print(\"go see Meat Loaf\" )\n",
    "    \n",
    "print(\"move on\")"
   ]
  },
  {
   "cell_type": "code",
   "execution_count": 28,
   "id": "e4bad990-4a77-4990-86ef-d9fd576a6853",
   "metadata": {},
   "outputs": [
    {
     "name": "stdout",
     "output_type": "stream",
     "text": [
      "you can enter\n",
      "move on\n"
     ]
    }
   ],
   "source": [
    "age = 19 \n",
    "# age = 17 \n",
    "\n",
    "if age > 18: \n",
    "    print('you can enter')\n",
    "else: \n",
    "    print('go see Meat Loaf')\n",
    "\n",
    "print('move on')"
   ]
  },
  {
   "cell_type": "code",
   "execution_count": 30,
   "id": "5088b645-befb-4b81-a88e-c0be3804792e",
   "metadata": {},
   "outputs": [
    {
     "name": "stdout",
     "output_type": "stream",
     "text": [
      "you can enter\n",
      "move on\n"
     ]
    }
   ],
   "source": [
    "age = 21\n",
    "# age = 18 \n",
    "\n",
    "if age > 18 :\n",
    "    print('you can enter')\n",
    "else: \n",
    "    print('go see Meat Loaf')\n",
    "print('move on')"
   ]
  },
  {
   "cell_type": "markdown",
   "id": "95f956ab-55bd-4f10-84c3-b10d3bf6754a",
   "metadata": {},
   "source": [
    "### Elif Statement: Short for 'else if'; allows us to check additional conditions _if the condition statements before it are False. If the condition for the elif statement is True, the alternate expressions will be run._ Consider the concert example, where _if the individual is 18 they will go to the Pink Floyd concert instead of attending the ACDC or Meat-loaf concert._ A person that is *18 years of age enters the area, and as they are not older than 18 they can not see ACDC, but since they are 18 years of age, they attend Pink Floyd. After seeing Pink Floyd, they move on.*  __The syntax of the elif statement is similar in that we merely change the if in the if statement to elif.__"
   ]
  },
  {
   "cell_type": "code",
   "execution_count": 31,
   "id": "48e6661e-ca5e-4448-9c76-f6054419589b",
   "metadata": {},
   "outputs": [
    {
     "name": "stdout",
     "output_type": "stream",
     "text": [
      "go see Pink Floyd\n",
      "move on\n"
     ]
    }
   ],
   "source": [
    "# Elif statment example\n",
    "\n",
    "age = 18\n",
    "\n",
    "if age > 18:\n",
    "    print(\"you can enter\" )\n",
    "elif age == 18:\n",
    "    print(\"go see Pink Floyd\")\n",
    "else:\n",
    "    print(\"go see Meat Loaf\" )\n",
    "    \n",
    "print(\"move on\")"
   ]
  },
  {
   "cell_type": "code",
   "execution_count": 33,
   "id": "6d770999-91f6-4462-82f1-7ca782d5905a",
   "metadata": {},
   "outputs": [
    {
     "name": "stdout",
     "output_type": "stream",
     "text": [
      "you can enter\n",
      "move on\n"
     ]
    }
   ],
   "source": [
    "age = 21 \n",
    "\n",
    "if age > 18: \n",
    "    print('you can enter')\n",
    "elif age == 18: \n",
    "    print('go see Pink Floyd')\n",
    "else:\n",
    "    print('go see Meat Loaf')\n",
    "print('move on')     "
   ]
  },
  {
   "cell_type": "code",
   "execution_count": 34,
   "id": "7dc48850-9d5c-46f6-991b-77031302291d",
   "metadata": {},
   "outputs": [
    {
     "name": "stdout",
     "output_type": "stream",
     "text": [
      "go see Meat Loaf\n",
      "move on\n"
     ]
    }
   ],
   "source": [
    "age = 16 \n",
    "\n",
    "if age > 18: \n",
    "    print('you can enter')\n",
    "elif age == 18: \n",
    "    print('you can see Pink Floyd')\n",
    "else: \n",
    "    print('go see Meat Loaf')\n",
    "print('move on')"
   ]
  },
  {
   "cell_type": "markdown",
   "id": "c1638d4d-ed48-44f7-8315-1d1669fedc89",
   "metadata": {},
   "source": [
    "#### Condition Statement Ex. "
   ]
  },
  {
   "cell_type": "code",
   "execution_count": 35,
   "id": "2321988e-98fb-424e-9175-5ac414cbdbc8",
   "metadata": {},
   "outputs": [
    {
     "name": "stdout",
     "output_type": "stream",
     "text": [
      "do something..\n"
     ]
    }
   ],
   "source": [
    "# Condition statement example\n",
    "\n",
    "album_year = 1983\n",
    "album_year = 1970\n",
    "\n",
    "if album_year > 1980:\n",
    "    print(\"Album year is greater than 1980\")\n",
    "    \n",
    "print('do something..')"
   ]
  },
  {
   "cell_type": "code",
   "execution_count": 36,
   "id": "35163c1f-9923-4d4c-8459-8f92b7a02355",
   "metadata": {},
   "outputs": [
    {
     "name": "stdout",
     "output_type": "stream",
     "text": [
      "Album year is greater than 2010\n",
      "i like it\n"
     ]
    }
   ],
   "source": [
    "album_year = 2000\n",
    "album_year = 2016\n",
    "\n",
    "if album_year > 2010: \n",
    "    print('Album year is greater than 2010')\n",
    "print('i like it')"
   ]
  },
  {
   "cell_type": "markdown",
   "id": "8323f6b5-496b-4575-a9d1-6ea47cf591cd",
   "metadata": {},
   "source": [
    "* ### As before, we can add an 'else' block to the 'if' block. The code in the 'else' block will only be executed 'if' the result is False.\n",
    "\n",
    "Syntax:\n",
    "\n",
    "if (condition): # do something else: # do something else"
   ]
  },
  {
   "cell_type": "code",
   "execution_count": 37,
   "id": "49012f54-3ba9-4b86-9b82-275964dfca40",
   "metadata": {},
   "outputs": [
    {
     "name": "stdout",
     "output_type": "stream",
     "text": [
      "Album year is greater than 1980\n",
      "do something..\n"
     ]
    }
   ],
   "source": [
    "# Condition statement example\n",
    "\n",
    "album_year = 1983\n",
    "#album_year = 1970\n",
    "\n",
    "if album_year > 1980:\n",
    "    print(\"Album year is greater than 1980\")\n",
    "else:\n",
    "    print(\"less than 1980\")\n",
    "\n",
    "print('do something..')"
   ]
  },
  {
   "cell_type": "code",
   "execution_count": 38,
   "id": "018cb172-c4fe-47a0-81d9-7f74f13c54e9",
   "metadata": {},
   "outputs": [
    {
     "name": "stdout",
     "output_type": "stream",
     "text": [
      "less than 2002\n",
      "do something\n"
     ]
    }
   ],
   "source": [
    "album_year = 2001 \n",
    "#album_year = 2003 \n",
    "\n",
    "if album_year > 2002:\n",
    "    print('Album year is greater than 2002.')\n",
    "else: \n",
    "    print('less than 2002')\n",
    "print('do something')"
   ]
  },
  {
   "cell_type": "code",
   "execution_count": 39,
   "id": "ab352b91-d144-4458-988b-0762ed892a29",
   "metadata": {},
   "outputs": [
    {
     "name": "stdout",
     "output_type": "stream",
     "text": [
      "less than 2002\n",
      "go home\n"
     ]
    }
   ],
   "source": [
    "birth_year = 2000\n",
    "#birth_year = 2004 \n",
    "\n",
    "if birth_year > 2002: \n",
    "    print('birth year is greater than 2002')\n",
    "else: \n",
    "    print('less than 2002')\n",
    "print('go home')"
   ]
  },
  {
   "cell_type": "markdown",
   "id": "2a291b0e-fc75-4c43-9417-088ada8bc1bc",
   "metadata": {},
   "source": [
    "### Logical Operators: Allow you to combine or modify conditions.\n",
    "\n",
    "* 'and': _statement is only True when BOTH conditions are true._\n",
    "* 'or': statement is _True if *__ONE__* condition, or both are True._\n",
    "* 'not': *__statement outputs the opposite truth value.__*"
   ]
  },
  {
   "cell_type": "markdown",
   "id": "36f5a515-4133-4035-8698-b4dc3cfe5416",
   "metadata": {},
   "source": [
    "### IF / AND STATEMENT "
   ]
  },
  {
   "cell_type": "code",
   "execution_count": 40,
   "id": "782e07b2-8205-4965-a6bb-75131589deb0",
   "metadata": {},
   "outputs": [
    {
     "name": "stdout",
     "output_type": "stream",
     "text": [
      "Album year was in between 1980 and 1989\n",
      "\n",
      "Do Stuff..\n"
     ]
    }
   ],
   "source": [
    "# Condition statement example\n",
    "\n",
    "album_year = 1980\n",
    "\n",
    "if(album_year > 1979) and (album_year < 1990):\n",
    "    print (\"Album year was in between 1980 and 1989\")\n",
    "    \n",
    "print(\"\")\n",
    "print(\"Do Stuff..\")"
   ]
  },
  {
   "cell_type": "markdown",
   "id": "0bc670e0-1899-42f0-9ef5-bf3fd4c72529",
   "metadata": {},
   "source": [
    "### IF / OR STATEMENT"
   ]
  },
  {
   "cell_type": "code",
   "execution_count": 41,
   "id": "6f305c83-ed62-4f17-9779-730cc2db5065",
   "metadata": {},
   "outputs": [
    {
     "name": "stdout",
     "output_type": "stream",
     "text": [
      "Album was not made in the 1980's\n"
     ]
    }
   ],
   "source": [
    "# Condition statement example\n",
    "\n",
    "album_year = 1990\n",
    "\n",
    "if(album_year < 1980) or (album_year > 1989):\n",
    "    print (\"Album was not made in the 1980's\")\n",
    "else:\n",
    "    print(\"The Album was made in the 1980's \")"
   ]
  },
  {
   "cell_type": "code",
   "execution_count": 52,
   "id": "a95541f1-99d1-4c9a-80a1-212652c044a7",
   "metadata": {},
   "outputs": [
    {
     "name": "stdout",
     "output_type": "stream",
     "text": [
      "Album was not made in 2000s\n"
     ]
    }
   ],
   "source": [
    "album_year = 2000\n",
    "\n",
    "if(album_year < 2010) or (album_year > 1999):\n",
    "    print('Album was not made in 2000s')\n",
    "    \n",
    "else:\n",
    "    print('The Album was not made in the 2000s')"
   ]
  },
  {
   "cell_type": "markdown",
   "id": "c3f854b2-0cc5-4374-ac07-a8fd9ed50a0b",
   "metadata": {},
   "source": [
    "### IF / NOT STATEMENT "
   ]
  },
  {
   "cell_type": "code",
   "execution_count": 53,
   "id": "dbe389bc-0420-4645-9f7e-2866678c4277",
   "metadata": {},
   "outputs": [
    {
     "name": "stdout",
     "output_type": "stream",
     "text": [
      "Album year is not 1984\n"
     ]
    }
   ],
   "source": [
    "# Condition statement example\n",
    "\n",
    "album_year = 1983\n",
    "\n",
    "if not (album_year == 1984):\n",
    "    print (\"Album year is not 1984\")"
   ]
  },
  {
   "cell_type": "code",
   "execution_count": 54,
   "id": "2e45eff8-7e0d-4c50-aca3-16f3cc4e6f76",
   "metadata": {},
   "outputs": [
    {
     "name": "stdout",
     "output_type": "stream",
     "text": [
      "Birth year is not 1996\n"
     ]
    }
   ],
   "source": [
    "birth_year = 1996 \n",
    "if not (birth_year == 1997):\n",
    "    print('Birth year is not 1996')"
   ]
  },
  {
   "cell_type": "code",
   "execution_count": 59,
   "id": "f722ef80-ebb4-4143-b0d5-93168b668f74",
   "metadata": {},
   "outputs": [
    {
     "name": "stdout",
     "output_type": "stream",
     "text": [
      "Birth year is less than 1999\n",
      "youre too young\n"
     ]
    }
   ],
   "source": [
    "birth_year = 1996 \n",
    "birth_year != 1996 \n",
    "\n",
    "if (birth_year) == 1999:\n",
    "    print('Birth year is not 1996')\n",
    "else: \n",
    "    print ('Birth year is less than 1999')\n",
    "if not (birth_year == 2000):\n",
    "    print('youre too young')"
   ]
  },
  {
   "cell_type": "markdown",
   "id": "16da4032-fc92-4b26-8beb-d5ccd5b046d3",
   "metadata": {},
   "source": [
    "## Recap on Conditions and Branching"
   ]
  },
  {
   "cell_type": "markdown",
   "id": "5426e594-4a92-4793-b103-01d4504f1b5d",
   "metadata": {},
   "source": [
    "1. #### Write an if statement to determine if an album had a rating greater than 8. Test it using the rating for the album “Back in Black” that had a rating of 8.5. If the statement is true print \"This album is Amazing!\""
   ]
  },
  {
   "cell_type": "code",
   "execution_count": 63,
   "id": "60b1ee42-6ece-4cca-ad1b-5dfe0aa6332e",
   "metadata": {},
   "outputs": [
    {
     "name": "stdout",
     "output_type": "stream",
     "text": [
      "This album is amazing!\n"
     ]
    }
   ],
   "source": [
    "album_rating = 8.5\n",
    "if album_rating > 8: \n",
    "    print('This album is amazing!')"
   ]
  },
  {
   "cell_type": "markdown",
   "id": "25abbc5a-0568-48a2-962e-0eacc4986207",
   "metadata": {},
   "source": [
    "2. #### Write an if-else statement that performs the following. If the rating is larger then eight print “this album is amazing”. If the rating is less than or equal to 8 print “this album is ok”."
   ]
  },
  {
   "cell_type": "code",
   "execution_count": 64,
   "id": "4d37ade8-1870-41ca-abc8-71431da4766f",
   "metadata": {},
   "outputs": [
    {
     "name": "stdout",
     "output_type": "stream",
     "text": [
      "this album is ok.\n"
     ]
    }
   ],
   "source": [
    "rating = 8\n",
    "if rating > 8: \n",
    "    print('this album is amazing!')\n",
    "if rating <= 8: \n",
    "    print('this album is ok.')"
   ]
  },
  {
   "cell_type": "markdown",
   "id": "2210f8a3-9b3f-42a4-a0cf-18f79851e9df",
   "metadata": {},
   "source": [
    "3. #### Write an if statement to determine if an album came out before 1980 or in the years: 1991 or 1993. If the condition is true print out the year the album came out."
   ]
  },
  {
   "cell_type": "code",
   "execution_count": 71,
   "id": "b72f0d91-1b4c-4b7e-af49-64ed193b3630",
   "metadata": {},
   "outputs": [
    {
     "name": "stdout",
     "output_type": "stream",
     "text": [
      "This album came out in year 1979\n"
     ]
    }
   ],
   "source": [
    "album_year = 1979\n",
    "if album_year < 1980 or album_year == 1991 or album_year == 1993:\n",
    "    print(\"This album came out in year\", album_year)"
   ]
  }
 ],
 "metadata": {
  "kernelspec": {
   "display_name": "Python 3 (ipykernel)",
   "language": "python",
   "name": "python3"
  },
  "language_info": {
   "codemirror_mode": {
    "name": "ipython",
    "version": 3
   },
   "file_extension": ".py",
   "mimetype": "text/x-python",
   "name": "python",
   "nbconvert_exporter": "python",
   "pygments_lexer": "ipython3",
   "version": "3.12.4"
  }
 },
 "nbformat": 4,
 "nbformat_minor": 5
}
