{
 "cells": [
  {
   "cell_type": "markdown",
   "id": "be500c20-a3f7-4395-8e54-d4de80926ecf",
   "metadata": {},
   "source": [
    "# Python Practice 7"
   ]
  },
  {
   "cell_type": "markdown",
   "id": "c9e36377-7233-4699-822a-1b5b9e85cd36",
   "metadata": {},
   "source": [
    "## This document is part 7 of the composition of Python language in Jupyter Notebooks; Established to show basic understanding of coding in Python to perform create sets and perform operations on the sets in Python. "
   ]
  },
  {
   "cell_type": "markdown",
   "id": "ffa28ab1-fa3a-4e82-b320-ceca5eb4a7c6",
   "metadata": {},
   "source": [
    "### Set: A unique collection of objects in Python. Shown with a  pair of curly brackets {}. Python will automatically remove duplicate items."
   ]
  },
  {
   "cell_type": "code",
   "execution_count": 1,
   "id": "5db86286-3d18-4402-8320-483301081324",
   "metadata": {},
   "outputs": [
    {
     "data": {
      "text/plain": [
       "{'R&B', 'disco', 'hard rock', 'pop', 'rock', 'soul'}"
      ]
     },
     "execution_count": 1,
     "metadata": {},
     "output_type": "execute_result"
    }
   ],
   "source": [
    "# Create a set\n",
    "\n",
    "set1 = {\"pop\", \"rock\", \"soul\", \"hard rock\", \"rock\", \"R&B\", \"rock\", \"disco\"}\n",
    "set1"
   ]
  },
  {
   "cell_type": "markdown",
   "id": "64adfc2b-74a7-479b-bf92-afc9a971b5dd",
   "metadata": {},
   "source": [
    "* ### Mapping "
   ]
  },
  {
   "cell_type": "markdown",
   "id": "7b807e10-24c5-4c72-b539-f61d5720d662",
   "metadata": {},
   "source": [
    "<img src=\"https://cf-courses-data.s3.us.cloud-object-storage.appdomain.cloud/IBMDeveloperSkillsNetwork-PY0101EN-SkillsNetwork/labs/Module%202/images/SetsUnique.png\" width=\"1100\">"
   ]
  },
  {
   "cell_type": "markdown",
   "id": "345b1d50-0e54-4191-a519-aa2aaf0d1eb5",
   "metadata": {},
   "source": [
    "* ### Create a set from a list"
   ]
  },
  {
   "cell_type": "code",
   "execution_count": 2,
   "id": "8df03179-1c28-46a5-beb3-06aec7666b3f",
   "metadata": {},
   "outputs": [
    {
     "data": {
      "text/plain": [
       "{'00:42:19',\n",
       " 10.0,\n",
       " 1982,\n",
       " '30-Nov-82',\n",
       " 46.0,\n",
       " 65,\n",
       " 'Michael Jackson',\n",
       " None,\n",
       " 'Pop, Rock, R&B',\n",
       " 'Thriller'}"
      ]
     },
     "execution_count": 2,
     "metadata": {},
     "output_type": "execute_result"
    }
   ],
   "source": [
    "# Convert list to set\n",
    "\n",
    "album_list = [ \"Michael Jackson\", \"Thriller\", 1982, \"00:42:19\", \\\n",
    "              \"Pop, Rock, R&B\", 46.0, 65, \"30-Nov-82\", None, 10.0]\n",
    "album_set = set(album_list)             \n",
    "album_set"
   ]
  },
  {
   "cell_type": "markdown",
   "id": "0bf05352-c556-4e59-bb0f-99bfc15962a9",
   "metadata": {},
   "source": [
    "* ### Create a set of genres"
   ]
  },
  {
   "cell_type": "code",
   "execution_count": 3,
   "id": "5f16198d-e95f-4131-9eb6-6c876b914be2",
   "metadata": {},
   "outputs": [
    {
     "data": {
      "text/plain": [
       "{'R&B',\n",
       " 'disco',\n",
       " 'folk rock',\n",
       " 'hard rock',\n",
       " 'pop',\n",
       " 'progressive rock',\n",
       " 'rock',\n",
       " 'soft rock',\n",
       " 'soul'}"
      ]
     },
     "execution_count": 3,
     "metadata": {},
     "output_type": "execute_result"
    }
   ],
   "source": [
    "# Convert list to set\n",
    "\n",
    "music_genres = set([\"pop\", \"pop\", \"rock\", \"folk rock\", \"hard rock\", \"soul\", \\\n",
    "                    \"progressive rock\", \"soft rock\", \"R&B\", \"disco\"])\n",
    "music_genres"
   ]
  },
  {
   "cell_type": "markdown",
   "id": "9598d9f1-08d2-4ded-bc81-6abcbb44379d",
   "metadata": {},
   "source": [
    "* ### Set Operations -- can be used to change the set"
   ]
  },
  {
   "cell_type": "code",
   "execution_count": 4,
   "id": "84a81537-6b11-4465-81b2-1af0997eace1",
   "metadata": {},
   "outputs": [
    {
     "data": {
      "text/plain": [
       "{'AC/DC', 'Back in Black', 'Thriller'}"
      ]
     },
     "execution_count": 4,
     "metadata": {},
     "output_type": "execute_result"
    }
   ],
   "source": [
    "# Sample set\n",
    "\n",
    "A = set([\"Thriller\", \"Back in Black\", \"AC/DC\"])\n",
    "A"
   ]
  },
  {
   "cell_type": "markdown",
   "id": "d287ff2e-1556-440a-8ed8-5c011d7ecb88",
   "metadata": {},
   "source": [
    "#### 1. Add an element to a set using the add() method"
   ]
  },
  {
   "cell_type": "code",
   "execution_count": 5,
   "id": "eb834762-0774-4f22-b6f9-e0061381697b",
   "metadata": {},
   "outputs": [
    {
     "data": {
      "text/plain": [
       "{'AC/DC', 'Back in Black', 'NSYNC', 'Thriller'}"
      ]
     },
     "execution_count": 5,
     "metadata": {},
     "output_type": "execute_result"
    }
   ],
   "source": [
    "# Add element to set\n",
    "\n",
    "A.add(\"NSYNC\")\n",
    "A"
   ]
  },
  {
   "cell_type": "markdown",
   "id": "9f7a9808-9a47-4cb9-919d-5a4d19514404",
   "metadata": {},
   "source": [
    "#### 2. If we add the same element twice, nothing will happen as there can be no duplicates in a set"
   ]
  },
  {
   "cell_type": "code",
   "execution_count": 6,
   "id": "e7c0b6d0-afca-498f-86f7-58123cc699f7",
   "metadata": {},
   "outputs": [
    {
     "data": {
      "text/plain": [
       "{'AC/DC', 'Back in Black', 'NSYNC', 'Thriller'}"
      ]
     },
     "execution_count": 6,
     "metadata": {},
     "output_type": "execute_result"
    }
   ],
   "source": [
    "# Try to add duplicate element to the set\n",
    "\n",
    "A.add(\"NSYNC\")\n",
    "A"
   ]
  },
  {
   "cell_type": "markdown",
   "id": "e46fa07d-91c3-40e6-99b4-a8738719c198",
   "metadata": {},
   "source": [
    "#### 3. Remove an item from a set using the remove method"
   ]
  },
  {
   "cell_type": "code",
   "execution_count": 7,
   "id": "5358451f-3b65-4506-ba47-63495e48599e",
   "metadata": {},
   "outputs": [
    {
     "data": {
      "text/plain": [
       "{'AC/DC', 'Back in Black', 'Thriller'}"
      ]
     },
     "execution_count": 7,
     "metadata": {},
     "output_type": "execute_result"
    }
   ],
   "source": [
    "# Remove the element from set\n",
    "\n",
    "A.remove(\"NSYNC\")\n",
    "A"
   ]
  },
  {
   "cell_type": "markdown",
   "id": "38b15668-5c52-430d-9641-13642aa0667c",
   "metadata": {},
   "source": [
    "#### 4. Verify if an element is in the set using the in command"
   ]
  },
  {
   "cell_type": "code",
   "execution_count": 8,
   "id": "fdba0872-ffa0-4923-aafa-64baa3c3680d",
   "metadata": {},
   "outputs": [
    {
     "data": {
      "text/plain": [
       "True"
      ]
     },
     "execution_count": 8,
     "metadata": {},
     "output_type": "execute_result"
    }
   ],
   "source": [
    "# Verify if the element is in the set\n",
    "\n",
    "\"AC/DC\" in A"
   ]
  },
  {
   "cell_type": "markdown",
   "id": "924f5bff-f7a3-4b48-b761-09dbb9c60003",
   "metadata": {},
   "source": [
    "### Sets Logic Operations"
   ]
  },
  {
   "cell_type": "markdown",
   "id": "9839b780-c53e-48d8-802a-13bec0cf9782",
   "metadata": {},
   "source": [
    "* Remember: with sets you can check the difference between sets, as well as the symmetric difference, intersection, and union."
   ]
  },
  {
   "cell_type": "code",
   "execution_count": 10,
   "id": "f2b8dbe2-387a-44be-9c74-5a2f7f388376",
   "metadata": {},
   "outputs": [],
   "source": [
    "# Sample Sets\n",
    "\n",
    "album_set1 = set([\"Thriller\", 'AC/DC', 'Back in Black'])\n",
    "album_set2 = set([ \"AC/DC\", \"Back in Black\", \"The Dark Side of the Moon\"])"
   ]
  },
  {
   "cell_type": "markdown",
   "id": "430277c6-7d09-4399-8213-00613f618238",
   "metadata": {},
   "source": [
    "<img src=\"https://cf-courses-data.s3.us.cloud-object-storage.appdomain.cloud/IBMDeveloperSkillsNetwork-PY0101EN-SkillsNetwork/labs/Module%202/images/SetsSamples.png\" width=\"650\">"
   ]
  },
  {
   "cell_type": "code",
   "execution_count": 11,
   "id": "592682ee-1d81-4902-af71-26b02ccd940c",
   "metadata": {},
   "outputs": [
    {
     "data": {
      "text/plain": [
       "({'AC/DC', 'Back in Black', 'Thriller'},\n",
       " {'AC/DC', 'Back in Black', 'The Dark Side of the Moon'})"
      ]
     },
     "execution_count": 11,
     "metadata": {},
     "output_type": "execute_result"
    }
   ],
   "source": [
    "# Print two sets\n",
    "\n",
    "album_set1, album_set2"
   ]
  },
  {
   "cell_type": "markdown",
   "id": "32eebb21-d2de-4b41-9248-529451d74305",
   "metadata": {},
   "source": [
    "* As both sets contain AC/DC and Back in Black we represent these common elements with the intersection of two circles."
   ]
  },
  {
   "cell_type": "markdown",
   "id": "21a05ef6-2bf0-422d-ae6d-541887f09759",
   "metadata": {},
   "source": [
    "<img src=\"https://cf-courses-data.s3.us.cloud-object-storage.appdomain.cloud/IBMDeveloperSkillsNetwork-PY0101EN-SkillsNetwork/labs/Module%202/images/SetsLogic.png\" width=\"650\">"
   ]
  },
  {
   "cell_type": "markdown",
   "id": "f7613111-570a-4b9a-8fe3-1bad60026250",
   "metadata": {},
   "source": [
    "* #### You can find the intersect of two sets as follow using &"
   ]
  },
  {
   "cell_type": "code",
   "execution_count": 12,
   "id": "c56d0ab2-17b2-4545-9b19-63ab9f1be271",
   "metadata": {},
   "outputs": [
    {
     "data": {
      "text/plain": [
       "{'AC/DC', 'Back in Black'}"
      ]
     },
     "execution_count": 12,
     "metadata": {},
     "output_type": "execute_result"
    }
   ],
   "source": [
    "# Find the intersections\n",
    "\n",
    "intersection = album_set1 & album_set2\n",
    "intersection"
   ]
  },
  {
   "cell_type": "markdown",
   "id": "d2b3f370-bfbd-4989-a1f8-6c083867463c",
   "metadata": {},
   "source": [
    "* #### Find all the elements that are only contained in album_set1 using the difference method"
   ]
  },
  {
   "cell_type": "code",
   "execution_count": 13,
   "id": "ef60cffd-7f54-437d-b4e6-c8e5d9aa252a",
   "metadata": {},
   "outputs": [
    {
     "data": {
      "text/plain": [
       "{'Thriller'}"
      ]
     },
     "execution_count": 13,
     "metadata": {},
     "output_type": "execute_result"
    }
   ],
   "source": [
    "# Find the difference in set1 but not set2\n",
    "\n",
    "album_set1.difference(album_set2)  "
   ]
  },
  {
   "cell_type": "code",
   "execution_count": 16,
   "id": "a15ded35-cf62-4c28-956e-7214f739d261",
   "metadata": {},
   "outputs": [
    {
     "data": {
      "text/plain": [
       "{'The Dark Side of the Moon'}"
      ]
     },
     "execution_count": 16,
     "metadata": {},
     "output_type": "execute_result"
    }
   ],
   "source": [
    "# Find the difference in set2 but not set1\n",
    "\n",
    "album_set2.difference(album_set1)"
   ]
  },
  {
   "cell_type": "markdown",
   "id": "3ef0ea6e-7e39-4dc5-83d0-434be4d1cd7d",
   "metadata": {},
   "source": [
    "* #### Find the intersection of album_list1 and album_list2, using the intersection method"
   ]
  },
  {
   "cell_type": "code",
   "execution_count": 19,
   "id": "c75ec563-a805-430a-b6ea-019b90e5c850",
   "metadata": {},
   "outputs": [
    {
     "data": {
      "text/plain": [
       "{'AC/DC', 'Back in Black'}"
      ]
     },
     "execution_count": 19,
     "metadata": {},
     "output_type": "execute_result"
    }
   ],
   "source": [
    "intersection = album_set1 & album_set2\n",
    "intersection"
   ]
  },
  {
   "cell_type": "markdown",
   "id": "25b48ce4-7949-485f-ae2c-213b785dba47",
   "metadata": {},
   "source": [
    "* ### Union corresponds to all the elements in both sets\n",
    "    * Given by: __.union()__"
   ]
  },
  {
   "cell_type": "markdown",
   "id": "42228fce-c85f-4447-9bc9-a912470f9ee3",
   "metadata": {},
   "source": [
    "<img src=\"https://cf-courses-data.s3.us.cloud-object-storage.appdomain.cloud/IBMDeveloperSkillsNetwork-PY0101EN-SkillsNetwork/labs/Module%202/images/SetsUnion.png\" width=\"650\">"
   ]
  },
  {
   "cell_type": "code",
   "execution_count": 20,
   "id": "359c9c82-a2e3-45a6-a611-72534826843a",
   "metadata": {},
   "outputs": [
    {
     "data": {
      "text/plain": [
       "{'AC/DC', 'Back in Black', 'The Dark Side of the Moon', 'Thriller'}"
      ]
     },
     "execution_count": 20,
     "metadata": {},
     "output_type": "execute_result"
    }
   ],
   "source": [
    "# Find the union of two sets\n",
    "\n",
    "album_set1.union(album_set2)"
   ]
  },
  {
   "cell_type": "markdown",
   "id": "5655c5f0-83bc-4531-81b6-82534a7fb1f1",
   "metadata": {},
   "source": [
    "* ### Check if a set is a superset or subset of another set"
   ]
  },
  {
   "cell_type": "code",
   "execution_count": 21,
   "id": "29f72e10-d8d5-4129-a82e-abca9c4e660a",
   "metadata": {},
   "outputs": [
    {
     "data": {
      "text/plain": [
       "False"
      ]
     },
     "execution_count": 21,
     "metadata": {},
     "output_type": "execute_result"
    }
   ],
   "source": [
    "# Check if superset\n",
    "\n",
    "set(album_set1).issuperset(album_set2)   "
   ]
  },
  {
   "cell_type": "code",
   "execution_count": 22,
   "id": "f2cdab8b-105a-49f8-a64f-700a73ea6ea7",
   "metadata": {},
   "outputs": [
    {
     "data": {
      "text/plain": [
       "False"
      ]
     },
     "execution_count": 22,
     "metadata": {},
     "output_type": "execute_result"
    }
   ],
   "source": [
    "# Check if subset\n",
    "\n",
    "set(album_set2).issubset(album_set1) "
   ]
  },
  {
   "cell_type": "code",
   "execution_count": 23,
   "id": "de648345-f436-4247-8fd3-cbd5a385586f",
   "metadata": {},
   "outputs": [
    {
     "data": {
      "text/plain": [
       "True"
      ]
     },
     "execution_count": 23,
     "metadata": {},
     "output_type": "execute_result"
    }
   ],
   "source": [
    "# Check if subset\n",
    "\n",
    "set({\"Back in Black\", \"AC/DC\"}).issubset(album_set1) "
   ]
  },
  {
   "cell_type": "code",
   "execution_count": 24,
   "id": "2e1075e0-0ed8-48dd-aa79-994c96db74c4",
   "metadata": {},
   "outputs": [
    {
     "data": {
      "text/plain": [
       "True"
      ]
     },
     "execution_count": 24,
     "metadata": {},
     "output_type": "execute_result"
    }
   ],
   "source": [
    "# Check if superset\n",
    "\n",
    "album_set1.issuperset({\"Back in Black\", \"AC/DC\"})   "
   ]
  },
  {
   "cell_type": "markdown",
   "id": "7cbe4555-8a7e-47f5-aff9-018f884ff0a1",
   "metadata": {},
   "source": [
    "## Recap of Sets"
   ]
  },
  {
   "cell_type": "code",
   "execution_count": 25,
   "id": "ac321652-47d8-4258-8f2d-50562e3130fc",
   "metadata": {},
   "outputs": [
    {
     "data": {
      "text/plain": [
       "{'electronic music', 'house', 'rap'}"
      ]
     },
     "execution_count": 25,
     "metadata": {},
     "output_type": "execute_result"
    }
   ],
   "source": [
    "set(['rap','house','electronic music','rap'])"
   ]
  },
  {
   "cell_type": "code",
   "execution_count": 29,
   "id": "0f4b3e5c-a25a-445e-83c2-a7609b71b91e",
   "metadata": {},
   "outputs": [
    {
     "name": "stdout",
     "output_type": "stream",
     "text": [
      "the sum of A is: 6\n",
      "the sum of B is: 3\n"
     ]
    }
   ],
   "source": [
    "# Dose summ A == sum B?\n",
    "A = [1, 2, 2, 1]  \n",
    "B = set([1, 2, 2, 1])\n",
    "print(\"the sum of A is:\", sum(A))\n",
    "print(\"the sum of B is:\", sum(B))"
   ]
  },
  {
   "cell_type": "code",
   "execution_count": 30,
   "id": "0372cf14-47db-4ee6-afdf-1bce98d6d0d2",
   "metadata": {},
   "outputs": [],
   "source": [
    "# Create new sets\n",
    "album_set1 = set([\"Thriller\", 'AC/DC', 'Back in Black'])\n",
    "album_set2 = set([ \"AC/DC\", \"Back in Black\", \"The Dark Side of the Moon\"])"
   ]
  },
  {
   "cell_type": "code",
   "execution_count": 31,
   "id": "b48226a3-0f8c-4741-a909-ced71aeebc9c",
   "metadata": {},
   "outputs": [
    {
     "data": {
      "text/plain": [
       "{'AC/DC', 'Back in Black', 'The Dark Side of the Moon', 'Thriller'}"
      ]
     },
     "execution_count": 31,
     "metadata": {},
     "output_type": "execute_result"
    }
   ],
   "source": [
    "# Create a new set that is a union of album_set1 and album_set2\n",
    "album_set3 = album_set1.union(album_set2)\n",
    "album_set3"
   ]
  },
  {
   "cell_type": "code",
   "execution_count": 32,
   "id": "55cf1960-719e-4f31-b0a6-2f4474f61d65",
   "metadata": {},
   "outputs": [
    {
     "data": {
      "text/plain": [
       "True"
      ]
     },
     "execution_count": 32,
     "metadata": {},
     "output_type": "execute_result"
    }
   ],
   "source": [
    "# Check if album_set1 is a subset of album_set3\n",
    "\n",
    "album_set1.issubset(album_set3)"
   ]
  }
 ],
 "metadata": {
  "kernelspec": {
   "display_name": "Python 3 (ipykernel)",
   "language": "python",
   "name": "python3"
  },
  "language_info": {
   "codemirror_mode": {
    "name": "ipython",
    "version": 3
   },
   "file_extension": ".py",
   "mimetype": "text/x-python",
   "name": "python",
   "nbconvert_exporter": "python",
   "pygments_lexer": "ipython3",
   "version": "3.12.4"
  }
 },
 "nbformat": 4,
 "nbformat_minor": 5
}
