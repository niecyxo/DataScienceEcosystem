{
 "cells": [
  {
   "cell_type": "markdown",
   "id": "4d607be6-6660-48d3-8b55-f0fb5fe949fe",
   "metadata": {},
   "source": [
    " # H1 Python Practice"
   ]
  },
  {
   "cell_type": "markdown",
   "id": "829ae0e8-2d8c-4ac0-b0bb-4adc55fa2b10",
   "metadata": {},
   "source": [
    "This document is being composed to show basic understanding of the Python language in Jupyter Notebooks. After completion of this Python practice, I will have a better understanding of coding in Python language in Data Science. \n",
    "\n"
   ]
  },
  {
   "cell_type": "markdown",
   "id": "ddaa83be-4680-40a5-a74d-14970123f7b2",
   "metadata": {},
   "source": [
    "Markdown cell: A cell specifically for writing and making commentary in the Jupyter Notebook. \n",
    "Code cell -- A cell meant specifically for programming that will not pick up literal statements without code."
   ]
  },
  {
   "cell_type": "code",
   "execution_count": 17,
   "id": "f85121f8-15a5-4e8a-88ae-1179f3154f3f",
   "metadata": {},
   "outputs": [
    {
     "name": "stdout",
     "output_type": "stream",
     "text": [
      "Hello, Python!\n"
     ]
    }
   ],
   "source": [
    "print('Hello, Python!')"
   ]
  },
  {
   "cell_type": "code",
   "execution_count": 18,
   "id": "87cec0a3-ac0c-43cb-bb5f-53c16988dda3",
   "metadata": {},
   "outputs": [
    {
     "name": "stdout",
     "output_type": "stream",
     "text": [
      "This line prints a string\n"
     ]
    }
   ],
   "source": [
    "# Practice writing comments\n",
    "print('This line prints a string')"
   ]
  },
  {
   "cell_type": "code",
   "execution_count": 21,
   "id": "73d823b0-3494-43a9-967d-cd2aafee20a6",
   "metadata": {},
   "outputs": [
    {
     "name": "stdout",
     "output_type": "stream",
     "text": [
      "This was a practice line. Anything past the hashtag does not get included into the code, but the words themself. these are called comments\n"
     ]
    }
   ],
   "source": [
    "# Practice writing comments \n",
    "print('This was a practice line. Anything past the hashtag does not get included into the code, but the words themself. these are called comments')"
   ]
  },
  {
   "cell_type": "code",
   "execution_count": 22,
   "id": "255f9f2e-d67d-4f1e-ba70-0403bc07c174",
   "metadata": {},
   "outputs": [
    {
     "name": "stdout",
     "output_type": "stream",
     "text": [
      "Hello, World!\n"
     ]
    }
   ],
   "source": [
    "# Print the traditional Hello World\n",
    "print('Hello, World!')"
   ]
  },
  {
   "cell_type": "code",
   "execution_count": 23,
   "id": "f86ea055-301e-4fea-af60-ce8a426a559f",
   "metadata": {},
   "outputs": [
    {
     "name": "stdout",
     "output_type": "stream",
     "text": [
      "What is the value of z = x+y?\n"
     ]
    }
   ],
   "source": [
    "print('What is the value of z = x+y?')"
   ]
  },
  {
   "cell_type": "code",
   "execution_count": 24,
   "id": "e33e6991-dcc6-45a6-adef-970ff685ac8f",
   "metadata": {},
   "outputs": [
    {
     "name": "stdout",
     "output_type": "stream",
     "text": [
      "You can do equations in code as normal. input the (+,-,*,/) signs as normal, run your code!\n"
     ]
    }
   ],
   "source": [
    "print('You can do equations in code as normal. input the (+,-,*,/) signs as normal, run your code!')"
   ]
  },
  {
   "cell_type": "code",
   "execution_count": 25,
   "id": "574cbb68-0f02-463a-9140-0d813d01541e",
   "metadata": {},
   "outputs": [
    {
     "name": "stdout",
     "output_type": "stream",
     "text": [
      "Example:\n"
     ]
    },
    {
     "data": {
      "text/plain": [
       "5"
      ]
     },
     "execution_count": 25,
     "metadata": {},
     "output_type": "execute_result"
    }
   ],
   "source": [
    "print('Example:')\n",
    "2+3"
   ]
  },
  {
   "cell_type": "code",
   "execution_count": null,
   "id": "e02940b6-ef84-432c-b14d-6a5095ffbd96",
   "metadata": {},
   "outputs": [],
   "source": []
  }
 ],
 "metadata": {
  "kernelspec": {
   "display_name": "Python 3 (ipykernel)",
   "language": "python",
   "name": "python3"
  },
  "language_info": {
   "codemirror_mode": {
    "name": "ipython",
    "version": 3
   },
   "file_extension": ".py",
   "mimetype": "text/x-python",
   "name": "python",
   "nbconvert_exporter": "python",
   "pygments_lexer": "ipython3",
   "version": "3.12.4"
  }
 },
 "nbformat": 4,
 "nbformat_minor": 5
}
