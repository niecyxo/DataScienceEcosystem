{
 "cells": [
  {
   "cell_type": "markdown",
   "id": "151bcc47-3b8d-43f5-abb1-139384cff2b7",
   "metadata": {},
   "source": [
    "# Python Practice 4"
   ]
  },
  {
   "cell_type": "markdown",
   "id": "8d355ed6-873e-42f6-a6ca-1f4748225ec5",
   "metadata": {},
   "source": [
    "##  This document is part 4 of the composition of Python language in Jupyter Notebooks; Established to show basic understanding of coding in Python to perform list operations in Python, including indexing, list manipulation, and copy/clone list. "
   ]
  },
  {
   "cell_type": "markdown",
   "id": "55330faf-5aad-4835-b101-c4b4688d6d65",
   "metadata": {},
   "source": [
    "Imagine you received album recommendations from your friends and compiled all of the recommandations into a table, with specific information about each album.\n",
    "\n",
    "The table has one row for each movie and several columns:\n",
    "\n",
    "*   **Artist** - Name of the artist\n",
    "*   **Album** - Name of the album\n",
    "*   **Released_year** - Year the album was released\n",
    "*   **Length_min_sec** - Length of the album (hours,minutes,seconds)\n",
    "*   **Genre** - Genre of the album\n",
    "*   **Music_recording_sales_millions** - Music recording sales (millions in USD) on [SONG://DATABASE](http://www.song-database.com/?utm_medium=Exinfluencer&utm_source=Exinfluencer&utm_content=000026UJ&utm_term=10006555&utm_id=NA-SkillsNetwork-Channel-SkillsNetworkCoursesIBMDeveloperSkillsNetworkPY0101ENSkillsNetwork19487395-2021-01-01)\n",
    "*   **Claimed_sales_millions** - Album's claimed sales (millions in USD) on [SONG://DATABASE](http://www.song-database.com/?utm_medium=Exinfluencer&utm_source=Exinfluencer&utm_content=000026UJ&utm_term=10006555&utm_id=NA-SkillsNetwork-Channel-SkillsNetworkCoursesIBMDeveloperSkillsNetworkPY0101ENSkillsNetwork19487395-2021-01-01)\n",
    "*   **Released** - Date on which the album was released\n",
    "*   **Soundtrack** - Indicates if the album is the movie soundtrack (Y) or (N)\n",
    "*   **Rating_of_friends** - Indicates the rating from your friends from 1 to 10\n",
    "\n",
    "<br>\n",
    "<br>\n",
    "\n",
    "The Dataset can be seen below:\n",
    "\n",
    "<font size=\"1\">\n",
    "<table font-size:xx-small>\n",
    "  <tr>\n",
    "    <th>Artist</th>\n",
    "    <th>Album</th> \n",
    "    <th>Released</th>\n",
    "    <th>Length</th>\n",
    "    <th>Genre</th> \n",
    "    <th>Music recording sales (millions)</th>\n",
    "    <th>Claimed sales (millions)</th>\n",
    "    <th>Released</th>\n",
    "    <th>Soundtrack</th>\n",
    "    <th>Rating (friends)</th>\n",
    "  </tr>\n",
    "  <tr>\n",
    "    <td>Michael Jackson</td>\n",
    "    <td>Thriller</td> \n",
    "    <td>1982</td>\n",
    "    <td>00:42:19</td>\n",
    "    <td>Pop, rock, R&B</td>\n",
    "    <td>46</td>\n",
    "    <td>65</td>\n",
    "    <td>30-Nov-82</td>\n",
    "    <td></td>\n",
    "    <td>10.0</td>\n",
    "  </tr>\n",
    "  <tr>\n",
    "    <td>AC/DC</td>\n",
    "    <td>Back in Black</td> \n",
    "    <td>1980</td>\n",
    "    <td>00:42:11</td>\n",
    "    <td>Hard rock</td>\n",
    "    <td>26.1</td>\n",
    "    <td>50</td>\n",
    "    <td>25-Jul-80</td>\n",
    "    <td></td>\n",
    "    <td>8.5</td>\n",
    "  </tr>\n",
    "    <tr>\n",
    "    <td>Pink Floyd</td>\n",
    "    <td>The Dark Side of the Moon</td> \n",
    "    <td>1973</td>\n",
    "    <td>00:42:49</td>\n",
    "    <td>Progressive rock</td>\n",
    "    <td>24.2</td>\n",
    "    <td>45</td>\n",
    "    <td>01-Mar-73</td>\n",
    "    <td></td>\n",
    "    <td>9.5</td>\n",
    "  </tr>\n",
    "    <tr>\n",
    "    <td>Whitney Houston</td>\n",
    "    <td>The Bodyguard</td> \n",
    "    <td>1992</td>\n",
    "    <td>00:57:44</td>\n",
    "    <td>Soundtrack/R&B, soul, pop</td>\n",
    "    <td>26.1</td>\n",
    "    <td>50</td>\n",
    "    <td>25-Jul-80</td>\n",
    "    <td>Y</td>\n",
    "    <td>7.0</td>\n",
    "  </tr>\n",
    "    <tr>\n",
    "    <td>Meat Loaf</td>\n",
    "    <td>Bat Out of Hell</td> \n",
    "    <td>1977</td>\n",
    "    <td>00:46:33</td>\n",
    "    <td>Hard rock, progressive rock</td>\n",
    "    <td>20.6</td>\n",
    "    <td>43</td>\n",
    "    <td>21-Oct-77</td>\n",
    "    <td></td>\n",
    "    <td>7.0</td>\n",
    "  </tr>\n",
    "    <tr>\n",
    "    <td>Eagles</td>\n",
    "    <td>Their Greatest Hits (1971-1975)</td> \n",
    "    <td>1976</td>\n",
    "    <td>00:43:08</td>\n",
    "    <td>Rock, soft rock, folk rock</td>\n",
    "    <td>32.2</td>\n",
    "    <td>42</td>\n",
    "    <td>17-Feb-76</td>\n",
    "    <td></td>\n",
    "    <td>9.5</td>\n",
    "  </tr>\n",
    "    <tr>\n",
    "    <td>Bee Gees</td>\n",
    "    <td>Saturday Night Fever</td> \n",
    "    <td>1977</td>\n",
    "    <td>1:15:54</td>\n",
    "    <td>Disco</td>\n",
    "    <td>20.6</td>\n",
    "    <td>40</td>\n",
    "    <td>15-Nov-77</td>\n",
    "    <td>Y</td>\n",
    "    <td>9.0</td>\n",
    "  </tr>\n",
    "    <tr>\n",
    "    <td>Fleet wood Mac</td>\n",
    "    <td> Rumours </td> \n",
    "    <td>1977</td>\n",
    "    <td>00:40:01</td>\n",
    "    <td>Soft rock</td>\n",
    "    <td>27.9</td>\n",
    "    <td>40</td>\n",
    "    <td>04-Feb-77</td>\n",
    "    <td></td>\n",
    "    <td>9.5</td>\n",
    "  </tr>\n",
    "</table></font>"
   ]
  },
  {
   "cell_type": "markdown",
   "id": "991fd213-4dc0-4cae-b87a-9f06a0e01e05",
   "metadata": {},
   "source": [
    "* ### List: A sequenced collection of different objects such as integers, strings, etc. **__The address of each element within a list is called an index. An index is used to access and refer to items within a list.__**"
   ]
  },
  {
   "cell_type": "markdown",
   "id": "6270272d-57d0-4afd-ad85-d32927e7558e",
   "metadata": {},
   "source": [
    "<img src=\"https://cf-courses-data.s3.us.cloud-object-storage.appdomain.cloud/IBMDeveloperSkillsNetwork-PY0101EN-SkillsNetwork/labs/Module%202/images/ListsIndex.png\" width=\"1000\">"
   ]
  },
  {
   "cell_type": "markdown",
   "id": "d944bffd-b1bd-4656-a73d-b51ef187569a",
   "metadata": {},
   "source": [
    "* #### To create a list, type the list within square brackets **__*[ ]* with your content inside the parenthesis and separated by commas.__**"
   ]
  },
  {
   "cell_type": "code",
   "execution_count": 19,
   "id": "99804cd7-4041-47e7-a18b-bf02a182f481",
   "metadata": {},
   "outputs": [
    {
     "data": {
      "text/plain": [
       "['Michael Jackson', 10.1, 1982]"
      ]
     },
     "execution_count": 19,
     "metadata": {},
     "output_type": "execute_result"
    }
   ],
   "source": [
    "# Create a list\n",
    "\n",
    "L = ['Michael Jackson', 10.1, 1982]\n",
    "L"
   ]
  },
  {
   "cell_type": "markdown",
   "id": "2f25d070-8be4-4cfe-8eab-68e624e3a116",
   "metadata": {},
   "source": [
    "# Negative and regular indexing with a list\n",
    "\n",
    "<img src=\"https://cf-courses-data.s3.us.cloud-object-storage.appdomain.cloud/IBMDeveloperSkillsNetwork-PY0101EN-SkillsNetwork/labs/Module%202/images/ListsNeg.png\" width=\"1000\">"
   ]
  },
  {
   "cell_type": "code",
   "execution_count": 20,
   "id": "439f96ec-afdb-4e97-88fc-2404544cad76",
   "metadata": {},
   "outputs": [
    {
     "name": "stdout",
     "output_type": "stream",
     "text": [
      "the same element using negative and positive indexing:\n",
      " Postive: Michael Jackson \n",
      " Negative: Michael Jackson\n",
      "the same element using negative and positive indexing:\n",
      " Postive: 10.1 \n",
      " Negative: 10.1\n",
      "the same element using negative and positive indexing:\n",
      " Postive: 1982 \n",
      " Negative: 1982\n"
     ]
    }
   ],
   "source": [
    "# Print the elements on each index\n",
    "\n",
    "print('the same element using negative and positive indexing:\\n Postive:',L[0],\n",
    "'\\n Negative:' , L[-3]  )\n",
    "print('the same element using negative and positive indexing:\\n Postive:',L[1],\n",
    "'\\n Negative:' , L[-2]  )\n",
    "print('the same element using negative and positive indexing:\\n Postive:',L[2],\n",
    "'\\n Negative:' , L[-1]  )"
   ]
  },
  {
   "cell_type": "markdown",
   "id": "8c92948c-49e0-4ae6-925d-301f98dd7d66",
   "metadata": {},
   "source": [
    "* ### List Content: Can contain strings(str), floats(5.0), and integers(9). We can **__nest other lists, and we can also nest tuples and other data structures. The same indexing conventions apply for nesting.__**"
   ]
  },
  {
   "cell_type": "code",
   "execution_count": 21,
   "id": "98c320a9-7f0e-4a57-8323-b817b6c3d5dc",
   "metadata": {},
   "outputs": [
    {
     "data": {
      "text/plain": [
       "['Michael Jackson', 10.1, 1982, [1, 2], ('A', 1)]"
      ]
     },
     "execution_count": 21,
     "metadata": {},
     "output_type": "execute_result"
    }
   ],
   "source": [
    "# Sample List of Nesting\n",
    "\n",
    "[\"Michael Jackson\", 10.1, 1982, [1, 2], (\"A\", 1)]"
   ]
  },
  {
   "cell_type": "markdown",
   "id": "2f6ca19e-7801-49d3-b9cc-776700517d21",
   "metadata": {},
   "source": [
    "### List Operations \n",
    "    * Slicing ( L[3:5] )\n",
    "    * Extend (.extend([]) )\n",
    "    * Append (.append([]) )\n",
    "    * Change\n",
    "    * Delete\n",
    "    * Convert from string to list ( ''.split(  )"
   ]
  },
  {
   "cell_type": "code",
   "execution_count": 22,
   "id": "2d444b9e-b565-4582-9da6-a1fa4f5d7008",
   "metadata": {},
   "outputs": [
    {
     "data": {
      "text/plain": [
       "['Michael Jackson', 10.1, 1982, 'MJ', 1]"
      ]
     },
     "execution_count": 22,
     "metadata": {},
     "output_type": "execute_result"
    }
   ],
   "source": [
    "# Sample List\n",
    "\n",
    "L = [\"Michael Jackson\", 10.1,1982,\"MJ\",1]\n",
    "L"
   ]
  },
  {
   "cell_type": "markdown",
   "id": "457ab730-d15c-4ed8-bb16-3a5c100e4ae4",
   "metadata": {},
   "source": [
    "<img src=\"https://cf-courses-data.s3.us.cloud-object-storage.appdomain.cloud/IBMDeveloperSkillsNetwork-PY0101EN-SkillsNetwork/labs/Module%202/images/ListsSlice.png\" width=\"1000\">"
   ]
  },
  {
   "cell_type": "markdown",
   "id": "e2689e1d-a095-4b84-97c4-2e5e8389a6bb",
   "metadata": {},
   "source": [
    "1. You can slice a list for specific elements."
   ]
  },
  {
   "cell_type": "code",
   "execution_count": 23,
   "id": "25adeb73-ba54-4788-b1c9-cc65ced786ad",
   "metadata": {},
   "outputs": [
    {
     "data": {
      "text/plain": [
       "['MJ', 1]"
      ]
     },
     "execution_count": 23,
     "metadata": {},
     "output_type": "execute_result"
    }
   ],
   "source": [
    "# List slicing\n",
    "\n",
    "L[3:5]"
   ]
  },
  {
   "cell_type": "markdown",
   "id": "2942bf9e-85bc-429e-ac73-69ed9604df4a",
   "metadata": {},
   "source": [
    "2. We can use the method extend to **__add new elements to the list__**"
   ]
  },
  {
   "cell_type": "code",
   "execution_count": 24,
   "id": "cc0485d3-ab7c-4231-89ba-23bbe794db59",
   "metadata": {},
   "outputs": [
    {
     "data": {
      "text/plain": [
       "['Michael Jackson', 10.2, 'pop', 10]"
      ]
     },
     "execution_count": 24,
     "metadata": {},
     "output_type": "execute_result"
    }
   ],
   "source": [
    "# Use extend to add elements to list\n",
    "\n",
    "L = [ \"Michael Jackson\", 10.2]\n",
    "L.extend(['pop', 10])\n",
    "L"
   ]
  },
  {
   "cell_type": "markdown",
   "id": "f7f98535-f621-4d2d-ae7b-09653a084790",
   "metadata": {},
   "source": [
    "3. If we apply **append**, we add __one element to the list__"
   ]
  },
  {
   "cell_type": "code",
   "execution_count": 25,
   "id": "f7277aa8-6065-4455-a554-cc8908e2145a",
   "metadata": {},
   "outputs": [
    {
     "data": {
      "text/plain": [
       "['Michael Jackson', 10.2, ['pop', 10]]"
      ]
     },
     "execution_count": 25,
     "metadata": {},
     "output_type": "execute_result"
    }
   ],
   "source": [
    "# Use append to add elements to list\n",
    "\n",
    "L = [ \"Michael Jackson\", 10.2]\n",
    "L.append(['pop', 10])\n",
    "L"
   ]
  },
  {
   "cell_type": "markdown",
   "id": "aeba75ea-fcb2-4641-8c9a-8247b0e1a22e",
   "metadata": {},
   "source": [
    "4. Each time we apply a method, the list changes. If we apply **extend we add two new elements to the list. The list L is then modified by adding two new elements.**"
   ]
  },
  {
   "cell_type": "code",
   "execution_count": 26,
   "id": "ee48ea47-7162-4e99-9235-7ba5aa97226e",
   "metadata": {},
   "outputs": [
    {
     "data": {
      "text/plain": [
       "['Michael Jackson', 10.2, 'pop', 10]"
      ]
     },
     "execution_count": 26,
     "metadata": {},
     "output_type": "execute_result"
    }
   ],
   "source": [
    "# Use extend to add elements to list\n",
    "\n",
    "L = [ \"Michael Jackson\", 10.2]\n",
    "L.extend(['pop', 10])\n",
    "L"
   ]
  },
  {
   "cell_type": "markdown",
   "id": "e5f57bb8-6d31-462b-8b92-424533d469cb",
   "metadata": {},
   "source": [
    "5. If we **append** the list ['a','b'] we have **one new element consisting of a** ***___nested list___***."
   ]
  },
  {
   "cell_type": "code",
   "execution_count": 27,
   "id": "140d8c72-a369-4f83-9734-92d61a94a123",
   "metadata": {},
   "outputs": [
    {
     "data": {
      "text/plain": [
       "['Michael Jackson', 10.2, 'pop', 10, ['a', 'b']]"
      ]
     },
     "execution_count": 27,
     "metadata": {},
     "output_type": "execute_result"
    }
   ],
   "source": [
    "# Use append to add elements to list\n",
    "\n",
    "L.append(['a','b'])\n",
    "L"
   ]
  },
  {
   "cell_type": "markdown",
   "id": "0b128083-6a4b-4053-b17d-2e0b2293336b",
   "metadata": {},
   "source": [
    "6. Lists are mutable, **_we can change them._** For example, i.e change the first element."
   ]
  },
  {
   "cell_type": "code",
   "execution_count": 28,
   "id": "c4b11fb6-ecc9-46c5-bea2-c37e99fd17e0",
   "metadata": {},
   "outputs": [
    {
     "name": "stdout",
     "output_type": "stream",
     "text": [
      "Before change: ['disco', 10, 1.2]\n",
      "After change: ['hard rock', 10, 1.2]\n"
     ]
    }
   ],
   "source": [
    "# Change the element based on the index\n",
    "\n",
    "A = [\"disco\", 10, 1.2]\n",
    "print('Before change:', A)\n",
    "A[0] = 'hard rock'\n",
    "print('After change:', A)"
   ]
  },
  {
   "cell_type": "markdown",
   "id": "4268cce7-d861-4250-aa8f-7d534c5e3651",
   "metadata": {},
   "source": [
    "7. Delete an element of a list using the del command"
   ]
  },
  {
   "cell_type": "code",
   "execution_count": 29,
   "id": "460a2456-d960-4c2b-a741-a2f4271ff51b",
   "metadata": {},
   "outputs": [
    {
     "name": "stdout",
     "output_type": "stream",
     "text": [
      "Before change: ['hard rock', 10, 1.2]\n",
      "After change: [10, 1.2]\n"
     ]
    }
   ],
   "source": [
    "# Delete the element based on the index\n",
    "\n",
    "print('Before change:', A)\n",
    "del(A[0])\n",
    "print('After change:', A)"
   ]
  },
  {
   "cell_type": "markdown",
   "id": "d9fd8389-08f9-480c-8ba7-ee681623312f",
   "metadata": {},
   "source": [
    "8. Convert a **__string to a list using split.__** i.e The method split ***_translates every group of characters separated by a space into an element in a list._***"
   ]
  },
  {
   "cell_type": "code",
   "execution_count": 32,
   "id": "8f7d99fe-13c4-4a3f-8c1c-12a844678ddf",
   "metadata": {},
   "outputs": [
    {
     "data": {
      "text/plain": [
       "['hard', 'rock']"
      ]
     },
     "execution_count": 32,
     "metadata": {},
     "output_type": "execute_result"
    }
   ],
   "source": [
    "# Split the string, default is by space\n",
    "\n",
    "'hard rock'.split()"
   ]
  },
  {
   "cell_type": "markdown",
   "id": "3c2242f7-5bf1-4945-85ce-f86f71cb98c5",
   "metadata": {},
   "source": [
    "* Use the split function to **separate strings on a specific character which we call a delimiter.** <br> \n",
    "    1. Pass the character you would like to split on into the argument, which in this case is a comma. \n",
    "    2. The result is a list, and each element corresponds to a set of characters that have been separated by a comma."
   ]
  },
  {
   "cell_type": "code",
   "execution_count": 34,
   "id": "ce43d345-70fc-4e1b-804a-cc4cf7a5762d",
   "metadata": {},
   "outputs": [
    {
     "data": {
      "text/plain": [
       "['A', 'B', 'C', 'D']"
      ]
     },
     "execution_count": 34,
     "metadata": {},
     "output_type": "execute_result"
    }
   ],
   "source": [
    "# Split the string by comma\n",
    "\n",
    "'A,B,C,D'.split(',')"
   ]
  },
  {
   "cell_type": "markdown",
   "id": "31be207f-6f0d-41b1-9af7-41db8e9774b7",
   "metadata": {},
   "source": [
    "### Copy and Clone List"
   ]
  },
  {
   "cell_type": "markdown",
   "id": "bbddecb7-d833-4883-9719-d211eaaf57d5",
   "metadata": {},
   "source": [
    "* When we set one variable (B = A), both A and B are referencing the same list in memory. <br>\n",
    "B = A[:] <br>\n",
    "B"
   ]
  },
  {
   "cell_type": "code",
   "execution_count": 36,
   "id": "9e651270-ff51-4487-974f-f67bfb0e8943",
   "metadata": {},
   "outputs": [
    {
     "name": "stdout",
     "output_type": "stream",
     "text": [
      "A: ['hard rock', 10, 1.2]\n",
      "B: ['hard rock', 10, 1.2]\n"
     ]
    }
   ],
   "source": [
    "# Copy (copy by reference) the list A\n",
    "\n",
    "A = [\"hard rock\", 10, 1.2]\n",
    "B = A\n",
    "print('A:', A)\n",
    "print('B:', B)"
   ]
  },
  {
   "cell_type": "markdown",
   "id": "7e9c429c-8b41-40a6-883e-884893320511",
   "metadata": {},
   "source": [
    "<img src=\"https://cf-courses-data.s3.us.cloud-object-storage.appdomain.cloud/IBMDeveloperSkillsNetwork-PY0101EN-SkillsNetwork/labs/Module%202/images/ListsRef.png\" width=\"1000\" align=\"center\">"
   ]
  },
  {
   "cell_type": "markdown",
   "id": "f53baf13-f7d5-476b-9ddc-f8df7e7c5702",
   "metadata": {},
   "source": [
    "Initially, __the value of the first element in B is set as \"hard rock\".__ If we __change the first element in A to \"banana\",__ we get an unexpected side effect. As __A and B are referencing the same list, if we change list A, then list B also changes.__ *If we check the first element of B we get \"banana\" instead of \"hard rock\".*"
   ]
  },
  {
   "cell_type": "code",
   "execution_count": 37,
   "id": "5ffa4b26-9109-461e-82db-4b1dbd0736ca",
   "metadata": {},
   "outputs": [
    {
     "name": "stdout",
     "output_type": "stream",
     "text": [
      "B[0]: hard rock\n",
      "B[0]: banana\n"
     ]
    }
   ],
   "source": [
    "# Examine the copy by reference\n",
    "\n",
    "print('B[0]:', B[0])\n",
    "A[0] = \"banana\"\n",
    "print('B[0]:', B[0])"
   ]
  },
  {
   "cell_type": "markdown",
   "id": "f88944f0-180d-41fd-a6c2-910ef6fe2cf7",
   "metadata": {},
   "source": [
    "<img src=\"https://cf-courses-data.s3.us.cloud-object-storage.appdomain.cloud/IBMDeveloperSkillsNetwork-PY0101EN-SkillsNetwork/labs/Module%202/images/ListsRefGif.gif\" width=\"1000\">"
   ]
  },
  {
   "cell_type": "markdown",
   "id": "e82aaecb-b4a2-4094-8029-0ccf5c4c3184",
   "metadata": {},
   "source": [
    "You can clone list **A** by using  the following syntax:"
   ]
  },
  {
   "cell_type": "code",
   "execution_count": 39,
   "id": "c89c068a-3394-409b-89e1-74657ad79d47",
   "metadata": {},
   "outputs": [
    {
     "data": {
      "text/plain": [
       "['banana', 10, 1.2]"
      ]
     },
     "execution_count": 39,
     "metadata": {},
     "output_type": "execute_result"
    }
   ],
   "source": [
    "# Clone (clone by value) the list A\n",
    "\n",
    "B = A[:]\n",
    "B"
   ]
  },
  {
   "cell_type": "markdown",
   "id": "3e743392-a0e8-4449-bd3f-e22152029241",
   "metadata": {},
   "source": [
    "Variable B references a new copy or clone of the original list."
   ]
  },
  {
   "cell_type": "markdown",
   "id": "ec8e2387-290c-49fb-a6c2-c65f7467f98f",
   "metadata": {},
   "source": [
    "<img src=\"https://cf-courses-data.s3.us.cloud-object-storage.appdomain.cloud/IBMDeveloperSkillsNetwork-PY0101EN-SkillsNetwork/labs/Module%202/images/ListsVal.gif\" width=\"1000\">"
   ]
  },
  {
   "cell_type": "markdown",
   "id": "c948537a-d282-42fd-a597-1de623ae7077",
   "metadata": {},
   "source": [
    "Now if you change <b>A</b>, <b>B</b> will not change:"
   ]
  },
  {
   "cell_type": "code",
   "execution_count": 40,
   "id": "5b9db6ef-a5c4-431d-b444-9e11ba69e205",
   "metadata": {},
   "outputs": [
    {
     "name": "stdout",
     "output_type": "stream",
     "text": [
      "B[0]: banana\n",
      "B[0]: banana\n"
     ]
    }
   ],
   "source": [
    "print('B[0]:', B[0])\n",
    "A[0] = \"hard rock\"\n",
    "print('B[0]:', B[0])"
   ]
  },
  {
   "cell_type": "markdown",
   "id": "d51cc684-0614-4d5f-8bd8-9806ed1e3bc6",
   "metadata": {},
   "source": [
    "## Review on Lists"
   ]
  },
  {
   "cell_type": "code",
   "execution_count": 92,
   "id": "a2e13fcb-3387-46cd-853d-5d14871aa3cb",
   "metadata": {},
   "outputs": [
    {
     "data": {
      "text/plain": [
       "['1, hello, [1,2,3],True']"
      ]
     },
     "execution_count": 92,
     "metadata": {},
     "output_type": "execute_result"
    }
   ],
   "source": [
    "# Create a list a_list, with the following elements 1, hello, [1,2,3] and True.\n",
    "a_list = ['1, hello, [1,2,3],True']\n",
    "a_list"
   ]
  },
  {
   "cell_type": "code",
   "execution_count": 93,
   "id": "bb789e51-a91b-4b64-a306-c715da382b46",
   "metadata": {},
   "outputs": [
    {
     "ename": "IndexError",
     "evalue": "list index out of range",
     "output_type": "error",
     "traceback": [
      "\u001b[0;31m---------------------------------------------------------------------------\u001b[0m",
      "\u001b[0;31mIndexError\u001b[0m                                Traceback (most recent call last)",
      "Cell \u001b[0;32mIn[93], line 2\u001b[0m\n\u001b[1;32m      1\u001b[0m \u001b[38;5;66;03m# Find the value stored in the element index 1 of a_list\u001b[39;00m\n\u001b[0;32m----> 2\u001b[0m a_list[\u001b[38;5;241m1\u001b[39m]\n",
      "\u001b[0;31mIndexError\u001b[0m: list index out of range"
     ]
    }
   ],
   "source": [
    "# Find the value stored in the element index 1 of a_list\n",
    "a_list[1]"
   ]
  },
  {
   "cell_type": "code",
   "execution_count": 94,
   "id": "02815b37-3350-4671-8540-a159ad7d0e35",
   "metadata": {},
   "outputs": [
    {
     "data": {
      "text/plain": [
       "[]"
      ]
     },
     "execution_count": 94,
     "metadata": {},
     "output_type": "execute_result"
    }
   ],
   "source": [
    "# Retrieve the elements stored at index 1, 2 and 3 of a_list.\n",
    "a_list[1:4]"
   ]
  },
  {
   "cell_type": "code",
   "execution_count": 78,
   "id": "4d23af5b-57c9-450e-91fe-c1edfec4ca87",
   "metadata": {},
   "outputs": [
    {
     "data": {
      "text/plain": [
       "[1, 'a', 2, 1, 'd']"
      ]
     },
     "execution_count": 78,
     "metadata": {},
     "output_type": "execute_result"
    }
   ],
   "source": [
    "# Concatenate the following lists A = [1, 'a'] and B = [2, 1, 'd']:\n",
    "A = [1, 'a'] \n",
    "B = [2, 1, 'd']\n",
    "A + B"
   ]
  },
  {
   "cell_type": "markdown",
   "id": "0c9b9f20-a104-4ea2-a109-e0b0a730d5b6",
   "metadata": {},
   "source": [
    "### Scenario : Shopping list"
   ]
  },
  {
   "cell_type": "markdown",
   "id": "9dcee3eb-59eb-43fb-ac45-b8d089b923cd",
   "metadata": {},
   "source": [
    "### 1. Task 1:  Create an empty list \n",
    "       *create a empty list for storing the items to buy in Shopping list."
   ]
  },
  {
   "cell_type": "code",
   "execution_count": 95,
   "id": "dbe41fc6-1ebc-492c-8c02-220077b477b6",
   "metadata": {},
   "outputs": [],
   "source": [
    "# Create an empty list\n",
    "Shopping_list=[]"
   ]
  },
  {
   "cell_type": "markdown",
   "id": "850369c7-2286-4168-8cc8-d3274746aaaa",
   "metadata": {},
   "source": [
    "### Task 2: Store the number of items to the shopping_list\n",
    "\n",
    "* Watch\n",
    "* Laptop\n",
    "* Shoes\n",
    "* Pen\n",
    "* Clothes"
   ]
  },
  {
   "cell_type": "code",
   "execution_count": 96,
   "id": "e49322f6-a952-4414-9c85-e8f79cd603b1",
   "metadata": {},
   "outputs": [],
   "source": [
    "Shopping_list=['Watch', 'Laptop', 'Shoes', 'Pen', 'Clothes']"
   ]
  },
  {
   "cell_type": "markdown",
   "id": "76c5fae1-f8b8-413c-b346-e1910869cc70",
   "metadata": {},
   "source": [
    "### Task 3:  Add a new item to the shopping_list\n",
    "Use (.append) to add **ONE** new item to the shopping list."
   ]
  },
  {
   "cell_type": "code",
   "execution_count": 100,
   "id": "9e75d0b5-2241-443a-855f-e73685c0cc54",
   "metadata": {},
   "outputs": [],
   "source": [
    "Shopping_list.append('Football')"
   ]
  },
  {
   "cell_type": "markdown",
   "id": "fb149b7d-1ca3-415e-8b70-a5dfe1872ebb",
   "metadata": {},
   "source": [
    "### Task 4: Print First item from the shopping_list\n",
    " Use `indexing` for checking the first item."
   ]
  },
  {
   "cell_type": "code",
   "execution_count": 104,
   "id": "cc97e879-01be-4fca-8d80-157825cc4c9c",
   "metadata": {},
   "outputs": [
    {
     "name": "stdout",
     "output_type": "stream",
     "text": [
      "Watch\n"
     ]
    }
   ],
   "source": [
    "print(Shopping_list[0])"
   ]
  },
  {
   "cell_type": "markdown",
   "id": "62a6b792-d91a-43ce-8493-d05aecea8a97",
   "metadata": {},
   "source": [
    "### Task 4: Print Last item from the shopping_list\n",
    "Check the last time that we need to buy."
   ]
  },
  {
   "cell_type": "code",
   "execution_count": 106,
   "id": "8163dc7d-5048-43d9-8784-8973decf0671",
   "metadata": {},
   "outputs": [
    {
     "name": "stdout",
     "output_type": "stream",
     "text": [
      "Football\n"
     ]
    }
   ],
   "source": [
    "print(Shopping_list[-1])"
   ]
  },
  {
   "cell_type": "code",
   "execution_count": 107,
   "id": "a75b640b-0e28-40ec-b2f4-c1020f6f2be1",
   "metadata": {},
   "outputs": [
    {
     "name": "stdout",
     "output_type": "stream",
     "text": [
      "Shoes\n"
     ]
    }
   ],
   "source": [
    "print(Shopping_list[-4])"
   ]
  },
  {
   "cell_type": "code",
   "execution_count": 108,
   "id": "9606ba2e-2b5d-4017-9a38-80fc938594df",
   "metadata": {},
   "outputs": [
    {
     "name": "stdout",
     "output_type": "stream",
     "text": [
      "Shoes\n"
     ]
    }
   ],
   "source": [
    "print(Shopping_list[2])"
   ]
  },
  {
   "cell_type": "code",
   "execution_count": 109,
   "id": "7ed3d69c-994f-4d1b-9028-d037f15e9822",
   "metadata": {},
   "outputs": [
    {
     "name": "stdout",
     "output_type": "stream",
     "text": [
      "['Watch', 'Laptop', 'Shoes', 'Pen', 'Clothes', 'Football']\n"
     ]
    }
   ],
   "source": [
    "print(Shopping_list)"
   ]
  },
  {
   "cell_type": "markdown",
   "id": "c00b8692-804f-43bc-8e73-338d8ea65564",
   "metadata": {},
   "source": [
    "### Task 5: Change an item on the shopping_list"
   ]
  },
  {
   "cell_type": "code",
   "execution_count": 111,
   "id": "53c2883c-d8e8-44d1-ba56-1bbe5b865177",
   "metadata": {},
   "outputs": [],
   "source": [
    "Shopping_list[3] = 'Notebook'"
   ]
  },
  {
   "cell_type": "code",
   "execution_count": 112,
   "id": "b03c6bfc-ba2e-46a7-9881-983a8180b9d8",
   "metadata": {},
   "outputs": [],
   "source": [
    "del(Shopping_list[3])"
   ]
  },
  {
   "cell_type": "code",
   "execution_count": 113,
   "id": "0d51cd6b-385a-49ce-bfc9-b6e6935cd75e",
   "metadata": {},
   "outputs": [
    {
     "name": "stdout",
     "output_type": "stream",
     "text": [
      "['Watch', 'Laptop', 'Shoes', 'Clothes', 'Football']\n"
     ]
    }
   ],
   "source": [
    "print(Shopping_list)"
   ]
  },
  {
   "cell_type": "code",
   "execution_count": null,
   "id": "4d332c4f-2808-4239-8a7c-4d3d541166bc",
   "metadata": {},
   "outputs": [],
   "source": []
  }
 ],
 "metadata": {
  "kernelspec": {
   "display_name": "Python 3 (ipykernel)",
   "language": "python",
   "name": "python3"
  },
  "language_info": {
   "codemirror_mode": {
    "name": "ipython",
    "version": 3
   },
   "file_extension": ".py",
   "mimetype": "text/x-python",
   "name": "python",
   "nbconvert_exporter": "python",
   "pygments_lexer": "ipython3",
   "version": "3.12.4"
  }
 },
 "nbformat": 4,
 "nbformat_minor": 5
}
