{
 "cells": [
  {
   "cell_type": "markdown",
   "id": "55bc26d6-c625-4f08-abf8-17f3e8867dd4",
   "metadata": {},
   "source": [
    "# Python Practice 9 "
   ]
  },
  {
   "cell_type": "markdown",
   "id": "916adc6c-d290-48dc-8949-520ad0a3500f",
   "metadata": {},
   "source": [
    "## This document is part 9 of the composition of Python language in Jupyter Notebooks; Established to show basic understanding of coding to work with the loop statements in Python, including for-loop and while-loop."
   ]
  },
  {
   "cell_type": "markdown",
   "id": "5377cf33-8d66-43d8-b6b0-dfcc6b080cfd",
   "metadata": {},
   "source": [
    "### Loops <br>\n",
    "#### Range <br>\n",
    "Sometimes, you might want to repeat a given operation many times. Repeated executions like this are performed by loops. We will look at two types of loops, __for loops and while loops__.\n",
    "\n",
    "Before we discuss loops lets discuss the *range object*. It is helpful to think of the range object as an *ordered list.*"
   ]
  },
  {
   "cell_type": "code",
   "execution_count": 4,
   "id": "87706cad-6eb4-46ea-b3aa-9c99588feb05",
   "metadata": {},
   "outputs": [
    {
     "data": {
      "text/plain": [
       "range(0, 3)"
      ]
     },
     "execution_count": 4,
     "metadata": {},
     "output_type": "execute_result"
    }
   ],
   "source": [
    "# Use the range \n",
    "range(3)"
   ]
  },
  {
   "cell_type": "code",
   "execution_count": 3,
   "id": "fd3760cc-dcf6-445b-bf47-4b0d00804243",
   "metadata": {},
   "outputs": [
    {
     "data": {
      "text/plain": [
       "range(0, 7)"
      ]
     },
     "execution_count": 3,
     "metadata": {},
     "output_type": "execute_result"
    }
   ],
   "source": [
    "range(7)"
   ]
  },
  {
   "cell_type": "code",
   "execution_count": 5,
   "id": "60997e61-c218-4d26-a854-9700fefc5c49",
   "metadata": {},
   "outputs": [
    {
     "data": {
      "text/plain": [
       "range(0, 17)"
      ]
     },
     "execution_count": 5,
     "metadata": {},
     "output_type": "execute_result"
    }
   ],
   "source": [
    "range(17)"
   ]
  },
  {
   "cell_type": "markdown",
   "id": "fbe6e183-4b0d-44aa-b2fe-cbc1ecd2e806",
   "metadata": {},
   "source": [
    "### \"For\" Loop:\n",
    "Enables you to execute a code block multiple times. For example, you would use this if you would like to __print out every element in a list.__"
   ]
  },
  {
   "cell_type": "code",
   "execution_count": null,
   "id": "1b631e5e-9565-42f3-8913-bdcd9838edaa",
   "metadata": {},
   "outputs": [],
   "source": [
    "# For loop example\n",
    "\n",
    "dates = [1982,1980,1973]\n",
    "N = len(dates)\n",
    "\n",
    "for i in range(N):\n",
    "    print(dates[i])"
   ]
  },
  {
   "cell_type": "markdown",
   "id": "2ec69257-d72c-4f5d-a31c-703367d07d47",
   "metadata": {},
   "source": [
    "<img src=\"https://cf-courses-data.s3.us.cloud-object-storage.appdomain.cloud/IBMDeveloperSkillsNetwork-PY0101EN-SkillsNetwork/labs/Module%203/images/LoopsForRange.gif\" width=\"800\">"
   ]
  },
  {
   "cell_type": "markdown",
   "id": "51b0faa3-5f0c-469d-8376-f067326683ac",
   "metadata": {},
   "source": [
    "* ### Print out a sequence of numbers from 0 to 7"
   ]
  },
  {
   "cell_type": "code",
   "execution_count": null,
   "id": "b2b92d2e-9d82-4977-a35e-5fd09b681f1a",
   "metadata": {},
   "outputs": [],
   "source": [
    "# Example of for loop\n",
    "\n",
    "for i in range(0, 8):\n",
    "    print(i)"
   ]
  },
  {
   "cell_type": "markdown",
   "id": "3f540e39-3b2c-4df5-b4d9-19eee1d4d1cb",
   "metadata": {},
   "source": [
    "* #### Directly access the elements in the list"
   ]
  },
  {
   "cell_type": "code",
   "execution_count": null,
   "id": "60916d7b-b586-4fed-a25c-f806f120aa0e",
   "metadata": {},
   "outputs": [],
   "source": [
    "# Exmaple of for loop, loop through list\n",
    "\n",
    "for year in dates:  \n",
    "    print(year)   "
   ]
  },
  {
   "cell_type": "code",
   "execution_count": null,
   "id": "00160c08-c6c8-4bc4-af67-d7a21f50632f",
   "metadata": {},
   "outputs": [],
   "source": [
    "for i in dates: \n",
    "    print(year)"
   ]
  },
  {
   "cell_type": "code",
   "execution_count": null,
   "id": "9adac6d7-0dd1-4976-99ed-18f594a4cafb",
   "metadata": {},
   "outputs": [],
   "source": [
    "for i in range(0,4): \n",
    "    print('dates: in order')"
   ]
  },
  {
   "cell_type": "markdown",
   "id": "f902ba3a-ce69-410e-8168-f08fe9322668",
   "metadata": {},
   "source": [
    "* ### Change the elements in a list"
   ]
  },
  {
   "cell_type": "code",
   "execution_count": null,
   "id": "cc98c697-0c3f-46ba-9ad5-c5d1b6c8b137",
   "metadata": {},
   "outputs": [],
   "source": [
    "# Use for loop to change the elements in list\n",
    "\n",
    "squares = ['red', 'yellow', 'green', 'purple', 'blue']\n",
    "\n",
    "for i in range(0, 5):\n",
    "    print(\"Before square \", i, 'is',  squares[i])\n",
    "    squares[i] = 'white'\n",
    "    print(\"After square \", i, 'is',  squares[i])"
   ]
  },
  {
   "cell_type": "markdown",
   "id": "f1680823-9930-40bb-91be-8437489c7d1a",
   "metadata": {},
   "source": [
    "* #### Access the index and the elements of a list "
   ]
  },
  {
   "cell_type": "code",
   "execution_count": null,
   "id": "1c380b6c-64a3-47ca-90a6-3820826322a1",
   "metadata": {},
   "outputs": [],
   "source": [
    "# Loop through the list and iterate on both index and element value\n",
    "\n",
    "squares=['red', 'yellow', 'green', 'purple', 'blue']\n",
    "\n",
    "for i, square in enumerate(squares):\n",
    "    print(i, square)"
   ]
  },
  {
   "cell_type": "markdown",
   "id": "69d00218-d00c-4d91-8611-8d11417fc3a0",
   "metadata": {},
   "source": [
    "### 'While' Loops: Exists as a tool for _repeated execution based on a condition._ The code block will keep being executed until the given logical condition returns a _False boolean value._"
   ]
  },
  {
   "cell_type": "markdown",
   "id": "df0d9dae-1ac9-4c65-a229-d59657eebdb0",
   "metadata": {},
   "source": [
    "### How the While loop works \n",
    "1. First, you __specify a condition that the loop will check before each iteration (repetition) of the code block.__\n",
    "    2. If the condition is __initially true, the code block is executed.__\n",
    "3. After executing the code block, the condition is checked again.\n",
    "4. If the condition is __still true, the code block is executed again.__\n",
    "5. __Steps 3 and 4 repeat until the condition becomes false.__\n",
    "6. __Once the condition becomes false, the loop stops, and the program continues with the next line of code after the loop.__"
   ]
  },
  {
   "cell_type": "code",
   "execution_count": null,
   "id": "cf00b1f7-2de5-4587-9bb3-c3b282a7a916",
   "metadata": {},
   "outputs": [],
   "source": [
    "count = 1\n",
    "while count <= 5:\n",
    "    print(count)\n",
    "    count += 1"
   ]
  },
  {
   "cell_type": "code",
   "execution_count": null,
   "id": "2c3bdd0f-ce92-4e98-aad7-b5fa445c90ed",
   "metadata": {},
   "outputs": [],
   "source": [
    "count = 1\n",
    "while count <= 5:\n",
    "    print(count)\n",
    "    count += 1"
   ]
  },
  {
   "cell_type": "markdown",
   "id": "c77ee58c-0884-4edb-8242-f93c1871f392",
   "metadata": {},
   "source": [
    "* ### Iterate through list dates and stop at the year 1973, then print out the number of iterations."
   ]
  },
  {
   "cell_type": "code",
   "execution_count": null,
   "id": "a3d9dc28-8361-403a-a2c4-9513ffcdc7f8",
   "metadata": {},
   "outputs": [],
   "source": [
    "# While Loop Example\n",
    "\n",
    "dates = [1982, 1980, 1973, 2000]\n",
    "i = 0\n",
    "year = dates[0]\n",
    "while(year != 1973):    \n",
    "    print(year)\n",
    "    i = i + 1\n",
    "    year = dates[i]\n",
    "print(\"It took \", i ,\"repetitions to get out of loop.\")"
   ]
  },
  {
   "cell_type": "code",
   "execution_count": null,
   "id": "2c2b0770-5fb7-446c-9b2e-902b7e3bc5bd",
   "metadata": {},
   "outputs": [],
   "source": [
    "# While Loop Example\n",
    "\n",
    "dates = [1982, 1980, 1973, 2000]\n",
    "\n",
    "i = 0\n",
    "year = dates[0]\n",
    "\n",
    "while(year != 1973):    \n",
    "    print(year)\n",
    "    i = i + 1\n",
    "    year = dates[i]\n",
    "    \n",
    "\n",
    "print(\"It took \", i ,\"repetitions to get out of loop.\")"
   ]
  },
  {
   "cell_type": "markdown",
   "id": "f1c87e99-e732-4f92-b7c0-fdae306936a5",
   "metadata": {},
   "source": [
    "* ## A while loop iterates merely until the condition in the argument is not met"
   ]
  },
  {
   "cell_type": "markdown",
   "id": "2249799a-d9b0-490c-84c2-77eea91dc58e",
   "metadata": {},
   "source": [
    "<img src=\"https://cf-courses-data.s3.us.cloud-object-storage.appdomain.cloud/IBMDeveloperSkillsNetwork-PY0101EN-SkillsNetwork/labs/Module%203/images/LoopsWhile.gif\" width=\"650\">"
   ]
  },
  {
   "cell_type": "code",
   "execution_count": null,
   "id": "ff260ec2-3ee8-4d5d-885f-7dad58f6288e",
   "metadata": {},
   "outputs": [],
   "source": [
    "albums=250\n",
    "total_albums=1\n",
    "i=1;\n",
    "    while (year != 1973):\n",
    "        1973 = dates [i]\n",
    "        i=i+1\n",
    "        print(1973)\n",
    "print('it took', i, 'outloop')"
   ]
  },
  {
   "cell_type": "code",
   "execution_count": null,
   "id": "424b42da-b0e4-45f3-a318-0975c93f5320",
   "metadata": {},
   "outputs": [],
   "source": [
    "albums=100\n",
    "total_albums=1\n",
    "i=1;\n",
    "    while (year == 1973):\n",
    "        year = dates [i]\n",
    "        i=1+1\n",
    "        print(1980)\n",
    "print('it took', i , 'outloop')"
   ]
  },
  {
   "cell_type": "markdown",
   "id": "fa263f89-2166-411e-8e41-511a2461f569",
   "metadata": {},
   "source": [
    "* #### The main difference between a while loop and a for loop in Python is __how they control the flow of execution and handle iterations.__"
   ]
  },
  {
   "cell_type": "markdown",
   "id": "3fabbe56-6bef-41a6-b059-eb70e2ef8c86",
   "metadata": {},
   "source": [
    "* Key points of *__While Loop__*:\n",
    "1. A while loop _repeatedly executes a block of code as long as a given condition is true._\n",
    "2. It _does not have a fixed number of iterations but continues executing until the condition becomes false._\n",
    "3. The __condition is checked before each iteration, and if it's false initially, the code block is skipped entirely.__\n",
    "4. The __condition is typically based on a variable or expression that can change during the execution of the loop.__\n",
    "5. It provides more flexibility in terms of controlling the loop's execution based on dynamic conditions.\n",
    "\n",
    "* Key points of *__For Loop__*:\n",
    "1. A for loop __iterates over a sequence (such as a list, string, or range) or any object that supports iteration.__\n",
    "2. It __has a predefined number of iterations based on the length of the sequence or the number of items to iterate over.__\n",
    "3. It __automatically handles the iteration and does not require maintaining a separate variable for tracking the iteration count.__\n",
    "4. It *__simplifies the code by encapsulating the iteration logic within the loop itself.__*\n",
    "5. It is *commonly used when you know the exact number of iterations or need to iterate over each item in a collection.*"
   ]
  },
  {
   "cell_type": "markdown",
   "id": "ffc2fc55-c511-4289-8f0b-6673ad665770",
   "metadata": {},
   "source": [
    "### Recap on Loops"
   ]
  },
  {
   "cell_type": "markdown",
   "id": "199e483a-5c08-4504-91a0-cf3d67068103",
   "metadata": {},
   "source": [
    "* #### Write a for loop that prints out all the element between -5 and 5 using the range function."
   ]
  },
  {
   "cell_type": "code",
   "execution_count": 2,
   "id": "88165b44-b22e-41ed-940a-55b6bb65d412",
   "metadata": {},
   "outputs": [
    {
     "data": {
      "text/plain": [
       "range(-5, 5)"
      ]
     },
     "execution_count": 2,
     "metadata": {},
     "output_type": "execute_result"
    }
   ],
   "source": [
    "# use the range\n",
    "range(-5,5)"
   ]
  },
  {
   "cell_type": "code",
   "execution_count": 18,
   "id": "97555b01-6caa-4e52-9e8e-8842c7ff9fe1",
   "metadata": {},
   "outputs": [
    {
     "name": "stdout",
     "output_type": "stream",
     "text": [
      "-4,5 [-4]\n",
      "-4,5 [5]\n"
     ]
    }
   ],
   "source": [
    "# For Loop\n",
    "range = (-4,5)\n",
    "\n",
    "for i in range:\n",
    "    print('-4,5', [i])"
   ]
  },
  {
   "cell_type": "markdown",
   "id": "0a3298ac-65a2-445b-b622-ba5b1d985909",
   "metadata": {},
   "source": [
    "* #### Print the elements of the following list: Genres=[ 'rock', 'R&B', 'Soundtrack', 'R&B', 'soul', 'pop']"
   ]
  },
  {
   "cell_type": "code",
   "execution_count": 14,
   "id": "5f8b18d4-460b-401f-99b0-ae70b5e5bf55",
   "metadata": {},
   "outputs": [
    {
     "name": "stdout",
     "output_type": "stream",
     "text": [
      "rock\n",
      "R&B\n",
      "Soundtrack\n",
      "R&B\n",
      "soul\n",
      "pop\n"
     ]
    }
   ],
   "source": [
    "Genres = ['rock', 'R&B', 'Soundtrack', 'R&B', 'soul', 'pop']\n",
    "for Genre in Genres:\n",
    "    print(Genre)"
   ]
  },
  {
   "cell_type": "markdown",
   "id": "f1c75ed5-ff60-4a3d-bafe-28f94568155b",
   "metadata": {},
   "source": [
    "* #### Write a for loop that prints out the following list: squares=['red', 'yellow', 'green', 'purple', 'blue']"
   ]
  },
  {
   "cell_type": "code",
   "execution_count": 19,
   "id": "c075866f-bfae-4fce-9e43-f543b60a572e",
   "metadata": {},
   "outputs": [
    {
     "name": "stdout",
     "output_type": "stream",
     "text": [
      "red\n",
      "yellow\n",
      "green\n",
      "purple\n",
      "blue\n"
     ]
    }
   ],
   "source": [
    "squares=['red', 'yellow', 'green', 'purple', 'blue']\n",
    "for square in squares:\n",
    "    print(square)"
   ]
  },
  {
   "cell_type": "markdown",
   "id": "1b3ab003-dac5-4587-8545-8c01a1118d6e",
   "metadata": {},
   "source": [
    "* #### Write a while loop to display the values of the Rating of an album playlist stored in the list PlayListRatings. If the score is less than 6, exit the loop. The list PlayListRatings is given by: PlayListRatings = [10, 9.5, 10, 8, 7.5, 5, 10, 10]"
   ]
  },
  {
   "cell_type": "code",
   "execution_count": 20,
   "id": "ecf75361-9a92-45ee-ad60-a9000e27982c",
   "metadata": {},
   "outputs": [
    {
     "name": "stdout",
     "output_type": "stream",
     "text": [
      "10\n",
      "9.5\n",
      "10\n",
      "8\n",
      "7.5\n"
     ]
    }
   ],
   "source": [
    "PlayListRatings = [10, 9.5, 10, 8, 7.5, 5, 10, 10]\n",
    "i = 0\n",
    "rating = PlayListRatings[0]\n",
    "while(i < len(PlayListRatings) and rating >= 6):\n",
    "    print(rating)\n",
    "    i = i + 1 \n",
    "    rating = PlayListRatings[i]   "
   ]
  },
  {
   "cell_type": "code",
   "execution_count": 21,
   "id": "2284ee64-7320-49aa-9967-7c0a43066a59",
   "metadata": {},
   "outputs": [
    {
     "name": "stdout",
     "output_type": "stream",
     "text": [
      "9.5\n",
      "10\n",
      "8\n",
      "7.5\n"
     ]
    }
   ],
   "source": [
    "PlayListRatings = [10, 9.5, 10, 8, 7.5, 5, 10, 10]\n",
    "i = 1\n",
    "rating = PlayListRatings[1]\n",
    "while(i < len(PlayListRatings) and rating >= 6):\n",
    "    print(rating)\n",
    "    i = i + 1 \n",
    "    rating = PlayListRatings[i]   "
   ]
  },
  {
   "cell_type": "markdown",
   "id": "cb4e8120-b14d-4e57-84bd-d524957a2109",
   "metadata": {},
   "source": [
    "* ### Write a while loop to copy the strings 'orange' of the list squares to the list new_squares. Stop and exit the loop if the value on the list is not 'orange'"
   ]
  },
  {
   "cell_type": "code",
   "execution_count": 24,
   "id": "3a3464c5-e475-4436-8a1f-da47faf1e133",
   "metadata": {},
   "outputs": [
    {
     "name": "stdout",
     "output_type": "stream",
     "text": [
      "['orange', 'orange']\n"
     ]
    }
   ],
   "source": [
    "squares = ['orange', 'orange', 'purple', 'blue ', 'orange']\n",
    "new_squares = []\n",
    "i = 0\n",
    "while(i < len(squares) and squares[i] == 'orange'):\n",
    "    new_squares.append(squares[i])\n",
    "    i = i + 1\n",
    "print (new_squares)"
   ]
  },
  {
   "cell_type": "code",
   "execution_count": 26,
   "id": "4c12bf27-ffdf-46d2-8330-ebe9fb32066c",
   "metadata": {},
   "outputs": [
    {
     "name": "stdout",
     "output_type": "stream",
     "text": [
      "['purple']\n"
     ]
    }
   ],
   "source": [
    "squares = ['orange', 'orange', 'purple', 'blue ', 'orange']\n",
    "new_squares = []\n",
    "i = 2\n",
    "while(i < len(squares) and squares[i] == 'purple'):\n",
    "    new_squares.append(squares[i])\n",
    "    i = i + 1\n",
    "print (new_squares)"
   ]
  },
  {
   "cell_type": "markdown",
   "id": "7d1357fe-8142-4a5b-951b-6920329965a4",
   "metadata": {},
   "source": [
    "* #### The following is a list of animals in a National Zoo. Animals = [\"lion\", \"giraffe\", \"gorilla\", \"parrots\", \"crocodile\",\"deer\", \"swan\"]\n",
    "\n",
    "Your brother needs to write an essay on the animals whose names are made of 7 letters. Help him find those animals through a while loop and create a separate list of such animals."
   ]
  },
  {
   "cell_type": "code",
   "execution_count": 53,
   "id": "e0be22bd-d769-49d7-b851-f58eae93e6ff",
   "metadata": {},
   "outputs": [
    {
     "name": "stdout",
     "output_type": "stream",
     "text": [
      "['giraffe', 'gorilla', 'parrots']\n"
     ]
    }
   ],
   "source": [
    "Animals = [\"lion\", \"giraffe\", \"gorilla\", \"parrots\", \"crocodile\",\"deer\", \"swan\"]\n",
    "New = []\n",
    "i=0\n",
    "while i<len(Animals):\n",
    "    j=Animals[i]\n",
    "    if(len(j)==7):\n",
    "        New.append(j)\n",
    "    i=i+1\n",
    "print(New)"
   ]
  }
 ],
 "metadata": {
  "kernelspec": {
   "display_name": "Python 3 (ipykernel)",
   "language": "python",
   "name": "python3"
  },
  "language_info": {
   "codemirror_mode": {
    "name": "ipython",
    "version": 3
   },
   "file_extension": ".py",
   "mimetype": "text/x-python",
   "name": "python",
   "nbconvert_exporter": "python",
   "pygments_lexer": "ipython3",
   "version": "3.12.4"
  }
 },
 "nbformat": 4,
 "nbformat_minor": 5
}
