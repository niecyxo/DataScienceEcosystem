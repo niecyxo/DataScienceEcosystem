{
 "cells": [
  {
   "cell_type": "markdown",
   "id": "4d607be6-6660-48d3-8b55-f0fb5fe949fe",
   "metadata": {},
   "source": [
    " #  Python Practice -- Basics of Python"
   ]
  },
  {
   "cell_type": "markdown",
   "id": "829ae0e8-2d8c-4ac0-b0bb-4adc55fa2b10",
   "metadata": {},
   "source": [
    "## This document is being composed to show basic understanding of the Python language in Jupyter Notebooks. After completion of this Python practice, I will have a better understanding of coding in Python language in Data Science. \n",
    "\n"
   ]
  },
  {
   "cell_type": "markdown",
   "id": "ddaa83be-4680-40a5-a74d-14970123f7b2",
   "metadata": {},
   "source": [
    "### Markdown cell: A cell specifically for writing and making commentary in the Jupyter Notebook. \n",
    "### Code cell -- A cell meant specifically for programming that will not pick up literal statements without code."
   ]
  },
  {
   "cell_type": "code",
   "execution_count": 176,
   "id": "f85121f8-15a5-4e8a-88ae-1179f3154f3f",
   "metadata": {},
   "outputs": [
    {
     "name": "stdout",
     "output_type": "stream",
     "text": [
      "Hello, Python!\n"
     ]
    }
   ],
   "source": [
    "print('Hello, Python!')"
   ]
  },
  {
   "cell_type": "code",
   "execution_count": 177,
   "id": "87cec0a3-ac0c-43cb-bb5f-53c16988dda3",
   "metadata": {},
   "outputs": [
    {
     "name": "stdout",
     "output_type": "stream",
     "text": [
      "This line prints a string.\n"
     ]
    }
   ],
   "source": [
    "# Practice writing comments\n",
    "print('This line prints a string.')"
   ]
  },
  {
   "cell_type": "code",
   "execution_count": 178,
   "id": "73d823b0-3494-43a9-967d-cd2aafee20a6",
   "metadata": {},
   "outputs": [
    {
     "name": "stdout",
     "output_type": "stream",
     "text": [
      "This was a practice line. Anything past the hashtag does not get included into the code, but the words themself. these are called comments\n"
     ]
    }
   ],
   "source": [
    "# Practice writing comments \n",
    "print('This was a practice line. Anything past the hashtag does not get included into the code, but the words themself. these are called comments')"
   ]
  },
  {
   "cell_type": "code",
   "execution_count": 179,
   "id": "255f9f2e-d67d-4f1e-ba70-0403bc07c174",
   "metadata": {},
   "outputs": [
    {
     "name": "stdout",
     "output_type": "stream",
     "text": [
      "Hello, World!\n"
     ]
    }
   ],
   "source": [
    "# Print the traditional Hello World\n",
    "print('Hello, World!')"
   ]
  },
  {
   "cell_type": "code",
   "execution_count": 180,
   "id": "f86ea055-301e-4fea-af60-ce8a426a559f",
   "metadata": {},
   "outputs": [
    {
     "name": "stdout",
     "output_type": "stream",
     "text": [
      "What is the value of z = x+y?\n"
     ]
    }
   ],
   "source": [
    "print('What is the value of z = x+y?')"
   ]
  },
  {
   "cell_type": "code",
   "execution_count": 181,
   "id": "e33e6991-dcc6-45a6-adef-970ff685ac8f",
   "metadata": {},
   "outputs": [
    {
     "name": "stdout",
     "output_type": "stream",
     "text": [
      "You can do equations in code as normal. input the (+,-,*,/) signs as normal, run your code!\n"
     ]
    }
   ],
   "source": [
    "print('You can do equations in code as normal. input the (+,-,*,/) signs as normal, run your code!')"
   ]
  },
  {
   "cell_type": "code",
   "execution_count": 182,
   "id": "574cbb68-0f02-463a-9140-0d813d01541e",
   "metadata": {},
   "outputs": [
    {
     "name": "stdout",
     "output_type": "stream",
     "text": [
      "Example:\n"
     ]
    },
    {
     "data": {
      "text/plain": [
       "5"
      ]
     },
     "execution_count": 182,
     "metadata": {},
     "output_type": "execute_result"
    }
   ],
   "source": [
    "print('Example:')\n",
    "2+3"
   ]
  },
  {
   "cell_type": "markdown",
   "id": "86dd4e80-e8d2-4796-ae8d-30c86ffcfd35",
   "metadata": {},
   "source": [
    "## Strings, Integers, and Floats"
   ]
  },
  {
   "cell_type": "code",
   "execution_count": 183,
   "id": "7a3492ff-5efb-4c21-8456-353e5e22f1ec",
   "metadata": {},
   "outputs": [
    {
     "data": {
      "text/plain": [
       "11"
      ]
     },
     "execution_count": 183,
     "metadata": {},
     "output_type": "execute_result"
    }
   ],
   "source": [
    "# Integer\n",
    "11"
   ]
  },
  {
   "cell_type": "code",
   "execution_count": 184,
   "id": "8157cca7-1dea-4a2c-be75-82742c172dda",
   "metadata": {},
   "outputs": [
    {
     "data": {
      "text/plain": [
       "2.14"
      ]
     },
     "execution_count": 184,
     "metadata": {},
     "output_type": "execute_result"
    }
   ],
   "source": [
    "# Float \n",
    "2.14"
   ]
  },
  {
   "cell_type": "code",
   "execution_count": 185,
   "id": "e484e4ab-2c04-4886-bc92-5d1231bf9916",
   "metadata": {},
   "outputs": [
    {
     "name": "stdout",
     "output_type": "stream",
     "text": [
      "Hello, Python!\n"
     ]
    }
   ],
   "source": [
    "# String\n",
    "print('Hello, Python!')"
   ]
  },
  {
   "cell_type": "markdown",
   "id": "bc2273fa-edbc-4980-9722-4bbe78fd1051",
   "metadata": {},
   "source": [
    "You can get Python to tell you the type of an expression by using the built-in type() function."
   ]
  },
  {
   "cell_type": "code",
   "execution_count": 186,
   "id": "c8ae6441-4615-4909-8fdd-fb1f277fc6a0",
   "metadata": {},
   "outputs": [
    {
     "data": {
      "text/plain": [
       "int"
      ]
     },
     "execution_count": 186,
     "metadata": {},
     "output_type": "execute_result"
    }
   ],
   "source": [
    "# Type of 12\n",
    "type(12)"
   ]
  },
  {
   "cell_type": "code",
   "execution_count": 187,
   "id": "11a7b825-3167-40d1-a2a9-54493c9227f7",
   "metadata": {},
   "outputs": [
    {
     "data": {
      "text/plain": [
       "float"
      ]
     },
     "execution_count": 187,
     "metadata": {},
     "output_type": "execute_result"
    }
   ],
   "source": [
    "# Type of 2.14\n",
    "type(2.14)"
   ]
  },
  {
   "cell_type": "code",
   "execution_count": 188,
   "id": "d058e088-b462-49d3-8904-248416ab82a4",
   "metadata": {},
   "outputs": [
    {
     "data": {
      "text/plain": [
       "str"
      ]
     },
     "execution_count": 188,
     "metadata": {},
     "output_type": "execute_result"
    }
   ],
   "source": [
    "# Type of \"Hello, Python!\"\n",
    "type (\"Hello, Python!\")"
   ]
  },
  {
   "cell_type": "code",
   "execution_count": 189,
   "id": "7760a945-b56e-4cc6-bd3e-dd117cff29a7",
   "metadata": {},
   "outputs": [
    {
     "data": {
      "text/plain": [
       "float"
      ]
     },
     "execution_count": 189,
     "metadata": {},
     "output_type": "execute_result"
    }
   ],
   "source": [
    "type(12.)"
   ]
  },
  {
   "cell_type": "code",
   "execution_count": 190,
   "id": "8a7e25a9-2cc9-42bd-bcff-9c21c218f8cc",
   "metadata": {},
   "outputs": [
    {
     "data": {
      "text/plain": [
       "int"
      ]
     },
     "execution_count": 190,
     "metadata": {},
     "output_type": "execute_result"
    }
   ],
   "source": [
    "# Print the type of (-1)\n",
    "type(-1)"
   ]
  },
  {
   "cell_type": "code",
   "execution_count": 191,
   "id": "a940f8a3-a1b5-4312-aaf0-8dbc6e078a91",
   "metadata": {},
   "outputs": [
    {
     "data": {
      "text/plain": [
       "int"
      ]
     },
     "execution_count": 191,
     "metadata": {},
     "output_type": "execute_result"
    }
   ],
   "source": [
    "# Print the type of (4)\n",
    "type(4)"
   ]
  },
  {
   "cell_type": "code",
   "execution_count": 192,
   "id": "5b6324d4-ac1f-4f48-9ba5-31a35de91c06",
   "metadata": {},
   "outputs": [
    {
     "data": {
      "text/plain": [
       "int"
      ]
     },
     "execution_count": 192,
     "metadata": {},
     "output_type": "execute_result"
    }
   ],
   "source": [
    "# Print the type of 0\n",
    "type(0)"
   ]
  },
  {
   "cell_type": "code",
   "execution_count": 193,
   "id": "a5033b0b-735d-4dc2-ad08-c045984700bc",
   "metadata": {},
   "outputs": [
    {
     "data": {
      "text/plain": [
       "float"
      ]
     },
     "execution_count": 193,
     "metadata": {},
     "output_type": "execute_result"
    }
   ],
   "source": [
    "# Print the type of 1.0\n",
    "type (1.0)"
   ]
  },
  {
   "cell_type": "code",
   "execution_count": 194,
   "id": "215f4679-f7a9-40dd-97bc-f744d091c75c",
   "metadata": {},
   "outputs": [
    {
     "data": {
      "text/plain": [
       "float"
      ]
     },
     "execution_count": 194,
     "metadata": {},
     "output_type": "execute_result"
    }
   ],
   "source": [
    "# Print the type of 0.5\n",
    "type(0.5)"
   ]
  },
  {
   "cell_type": "code",
   "execution_count": 195,
   "id": "bb01399e-d905-4888-b845-2a8b32fecbbc",
   "metadata": {},
   "outputs": [
    {
     "data": {
      "text/plain": [
       "float"
      ]
     },
     "execution_count": 195,
     "metadata": {},
     "output_type": "execute_result"
    }
   ],
   "source": [
    "# Print the type of 0.56\n",
    "type(0.56)"
   ]
  },
  {
   "cell_type": "code",
   "execution_count": 196,
   "id": "c73dec20-59f1-4e6f-b338-134ae48c9b3e",
   "metadata": {},
   "outputs": [
    {
     "data": {
      "text/plain": [
       "sys.float_info(max=1.7976931348623157e+308, max_exp=1024, max_10_exp=308, min=2.2250738585072014e-308, min_exp=-1021, min_10_exp=-307, dig=15, mant_dig=53, epsilon=2.220446049250313e-16, radix=2, rounds=1)"
      ]
     },
     "execution_count": 196,
     "metadata": {},
     "output_type": "execute_result"
    }
   ],
   "source": [
    "# System settings of float type\n",
    "import sys\n",
    "sys.float_info"
   ]
  },
  {
   "cell_type": "code",
   "execution_count": 197,
   "id": "c23b269c-552b-4eb0-8f8e-fcac78d1ba42",
   "metadata": {},
   "outputs": [
    {
     "data": {
      "text/plain": [
       "int"
      ]
     },
     "execution_count": 197,
     "metadata": {},
     "output_type": "execute_result"
    }
   ],
   "source": [
    "type(2)"
   ]
  },
  {
   "cell_type": "code",
   "execution_count": 198,
   "id": "91c6f5a7-f462-427e-8eeb-dd71ba2a8af7",
   "metadata": {},
   "outputs": [
    {
     "data": {
      "text/plain": [
       "2.0"
      ]
     },
     "execution_count": 198,
     "metadata": {},
     "output_type": "execute_result"
    }
   ],
   "source": [
    "# Convert an integer into a float\n",
    "float(2)"
   ]
  },
  {
   "cell_type": "markdown",
   "id": "87ee86cb-3f20-4fbb-9bf6-ab0c9d8b2b05",
   "metadata": {},
   "source": [
    "Casting 1.1 into an integer (1) could resolt in loss of information. "
   ]
  },
  {
   "cell_type": "code",
   "execution_count": 199,
   "id": "618884d5-2103-4867-ae39-7da2373f957c",
   "metadata": {},
   "outputs": [
    {
     "data": {
      "text/plain": [
       "1"
      ]
     },
     "execution_count": 199,
     "metadata": {},
     "output_type": "execute_result"
    }
   ],
   "source": [
    "# Convert a string into an integer \n",
    "int('1')"
   ]
  },
  {
   "cell_type": "code",
   "execution_count": 200,
   "id": "0ad12a5e-68c0-44b6-b7a4-0b7ebcac198e",
   "metadata": {},
   "outputs": [
    {
     "data": {
      "text/plain": [
       "3.0"
      ]
     },
     "execution_count": 200,
     "metadata": {},
     "output_type": "execute_result"
    }
   ],
   "source": [
    "# Convert an integer to a float \n",
    "float(3)"
   ]
  },
  {
   "cell_type": "code",
   "execution_count": 201,
   "id": "99be58f3-a58e-450a-94fe-7d973e68c90b",
   "metadata": {},
   "outputs": [
    {
     "data": {
      "text/plain": [
       "'2.7'"
      ]
     },
     "execution_count": 201,
     "metadata": {},
     "output_type": "execute_result"
    }
   ],
   "source": [
    "# Convert a float to a string \n",
    "str(2.7)"
   ]
  },
  {
   "cell_type": "code",
   "execution_count": 202,
   "id": "f55a486d-2d5e-4058-bdf6-f2b20ccf1df6",
   "metadata": {},
   "outputs": [
    {
     "data": {
      "text/plain": [
       "'7'"
      ]
     },
     "execution_count": 202,
     "metadata": {},
     "output_type": "execute_result"
    }
   ],
   "source": [
    "# Convert an integer to a string \n",
    "str(7)"
   ]
  },
  {
   "cell_type": "code",
   "execution_count": 203,
   "id": "fbd1bb3a-2353-44ba-a92c-caef1ab93836",
   "metadata": {},
   "outputs": [
    {
     "data": {
      "text/plain": [
       "1.2"
      ]
     },
     "execution_count": 203,
     "metadata": {},
     "output_type": "execute_result"
    }
   ],
   "source": [
    "# Convert the string (1.2) into a float\n",
    "float('1.2')"
   ]
  },
  {
   "cell_type": "markdown",
   "id": "7ed0ecef-21a0-4109-b703-7323925cea04",
   "metadata": {},
   "source": [
    "### Note: strings(str) will come with a quotation mark ('' or \"\") but not both."
   ]
  },
  {
   "cell_type": "markdown",
   "id": "0e17bb49-7177-4e1f-9fff-c352df8b6cfb",
   "metadata": {},
   "source": [
    "### __Boolean__ can take on one of two values: **True or False**\n",
    "When you ask Python to display the type of a boolean object it will show  which stands for boolean.\n"
   ]
  },
  {
   "cell_type": "code",
   "execution_count": 204,
   "id": "99625ff5-65fe-48e1-82dd-8ef93fa0d5ce",
   "metadata": {},
   "outputs": [
    {
     "data": {
      "text/plain": [
       "True"
      ]
     },
     "execution_count": 204,
     "metadata": {},
     "output_type": "execute_result"
    }
   ],
   "source": [
    "# Value true\n",
    "True"
   ]
  },
  {
   "cell_type": "code",
   "execution_count": 205,
   "id": "0dc19cb2-9d3a-47d6-81bc-57bb1b685853",
   "metadata": {},
   "outputs": [
    {
     "data": {
      "text/plain": [
       "False"
      ]
     },
     "execution_count": 205,
     "metadata": {},
     "output_type": "execute_result"
    }
   ],
   "source": [
    "# Value False\n",
    "False"
   ]
  },
  {
   "cell_type": "code",
   "execution_count": 206,
   "id": "77ee3d38-1187-4e2e-bd76-5b9b42d42453",
   "metadata": {},
   "outputs": [
    {
     "data": {
      "text/plain": [
       "bool"
      ]
     },
     "execution_count": 206,
     "metadata": {},
     "output_type": "execute_result"
    }
   ],
   "source": [
    "# Value Type \n",
    "type(True)"
   ]
  },
  {
   "cell_type": "code",
   "execution_count": 207,
   "id": "2e8a0be7-37a6-4462-8b03-13143a5ba9a2",
   "metadata": {},
   "outputs": [
    {
     "data": {
      "text/plain": [
       "bool"
      ]
     },
     "execution_count": 207,
     "metadata": {},
     "output_type": "execute_result"
    }
   ],
   "source": [
    "# Value Type \n",
    "type(False)"
   ]
  },
  {
   "cell_type": "markdown",
   "id": "771906e8-21af-4432-b0c0-89f344319a0e",
   "metadata": {},
   "source": [
    "# Casting Boolean objects to other data\n",
    "We **__CAN__** cast boolean objects to other data types. If we cast a boolean with a __value of True__ to an __integer or float__ we will get a **one**. If we cast a boolean with a __value of False__ to an __integer or float__ we will get a **zero**. Similarly, if we cast a __1 to a Boolean__, you get a **True**. And if we cast a __0 to a Boolean__ we will get a **False**."
   ]
  },
  {
   "cell_type": "markdown",
   "id": "3665a729-ebc2-481a-b9d8-a8ee71b31b76",
   "metadata": {},
   "source": [
    "### Examples of \"Types\" Conversion(s)"
   ]
  },
  {
   "cell_type": "code",
   "execution_count": 208,
   "id": "3f7687f3-f624-45be-aa33-9c2d3ac9d243",
   "metadata": {},
   "outputs": [
    {
     "data": {
      "text/plain": [
       "1"
      ]
     },
     "execution_count": 208,
     "metadata": {},
     "output_type": "execute_result"
    }
   ],
   "source": [
    "# Convert True to int\n",
    "int(True)"
   ]
  },
  {
   "cell_type": "code",
   "execution_count": 209,
   "id": "734249a2-23b8-4b9d-a88c-4cdc467c0cbb",
   "metadata": {},
   "outputs": [
    {
     "data": {
      "text/plain": [
       "True"
      ]
     },
     "execution_count": 209,
     "metadata": {},
     "output_type": "execute_result"
    }
   ],
   "source": [
    "# Convert 1 to Boolean\n",
    "bool(1)"
   ]
  },
  {
   "cell_type": "code",
   "execution_count": 210,
   "id": "79401b28-a6ce-4d00-8c25-6c971c937224",
   "metadata": {},
   "outputs": [
    {
     "data": {
      "text/plain": [
       "False"
      ]
     },
     "execution_count": 210,
     "metadata": {},
     "output_type": "execute_result"
    }
   ],
   "source": [
    "# Convert 0 to Boolean\n",
    "bool(0)"
   ]
  },
  {
   "cell_type": "code",
   "execution_count": 211,
   "id": "89f3f6ba-de88-42b8-9cb5-7bf5d7e2820e",
   "metadata": {},
   "outputs": [
    {
     "data": {
      "text/plain": [
       "1.0"
      ]
     },
     "execution_count": 211,
     "metadata": {},
     "output_type": "execute_result"
    }
   ],
   "source": [
    "# Convert True to float\n",
    "float(True)"
   ]
  },
  {
   "cell_type": "code",
   "execution_count": 212,
   "id": "4bc38a0b-728a-4330-9e6e-eb198684a22e",
   "metadata": {},
   "outputs": [
    {
     "data": {
      "text/plain": [
       "float"
      ]
     },
     "execution_count": 212,
     "metadata": {},
     "output_type": "execute_result"
    }
   ],
   "source": [
    "# What is the type of 6/2?\n",
    "type(6/2)"
   ]
  },
  {
   "cell_type": "code",
   "execution_count": 213,
   "id": "be95cfd8-4c3d-4c73-8aa5-89aab0d267e3",
   "metadata": {},
   "outputs": [
    {
     "data": {
      "text/plain": [
       "int"
      ]
     },
     "execution_count": 213,
     "metadata": {},
     "output_type": "execute_result"
    }
   ],
   "source": [
    "# What is the type of the result 6//2?\n",
    "type(6//2)"
   ]
  },
  {
   "cell_type": "code",
   "execution_count": 214,
   "id": "e6cd746d-81b9-4204-93ba-fe14f80d8f5b",
   "metadata": {},
   "outputs": [
    {
     "data": {
      "text/plain": [
       "str"
      ]
     },
     "execution_count": 214,
     "metadata": {},
     "output_type": "execute_result"
    }
   ],
   "source": [
    "# What is the type of the result \"Hello, World!\"?\n",
    "type('Hello, World!')"
   ]
  },
  {
   "cell_type": "code",
   "execution_count": 215,
   "id": "f1cd7818-8028-4540-9990-75a08e0cda85",
   "metadata": {},
   "outputs": [
    {
     "data": {
      "text/plain": [
       "bool"
      ]
     },
     "execution_count": 215,
     "metadata": {},
     "output_type": "execute_result"
    }
   ],
   "source": [
    "# What is the type of the result 'Hello'=='World!'?\n",
    "type('Hello'=='World!')"
   ]
  },
  {
   "cell_type": "code",
   "execution_count": 216,
   "id": "c154ec7a-ecca-4d19-85e5-3b99c6dfa881",
   "metadata": {},
   "outputs": [
    {
     "data": {
      "text/plain": [
       "1001"
      ]
     },
     "execution_count": 216,
     "metadata": {},
     "output_type": "execute_result"
    }
   ],
   "source": [
    "# Write the code to convert Employee ID number '1001' to an integer\n",
    "int('1001')"
   ]
  },
  {
   "cell_type": "code",
   "execution_count": 217,
   "id": "847d1e8e-7167-41ef-b390-d0548379889c",
   "metadata": {},
   "outputs": [
    {
     "data": {
      "text/plain": [
       "1234.56"
      ]
     },
     "execution_count": 217,
     "metadata": {},
     "output_type": "execute_result"
    }
   ],
   "source": [
    "# Write the code to convert \"1234.56\" to a float\n",
    "float('1234.56')"
   ]
  },
  {
   "cell_type": "code",
   "execution_count": 218,
   "id": "49275d42-c6c3-4aaf-8029-366eccfcc927",
   "metadata": {},
   "outputs": [
    {
     "data": {
      "text/plain": [
       "'123-456-7890'"
      ]
     },
     "execution_count": 218,
     "metadata": {},
     "output_type": "execute_result"
    }
   ],
   "source": [
    "# Write the code to convert the phone number 123-456-7890 to a string\n",
    "str('123-456-7890')"
   ]
  },
  {
   "cell_type": "markdown",
   "id": "70cab7e3-d547-43b9-afab-92e4b44f5127",
   "metadata": {},
   "source": [
    "### Expressions and Variables"
   ]
  },
  {
   "cell_type": "markdown",
   "id": "85d28d76-78d0-47b7-bcbe-89a9d84193db",
   "metadata": {},
   "source": [
    "#### Expressions"
   ]
  },
  {
   "cell_type": "code",
   "execution_count": 219,
   "id": "66e24a76-fbbd-4c9c-aa00-ccc46425284d",
   "metadata": {},
   "outputs": [
    {
     "data": {
      "text/plain": [
       "160"
      ]
     },
     "execution_count": 219,
     "metadata": {},
     "output_type": "execute_result"
    }
   ],
   "source": [
    "# Addition operation expression\n",
    "43 + 60 + 16 + 41"
   ]
  },
  {
   "cell_type": "code",
   "execution_count": 220,
   "id": "3a0da00f-a55c-4c41-8cc6-e9776495c204",
   "metadata": {},
   "outputs": [
    {
     "data": {
      "text/plain": [
       "-10"
      ]
     },
     "execution_count": 220,
     "metadata": {},
     "output_type": "execute_result"
    }
   ],
   "source": [
    "# Subtraction operation expression\n",
    "50 - 60"
   ]
  },
  {
   "cell_type": "code",
   "execution_count": 221,
   "id": "3943a865-af4a-4cc0-b664-59e4050ad770",
   "metadata": {},
   "outputs": [
    {
     "data": {
      "text/plain": [
       "98"
      ]
     },
     "execution_count": 221,
     "metadata": {},
     "output_type": "execute_result"
    }
   ],
   "source": [
    "# Multiplication operation expression\n",
    "14*7"
   ]
  },
  {
   "cell_type": "markdown",
   "id": "d2ca4959-d151-48ba-9e1a-be3e30fd198c",
   "metadata": {},
   "source": [
    "Division is performed with the forward slash __(/)__"
   ]
  },
  {
   "cell_type": "code",
   "execution_count": 222,
   "id": "170b2e9c-ac1a-4132-893b-b03ee406c0cf",
   "metadata": {},
   "outputs": [
    {
     "data": {
      "text/plain": [
       "5.0"
      ]
     },
     "execution_count": 222,
     "metadata": {},
     "output_type": "execute_result"
    }
   ],
   "source": [
    "# Division operation expression\n",
    "25/5"
   ]
  },
  {
   "cell_type": "code",
   "execution_count": 223,
   "id": "801f4105-3ff2-4d43-a565-2c2bff695e79",
   "metadata": {},
   "outputs": [
    {
     "data": {
      "text/plain": [
       "4.166666666666667"
      ]
     },
     "execution_count": 223,
     "metadata": {},
     "output_type": "execute_result"
    }
   ],
   "source": [
    "# Division operation expression \n",
    "25/6"
   ]
  },
  {
   "cell_type": "markdown",
   "id": "3fa07d3c-a8d2-4d27-9b66-3dd4c29d8fb6",
   "metadata": {},
   "source": [
    "#### We can use the double slash **(//)** for **INTEGER DIVISION** where the result is **__rounded down to the nearest integer.__**"
   ]
  },
  {
   "cell_type": "code",
   "execution_count": 224,
   "id": "8a2fa6ef-b6b1-4a8a-9bfd-752cc0e4314d",
   "metadata": {},
   "outputs": [
    {
     "data": {
      "text/plain": [
       "5"
      ]
     },
     "execution_count": 224,
     "metadata": {},
     "output_type": "execute_result"
    }
   ],
   "source": [
    "# Integer division operation expression\n",
    "25//5"
   ]
  },
  {
   "cell_type": "code",
   "execution_count": 225,
   "id": "0a734759-e194-4a4a-a8b0-a975aa2977ea",
   "metadata": {},
   "outputs": [
    {
     "data": {
      "text/plain": [
       "4"
      ]
     },
     "execution_count": 225,
     "metadata": {},
     "output_type": "execute_result"
    }
   ],
   "source": [
    "# Integer division operation expression\n",
    "25//6"
   ]
  },
  {
   "cell_type": "code",
   "execution_count": 226,
   "id": "a3bfbb66-69c9-4600-8d85-aad05ce54de6",
   "metadata": {},
   "outputs": [
    {
     "data": {
      "text/plain": [
       "2"
      ]
     },
     "execution_count": 226,
     "metadata": {},
     "output_type": "execute_result"
    }
   ],
   "source": [
    "# Write an expression that calculates how many hours there are in 160 minutes\n",
    "160//60"
   ]
  },
  {
   "cell_type": "code",
   "execution_count": 227,
   "id": "b960c96d-32b3-4c0e-8a74-b947843d8a97",
   "metadata": {},
   "outputs": [
    {
     "data": {
      "text/plain": [
       "150"
      ]
     },
     "execution_count": 227,
     "metadata": {},
     "output_type": "execute_result"
    }
   ],
   "source": [
    "# Mathematical Expression\n",
    "30 + 2 * 60"
   ]
  },
  {
   "cell_type": "markdown",
   "id": "c2cc3a5b-fc65-4615-b676-4721b6afaf5f",
   "metadata": {},
   "source": [
    "#### Just like mathematics, expressions enclosed in parentheses have priority."
   ]
  },
  {
   "cell_type": "code",
   "execution_count": 228,
   "id": "2c578419-4d41-40bd-8c1e-4c29de5253f4",
   "metadata": {},
   "outputs": [
    {
     "data": {
      "text/plain": [
       "1920"
      ]
     },
     "execution_count": 228,
     "metadata": {},
     "output_type": "execute_result"
    }
   ],
   "source": [
    "# Mathematical Expression\n",
    "(30 + 2) * 60"
   ]
  },
  {
   "cell_type": "code",
   "execution_count": 229,
   "id": "559c792d-a2f6-486b-901d-2b214f0bbdcb",
   "metadata": {},
   "outputs": [
    {
     "data": {
      "text/plain": [
       "16.0"
      ]
     },
     "execution_count": 229,
     "metadata": {},
     "output_type": "execute_result"
    }
   ],
   "source": [
    "# Mathematical Expression\n",
    "(60/5)+4"
   ]
  },
  {
   "cell_type": "code",
   "execution_count": 230,
   "id": "520bab78-ba1e-4042-bf4e-dcfc85c05283",
   "metadata": {},
   "outputs": [
    {
     "data": {
      "text/plain": [
       "44"
      ]
     },
     "execution_count": 230,
     "metadata": {},
     "output_type": "execute_result"
    }
   ],
   "source": [
    "# Mathematical Expression \n",
    "65-(17+4)"
   ]
  },
  {
   "cell_type": "markdown",
   "id": "1577b988-49bf-4244-9a65-5729c334b510",
   "metadata": {},
   "source": [
    "#### Variables"
   ]
  },
  {
   "cell_type": "code",
   "execution_count": 231,
   "id": "c0d7f954-fed7-4a5a-a4d9-d4859b84f93c",
   "metadata": {},
   "outputs": [],
   "source": [
    "# Store value into variable \n",
    "x = 43 + 60 + 16 + 41"
   ]
  },
  {
   "cell_type": "markdown",
   "id": "169b0678-5c46-4dbf-9bc6-461743b15962",
   "metadata": {},
   "source": [
    "To see the value of x in a Notebook, place it on the __last line of a cell__."
   ]
  },
  {
   "cell_type": "code",
   "execution_count": 232,
   "id": "64a0a0d3-1974-42de-9689-4d062f418615",
   "metadata": {},
   "outputs": [
    {
     "data": {
      "text/plain": [
       "160"
      ]
     },
     "execution_count": 232,
     "metadata": {},
     "output_type": "execute_result"
    }
   ],
   "source": [
    "# Print out a value in variable \n",
    "\n",
    "x = 43 + 60 + 16 + 41\n",
    "x"
   ]
  },
  {
   "cell_type": "markdown",
   "id": "adb4ebdd-daeb-4419-b57a-2cf3839d3fcd",
   "metadata": {},
   "source": [
    "We can also perform operations on 'x' and save the result to a new variable."
   ]
  },
  {
   "cell_type": "code",
   "execution_count": 233,
   "id": "fdfe22eb-9398-487a-9f1d-e2aa24ac072c",
   "metadata": {},
   "outputs": [
    {
     "data": {
      "text/plain": [
       "2.6666666666666665"
      ]
     },
     "execution_count": 233,
     "metadata": {},
     "output_type": "execute_result"
    }
   ],
   "source": [
    "# Use another variable to store the result of the operation between variable and value \n",
    "\n",
    "y=x/60\n",
    "y"
   ]
  },
  {
   "cell_type": "markdown",
   "id": "ec6da8d0-52e9-4a28-8680-e9e44c8e8ecb",
   "metadata": {},
   "source": [
    "If we save a value to an existing variable, the new value will **overwrite** the previous value.\n"
   ]
  },
  {
   "cell_type": "code",
   "execution_count": 234,
   "id": "669bcb62-7f7d-41f6-8a88-4ae24b4c7108",
   "metadata": {},
   "outputs": [
    {
     "data": {
      "text/plain": [
       "2.6666666666666665"
      ]
     },
     "execution_count": 234,
     "metadata": {},
     "output_type": "execute_result"
    }
   ],
   "source": [
    "# Overwrite variable with new value\n",
    "\n",
    "x=x/60\n",
    "x"
   ]
  },
  {
   "cell_type": "code",
   "execution_count": 235,
   "id": "287c42bd-5bc2-447f-8098-9135996ddee2",
   "metadata": {},
   "outputs": [
    {
     "data": {
      "text/plain": [
       "142"
      ]
     },
     "execution_count": 235,
     "metadata": {},
     "output_type": "execute_result"
    }
   ],
   "source": [
    "# Name the variables meaningfully\n",
    "total_min = 43 + 42 + 57 #total length of album in minutes\n",
    "total_min"
   ]
  },
  {
   "cell_type": "code",
   "execution_count": 236,
   "id": "957b22ac-ed90-4d8f-84de-8a40cac7cea7",
   "metadata": {},
   "outputs": [
    {
     "data": {
      "text/plain": [
       "2.3666666666666667"
      ]
     },
     "execution_count": 236,
     "metadata": {},
     "output_type": "execute_result"
    }
   ],
   "source": [
    "total_hours = total_min/60 #total length of album in hours \n",
    "total_hours"
   ]
  },
  {
   "cell_type": "code",
   "execution_count": 237,
   "id": "374660d9-0a96-44d1-9c28-ec9a404faf02",
   "metadata": {},
   "outputs": [
    {
     "data": {
      "text/plain": [
       "2.3666666666666667"
      ]
     },
     "execution_count": 237,
     "metadata": {},
     "output_type": "execute_result"
    }
   ],
   "source": [
    "# Complicated Expression\n",
    "total_hours = (43 + 42 + 57) / 60 #total hours in a single expression\n",
    "total_hours"
   ]
  },
  {
   "cell_type": "markdown",
   "id": "bdc158b7-d0a2-4410-8b60-84dd39730358",
   "metadata": {},
   "source": [
    "If you would rather have total hours as an integer, replace the __floating point division__ with __integer division__ (i.e //)"
   ]
  },
  {
   "cell_type": "markdown",
   "id": "3b36de90-7344-4428-9493-975fec90fdbc",
   "metadata": {},
   "source": [
    "### Expressions in Python"
   ]
  },
  {
   "cell_type": "code",
   "execution_count": 238,
   "id": "7e4af8d8-8212-48a7-b96a-0d922bfab579",
   "metadata": {},
   "outputs": [
    {
     "data": {
      "text/plain": [
       "10"
      ]
     },
     "execution_count": 238,
     "metadata": {},
     "output_type": "execute_result"
    }
   ],
   "source": [
    "# Write an expression to add 30 and 20 and subtract 40\n",
    "30+20-40"
   ]
  },
  {
   "cell_type": "code",
   "execution_count": 239,
   "id": "2f3f7ce5-3c32-450f-b55d-421ecbad3192",
   "metadata": {},
   "outputs": [
    {
     "data": {
      "text/plain": [
       "5.0"
      ]
     },
     "execution_count": 239,
     "metadata": {},
     "output_type": "execute_result"
    }
   ],
   "source": [
    "# Write an expression to subtract 5 from 55 and divide the result by 10\n",
    "(55-5)/10"
   ]
  },
  {
   "cell_type": "code",
   "execution_count": 240,
   "id": "e0583e5f-2ad7-4785-8331-de238b8db015",
   "metadata": {},
   "outputs": [
    {
     "data": {
      "text/plain": [
       "5.0"
      ]
     },
     "execution_count": 240,
     "metadata": {},
     "output_type": "execute_result"
    }
   ],
   "source": [
    "# Write an expression to multiply 6 with 10 and divide the result by 12\n",
    "(6*10)/12"
   ]
  },
  {
   "cell_type": "markdown",
   "id": "dfcf4ebd-eccd-4d83-a2aa-68f7b4c00a67",
   "metadata": {},
   "source": [
    "### Variables in Python"
   ]
  },
  {
   "cell_type": "code",
   "execution_count": 241,
   "id": "87aaab53-e123-4d20-b8b1-96b61f36171c",
   "metadata": {},
   "outputs": [
    {
     "data": {
      "text/plain": [
       "7"
      ]
     },
     "execution_count": 241,
     "metadata": {},
     "output_type": "execute_result"
    }
   ],
   "source": [
    "# What is the value of x where x = 3 + 2 * 2?\n",
    "x=3+2*2\n",
    "x"
   ]
  },
  {
   "cell_type": "code",
   "execution_count": 242,
   "id": "1ed607d3-ab39-40dd-9c06-61e35b3c2a32",
   "metadata": {},
   "outputs": [
    {
     "data": {
      "text/plain": [
       "10"
      ]
     },
     "execution_count": 242,
     "metadata": {},
     "output_type": "execute_result"
    }
   ],
   "source": [
    "# What is the value of y where y=(3+2)*2?\n",
    "y=(3+2)*2\n",
    "y"
   ]
  },
  {
   "cell_type": "code",
   "execution_count": 243,
   "id": "98e16c6e-5e5f-4f3b-9965-0956b7008e6e",
   "metadata": {},
   "outputs": [
    {
     "data": {
      "text/plain": [
       "17"
      ]
     },
     "execution_count": 243,
     "metadata": {},
     "output_type": "execute_result"
    }
   ],
   "source": [
    "# What is the value of z where z=x+y?\n",
    "z=x+y\n",
    "z"
   ]
  },
  {
   "cell_type": "markdown",
   "id": "58d09a81-2718-4d63-89b6-19e3c791f1dc",
   "metadata": {},
   "source": [
    "## String Operations"
   ]
  },
  {
   "cell_type": "code",
   "execution_count": 244,
   "id": "61ec5a50-29e2-4677-8ac2-56807649f288",
   "metadata": {},
   "outputs": [
    {
     "data": {
      "text/plain": [
       "'Michael Jackson'"
      ]
     },
     "execution_count": 244,
     "metadata": {},
     "output_type": "execute_result"
    }
   ],
   "source": [
    "# Use quotation marks for defining string\n",
    "\"Michael Jackson\""
   ]
  },
  {
   "cell_type": "code",
   "execution_count": 245,
   "id": "21d4132a-a091-4636-83b7-a6dde435992c",
   "metadata": {},
   "outputs": [
    {
     "data": {
      "text/plain": [
       "'Michael Jackson'"
      ]
     },
     "execution_count": 245,
     "metadata": {},
     "output_type": "execute_result"
    }
   ],
   "source": [
    "# Use single quotation marks for defining string\n",
    "'Michael Jackson'"
   ]
  },
  {
   "cell_type": "markdown",
   "id": "4ad55d25-b0c5-41a0-b32a-848c9666a0dd",
   "metadata": {},
   "source": [
    "#### A string can be a combination of __spaces__ and __digits__."
   ]
  },
  {
   "cell_type": "code",
   "execution_count": 246,
   "id": "e37cda0d-23db-4d89-a461-4d2463367760",
   "metadata": {},
   "outputs": [
    {
     "data": {
      "text/plain": [
       "'1 2 3 4 5 6'"
      ]
     },
     "execution_count": 246,
     "metadata": {},
     "output_type": "execute_result"
    }
   ],
   "source": [
    "# Digits and Spaces in string \n",
    "'1 2 3 4 5 6'"
   ]
  },
  {
   "cell_type": "markdown",
   "id": "8c3182db-8190-4e83-a37a-adbb45077d17",
   "metadata": {},
   "source": [
    "#### A string can also be a combination of special characters."
   ]
  },
  {
   "cell_type": "code",
   "execution_count": 247,
   "id": "8e80445e-d683-474c-8cb4-f495badc53d0",
   "metadata": {},
   "outputs": [
    {
     "data": {
      "text/plain": [
       "' 2&%$3_)9$$'"
      ]
     },
     "execution_count": 247,
     "metadata": {},
     "output_type": "execute_result"
    }
   ],
   "source": [
    "# Special characters in string\n",
    "' 2&%$3_)9$$'"
   ]
  },
  {
   "cell_type": "code",
   "execution_count": 248,
   "id": "3f35bc78-7de2-42fb-88a3-00168cdeb610",
   "metadata": {},
   "outputs": [
    {
     "name": "stdout",
     "output_type": "stream",
     "text": [
      "hello!\n"
     ]
    }
   ],
   "source": [
    "# Print the string \n",
    "print('hello!')"
   ]
  },
  {
   "cell_type": "markdown",
   "id": "3d117ad0-15f7-4c60-84f5-0177188afde6",
   "metadata": {},
   "source": [
    "#### We can bind, or assign, a string to another variable."
   ]
  },
  {
   "cell_type": "code",
   "execution_count": 249,
   "id": "cdaf851d-5844-4c13-b184-0750824592a6",
   "metadata": {},
   "outputs": [
    {
     "data": {
      "text/plain": [
       "'Michael Jackson'"
      ]
     },
     "execution_count": 249,
     "metadata": {},
     "output_type": "execute_result"
    }
   ],
   "source": [
    "# Assign string to variable\n",
    "name = 'Michael Jackson'\n",
    "name"
   ]
  },
  {
   "cell_type": "markdown",
   "id": "abc981b6-a591-47f4-9bcd-6705c19a0a4a",
   "metadata": {},
   "source": [
    "### Indexing"
   ]
  },
  {
   "cell_type": "markdown",
   "id": "59f20942-7838-4ca3-9fff-ebb99abf9d91",
   "metadata": {},
   "source": [
    "A string -- ordered sequence.<br> \n",
    "Each element in the sequence can be accessed using an __INDEX__ represented by the __ARRAY__ of numbers.<br>\n",
    "**NOTE**: Indexing starts at **0** meaning, the 1st index is on the index **0**.<br>\n",
    "Indexed values are displayed in **brackets[]**."
   ]
  },
  {
   "cell_type": "markdown",
   "id": "87ace22b-124f-4b81-8f8b-57241f11ed61",
   "metadata": {},
   "source": [
    "<img src=\"https://cf-courses-data.s3.us.cloud-object-storage.appdomain.cloud/IBMDeveloperSkillsNetwork-PY0101EN-SkillsNetwork/labs/Module%201/images/StringsIndex.png\" width=\"600\" align=\"center\">"
   ]
  },
  {
   "cell_type": "code",
   "execution_count": 250,
   "id": "290d3f09-5141-4e63-83b2-9ddfa1910124",
   "metadata": {},
   "outputs": [
    {
     "name": "stdout",
     "output_type": "stream",
     "text": [
      "M\n"
     ]
    }
   ],
   "source": [
    "# Print the first element in the string \n",
    "print(name[0])"
   ]
  },
  {
   "cell_type": "code",
   "execution_count": 251,
   "id": "e543f2eb-d0e5-4ef8-8bef-67f46d6b3140",
   "metadata": {},
   "outputs": [
    {
     "name": "stdout",
     "output_type": "stream",
     "text": [
      "l\n"
     ]
    }
   ],
   "source": [
    "# Print the element on index 6 in the string\n",
    "print(name[6])"
   ]
  },
  {
   "cell_type": "code",
   "execution_count": 252,
   "id": "137e8094-e59c-4484-9a3d-80bdccd76255",
   "metadata": {},
   "outputs": [
    {
     "name": "stdout",
     "output_type": "stream",
     "text": [
      "o\n"
     ]
    }
   ],
   "source": [
    "# Print the element on index 13 in the string\n",
    "print(name[13])"
   ]
  }
 ],
 "metadata": {
  "kernelspec": {
   "display_name": "Python 3 (ipykernel)",
   "language": "python",
   "name": "python3"
  },
  "language_info": {
   "codemirror_mode": {
    "name": "ipython",
    "version": 3
   },
   "file_extension": ".py",
   "mimetype": "text/x-python",
   "name": "python",
   "nbconvert_exporter": "python",
   "pygments_lexer": "ipython3",
   "version": "3.12.4"
  }
 },
 "nbformat": 4,
 "nbformat_minor": 5
}
