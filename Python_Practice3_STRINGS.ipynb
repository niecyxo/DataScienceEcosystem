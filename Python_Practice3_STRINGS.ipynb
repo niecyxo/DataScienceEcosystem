{
 "cells": [
  {
   "cell_type": "markdown",
   "id": "084cec0c-9daa-462d-a631-711678b8a4b8",
   "metadata": {},
   "source": [
    "# Python Practice 3 -- INTRO TO STRINGS**  "
   ]
  },
  {
   "cell_type": "markdown",
   "id": "6b2190aa-1c27-4f7f-a383-bd8d24fce96b",
   "metadata": {},
   "source": [
    "## This document is part 3 of the composition of Python language in Jupyter Notebooks; Established to show basic understanding of coding in Python including slicing strings, sequences, manipulation of strings, and special sequences."
   ]
  },
  {
   "cell_type": "markdown",
   "id": "989a26c5-c0fb-4105-9445-22c38d4eda19",
   "metadata": {},
   "source": [
    "- ### Index Slicing "
   ]
  },
  {
   "cell_type": "markdown",
   "id": "fc04448f-1175-4f8c-98f7-a1fa2e9b24d5",
   "metadata": {},
   "source": [
    "<img src=\"https://cf-courses-data.s3.us.cloud-object-storage.appdomain.cloud/IBMDeveloperSkillsNetwork-PY0101EN-SkillsNetwork/labs/Module%201/images/StringsSlice.png\" width=\"600\" align=\"center\">"
   ]
  },
  {
   "cell_type": "markdown",
   "id": "32c61c6f-c7f1-4c4c-aa2b-0d12d47d60ff",
   "metadata": {},
   "source": [
    "You can obtain multiple characters from a string using slicing! <br> When taking the slice, **_the first number means the index (start at 0), and the second number means the length from the index to the last element you want (start at 1)_**"
   ]
  },
  {
   "cell_type": "code",
   "execution_count": 2,
   "id": "bc4324f3-90b9-4601-9e20-4be02ddc61a9",
   "metadata": {},
   "outputs": [
    {
     "data": {
      "text/plain": [
       "'Michael Jackson'"
      ]
     },
     "execution_count": 2,
     "metadata": {},
     "output_type": "execute_result"
    }
   ],
   "source": [
    "# Assign string to variable\n",
    "name = 'Michael Jackson'\n",
    "name"
   ]
  },
  {
   "cell_type": "code",
   "execution_count": 3,
   "id": "e0002faa-a6c7-4e69-93bb-0baa12118b3a",
   "metadata": {},
   "outputs": [
    {
     "data": {
      "text/plain": [
       "'Mich'"
      ]
     },
     "execution_count": 3,
     "metadata": {},
     "output_type": "execute_result"
    }
   ],
   "source": [
    "# Take the slice on variable name with only index 0 to index 3\n",
    "name[0:4]"
   ]
  },
  {
   "cell_type": "code",
   "execution_count": 5,
   "id": "52f73d3d-a864-4004-9f26-3919e97403c6",
   "metadata": {},
   "outputs": [
    {
     "data": {
      "text/plain": [
       "'Jack'"
      ]
     },
     "execution_count": 5,
     "metadata": {},
     "output_type": "execute_result"
    }
   ],
   "source": [
    "# Take the slice on variable name with only index 8 to index 11\n",
    "name[8:12]"
   ]
  },
  {
   "cell_type": "markdown",
   "id": "acad9818-e10b-4e9c-8edd-3b6251682767",
   "metadata": {},
   "source": [
    "- ### Stride"
   ]
  },
  {
   "cell_type": "markdown",
   "id": "514b5f72-7f2a-454d-a478-3724a49317d2",
   "metadata": {},
   "source": [
    "Stride value -- with the 'numeral' meaning that we are selecting **every '' variable**."
   ]
  },
  {
   "cell_type": "markdown",
   "id": "2e31af4f-a29a-4a38-8a58-46e2c3eefaa4",
   "metadata": {},
   "source": [
    "<img src=\"https://cf-courses-data.s3.us.cloud-object-storage.appdomain.cloud/IBMDeveloperSkillsNetwork-PY0101EN-SkillsNetwork/labs/Module%201/images/StringsStride.png\" width=\"600\" align=\"center\">"
   ]
  },
  {
   "cell_type": "code",
   "execution_count": 6,
   "id": "31ba8eee-058f-4295-9fdf-ef925ffee7f2",
   "metadata": {},
   "outputs": [
    {
     "data": {
      "text/plain": [
       "'Michael Jackson'"
      ]
     },
     "execution_count": 6,
     "metadata": {},
     "output_type": "execute_result"
    }
   ],
   "source": [
    "# Assign string to variable\n",
    "name = 'Michael Jackson'\n",
    "name"
   ]
  },
  {
   "cell_type": "markdown",
   "id": "04c1fcc8-1464-47d4-9bd9-02ff2a0c7d10",
   "metadata": {},
   "source": [
    "__Stride is displayed as'[::'']:__ <br>\n",
    "example: name[::2]"
   ]
  },
  {
   "cell_type": "code",
   "execution_count": 7,
   "id": "ee577ad0-9bb9-4496-9151-3f6c2ec7f296",
   "metadata": {},
   "outputs": [
    {
     "data": {
      "text/plain": [
       "'McalJcsn'"
      ]
     },
     "execution_count": 7,
     "metadata": {},
     "output_type": "execute_result"
    }
   ],
   "source": [
    "# Get every second element. The elements on index 1, 3, 5 ...\n",
    "name[::2]"
   ]
  },
  {
   "cell_type": "markdown",
   "id": "ae174624-3e82-41d2-a82d-518545b5c5e8",
   "metadata": {},
   "source": [
    "#### You can incorporate *slicing* with the stride. \n",
    "> **i.e name[::]**"
   ]
  },
  {
   "cell_type": "code",
   "execution_count": 9,
   "id": "69454a2d-c8be-4e3f-9366-3f26a51ca831",
   "metadata": {},
   "outputs": [
    {
     "data": {
      "text/plain": [
       "'Mca'"
      ]
     },
     "execution_count": 9,
     "metadata": {},
     "output_type": "execute_result"
    }
   ],
   "source": [
    "# Get every second element in the range from index 0 to index 4 \n",
    "name[0:5:2]"
   ]
  },
  {
   "cell_type": "markdown",
   "id": "87786bfe-0868-40fe-b97a-a7928a603ea5",
   "metadata": {},
   "source": [
    "### Concatenate Strings"
   ]
  },
  {
   "cell_type": "markdown",
   "id": "a5447d99-2d50-4883-aa5f-c043351bb8fd",
   "metadata": {},
   "source": [
    "Concatenate (combine) strings by using the addition symbols that makes __a new string THATS A COMBINATION OF BOTH.__"
   ]
  },
  {
   "cell_type": "code",
   "execution_count": 12,
   "id": "a87ee5c3-aca9-40c0-99ee-b33d3f551fe0",
   "metadata": {},
   "outputs": [
    {
     "data": {
      "text/plain": [
       "'Michael Jacksonis the best'"
      ]
     },
     "execution_count": 12,
     "metadata": {},
     "output_type": "execute_result"
    }
   ],
   "source": [
    "# Concatenate two strings\n",
    "statement = name + 'is the best'\n",
    "statement"
   ]
  },
  {
   "cell_type": "markdown",
   "id": "bbc72a0d-eff3-4ec5-826f-4a0c581bac8b",
   "metadata": {},
   "source": [
    "* #### To *replicate values* of a string: __multiply (*) the string by the number of times we would like to replicate__. <br> i.e the number is three. The result is a _new string,_ and this new string consists of *three copies of the original string*"
   ]
  },
  {
   "cell_type": "code",
   "execution_count": 13,
   "id": "2a5c7be5-801a-491a-b954-57c34825f85f",
   "metadata": {},
   "outputs": [
    {
     "data": {
      "text/plain": [
       "'Michael JacksonMichael JacksonMichael Jackson'"
      ]
     },
     "execution_count": 13,
     "metadata": {},
     "output_type": "execute_result"
    }
   ],
   "source": [
    "# Print the string for 3 times\n",
    "3 * 'Michael Jackson'"
   ]
  },
  {
   "cell_type": "markdown",
   "id": "8963a5b9-3106-4d69-852d-6ba368fe7617",
   "metadata": {},
   "source": [
    "* __To create a new string,__ set it to the _original variable._ Concatenated with a new string, the result is a __new string__.  <br> i.e new string that changes from Michael Jackson to “Michael Jackson is the best\"."
   ]
  },
  {
   "cell_type": "code",
   "execution_count": 1,
   "id": "b3d77bba-a6d9-4fa0-8aec-4625810f23d4",
   "metadata": {},
   "outputs": [
    {
     "data": {
      "text/plain": [
       "'Michael Jacksonis the best'"
      ]
     },
     "execution_count": 1,
     "metadata": {},
     "output_type": "execute_result"
    }
   ],
   "source": [
    "# Concatenate strings \n",
    "name = 'Michael Jackson'\n",
    "statement = name + 'is the best'\n",
    "statement"
   ]
  },
  {
   "cell_type": "markdown",
   "id": "28ae9193-39f3-4af5-abe5-8271950fa608",
   "metadata": {},
   "source": [
    "### Escape Sequences"
   ]
  },
  {
   "cell_type": "markdown",
   "id": "45f19b35-90bf-484a-8856-6991e2e29a4a",
   "metadata": {},
   "source": [
    "- Shown using **backslashes ( \\ )** represents the beginning of escape sequences. <br>\n",
    "- Escape sequences represent strings that may be difficult to input. i.e (\\n): new line. The output is given by a new line after (\\n)."
   ]
  },
  {
   "cell_type": "code",
   "execution_count": 4,
   "id": "7209ae1f-e385-414d-801d-eeec76a51a8b",
   "metadata": {},
   "outputs": [
    {
     "name": "stdout",
     "output_type": "stream",
     "text": [
      "Michael Jackson \n",
      " is the best\n"
     ]
    }
   ],
   "source": [
    "# New line escape sequence \n",
    "print('Michael Jackson \\n is the best')"
   ]
  },
  {
   "cell_type": "markdown",
   "id": "e6ed9f56-5284-48ff-b8a4-2f4bf699f776",
   "metadata": {},
   "source": [
    "- #### \\t: TAB"
   ]
  },
  {
   "cell_type": "code",
   "execution_count": 8,
   "id": "7ec80858-bec1-4ea7-aaaa-00786f741494",
   "metadata": {},
   "outputs": [
    {
     "name": "stdout",
     "output_type": "stream",
     "text": [
      "Michael Jackson \t is the best\n"
     ]
    }
   ],
   "source": [
    "# Tab escape sequence\n",
    "print('Michael Jackson \\t is the best')"
   ]
  },
  {
   "cell_type": "markdown",
   "id": "6cecbc7c-53ab-4b0d-bf5b-430a951be5c2",
   "metadata": {},
   "source": [
    "- If you want to place a back slash in your string, use a double back slash **( \\ \\ )**"
   ]
  },
  {
   "cell_type": "code",
   "execution_count": 9,
   "id": "5bd17981-a5df-408e-b895-046200f3fc06",
   "metadata": {},
   "outputs": [
    {
     "name": "stdout",
     "output_type": "stream",
     "text": [
      "Michael Jackson \\ is the best\n"
     ]
    }
   ],
   "source": [
    "# Include backslash in string\n",
    "print('Michael Jackson \\\\ is the best')"
   ]
  },
  {
   "cell_type": "markdown",
   "id": "a2112c9e-f673-4a0d-aa69-577d0362e8d3",
   "metadata": {},
   "source": [
    "- Also place an \"r\" before the string to display the backslash ( 'r' : \\ )"
   ]
  },
  {
   "cell_type": "code",
   "execution_count": 11,
   "id": "3eb81ff1-28d9-4e6a-a0b7-29a9e8e9fa3f",
   "metadata": {},
   "outputs": [
    {
     "name": "stdout",
     "output_type": "stream",
     "text": [
      "Michael Jackson  is the best\n"
     ]
    }
   ],
   "source": [
    "# R will tell Python that string will display as raw string\n",
    "print('Michael Jackson 'r' is the best')"
   ]
  },
  {
   "cell_type": "markdown",
   "id": "7c9be7e4-6ec7-4f64-bceb-a782dbc09ed8",
   "metadata": {},
   "source": [
    "## String Manipulation Operations"
   ]
  },
  {
   "cell_type": "markdown",
   "id": "6550f4d1-d7ab-4dd0-a369-a23464a665d9",
   "metadata": {},
   "source": [
    "#### String operation methods manipulate the data in Python. "
   ]
  },
  {
   "cell_type": "markdown",
   "id": "36d291a8-8a89-4c9f-b540-c4bfee855725",
   "metadata": {},
   "source": [
    "* Basic methods include: <br>\n",
    "  1. __Upper__: converts lower case characters to upper case characters. <br> \n",
    "  2. __Replace__: replaces a segment of the string -- i.e. a substring with a new string.\n",
    "    *  We _input the part of the string we would like to change._ The second argument: what we would like to exchange the segment with, the result is a new string with the *segment changed.* <br>"
   ]
  },
  {
   "cell_type": "markdown",
   "id": "a8a50811-082a-40b0-a7af-24c394622752",
   "metadata": {},
   "source": [
    "3. __Find__: finds a sub-string. <br>\n",
    "      * The argument: the substring you would like to find, and the output is the first index of the sequence. <br>\n",
    "4. __Split__: splits the string at the specified separator, and returns a list *__( split() )__*"
   ]
  },
  {
   "cell_type": "markdown",
   "id": "53b9c4dd-a702-4379-a67f-65015128b7c5",
   "metadata": {},
   "source": [
    "###  1. Uppercase "
   ]
  },
  {
   "cell_type": "code",
   "execution_count": 203,
   "id": "8d969ea0-5c91-47cf-a4bc-aad260cc732c",
   "metadata": {},
   "outputs": [
    {
     "name": "stdout",
     "output_type": "stream",
     "text": [
      "before upper: Thriller is the sixth studio album\n",
      "After upper: THRILLER IS THE SIXTH STUDIO ALBUM\n"
     ]
    }
   ],
   "source": [
    "# Assign string to variables\n",
    "\n",
    "a = \"Thriller is the sixth studio album\"\n",
    "\n",
    "# Convert lowercase characters to upper case \n",
    "\n",
    "a = \"Thriller is the sixth studio album\"\n",
    "print(\"before upper:\", a)\n",
    "b = a.upper()\n",
    "print(\"After upper:\", b)"
   ]
  },
  {
   "cell_type": "markdown",
   "id": "fe97eada-54af-4148-ad33-74abc6590529",
   "metadata": {},
   "source": [
    "### 2. Replace"
   ]
  },
  {
   "cell_type": "code",
   "execution_count": 25,
   "id": "ddf930ec-7941-4864-831e-c27858f3e209",
   "metadata": {},
   "outputs": [
    {
     "data": {
      "text/plain": [
       "'Janet Jackson is the best'"
      ]
     },
     "execution_count": 25,
     "metadata": {},
     "output_type": "execute_result"
    }
   ],
   "source": [
    "# Replace the old substring with the new target substring is the segment has been found in the string\n",
    "\n",
    "a = \"Michael Jackson is the best\"\n",
    "b = a.replace('Michael', 'Janet')\n",
    "b"
   ]
  },
  {
   "cell_type": "markdown",
   "id": "f91b8cff-50d2-43b3-ba5a-85c146418582",
   "metadata": {},
   "source": [
    "### 3. Find"
   ]
  },
  {
   "cell_type": "markdown",
   "id": "a2364271-253e-409e-a342-f243c7dc5f83",
   "metadata": {},
   "source": [
    "<img src=\"https://cf-courses-data.s3.us.cloud-object-storage.appdomain.cloud/IBMDeveloperSkillsNetwork-PY0101EN-SkillsNetwork/labs/Module%201/images/StringsFind.png\" width=\"600\" align=\"center\">"
   ]
  },
  {
   "cell_type": "code",
   "execution_count": 39,
   "id": "d87d5044-15f2-4112-a211-3bcb75cb1c55",
   "metadata": {},
   "outputs": [
    {
     "data": {
      "text/plain": [
       "5"
      ]
     },
     "execution_count": 39,
     "metadata": {},
     "output_type": "execute_result"
    }
   ],
   "source": [
    "# Find the substring in the string. Only the index of the first element of substring in string will be the output. \n",
    "name = 'Michael Jackson'\n",
    "name.find('el')"
   ]
  },
  {
   "cell_type": "code",
   "execution_count": 31,
   "id": "bf1d9bf0-b4d3-4bde-a335-cefea8f537fb",
   "metadata": {},
   "outputs": [
    {
     "data": {
      "text/plain": [
       "8"
      ]
     },
     "execution_count": 31,
     "metadata": {},
     "output_type": "execute_result"
    }
   ],
   "source": [
    "# Find the substring in the string \n",
    "\n",
    "name.find('Jack')"
   ]
  },
  {
   "cell_type": "markdown",
   "id": "3f0e0cdc-8ca2-4d22-8313-5f39e535293a",
   "metadata": {},
   "source": [
    "#### If the sub-string is not in the string then the output is a negative one."
   ]
  },
  {
   "cell_type": "code",
   "execution_count": 32,
   "id": "dfae57a3-ed2d-44c8-851d-63276110944f",
   "metadata": {},
   "outputs": [
    {
     "data": {
      "text/plain": [
       "-1"
      ]
     },
     "execution_count": 32,
     "metadata": {},
     "output_type": "execute_result"
    }
   ],
   "source": [
    "# If cannot find the substring in the string\n",
    "name.find('Jasdfasdasdf')"
   ]
  },
  {
   "cell_type": "markdown",
   "id": "fbb8e047-7cac-41f1-afd5-32d67a998fed",
   "metadata": {},
   "source": [
    "### 4. Split"
   ]
  },
  {
   "cell_type": "code",
   "execution_count": 38,
   "id": "2fc38341-2b86-47b1-a4e5-de7828bb861e",
   "metadata": {},
   "outputs": [
    {
     "data": {
      "text/plain": [
       "['Michael', 'Jackson']"
      ]
     },
     "execution_count": 38,
     "metadata": {},
     "output_type": "execute_result"
    }
   ],
   "source": [
    "# Split the substring into a list\n",
    "\n",
    "name = 'Michael Jackson'\n",
    "split_string = (name.split())\n",
    "split_string"
   ]
  },
  {
   "cell_type": "markdown",
   "id": "ad458a06-f2d7-4197-bdad-607e740d4aab",
   "metadata": {},
   "source": [
    "### RegEx"
   ]
  },
  {
   "cell_type": "markdown",
   "id": "2679f3a1-3d10-4863-8481-9c0a1665d556",
   "metadata": {},
   "source": [
    "RegEx (Regular Expression): a tool for matching and handling strings. <br>\n",
    "Python provides a built-in module called __'re'__, which allows you to work with regular expressions. "
   ]
  },
  {
   "cell_type": "code",
   "execution_count": 45,
   "id": "fd4aa762-4a29-4c86-a31d-a5eaf0929237",
   "metadata": {},
   "outputs": [],
   "source": [
    "# Import the Re module\n",
    "import re"
   ]
  },
  {
   "cell_type": "markdown",
   "id": "9d5550f8-51b3-4f4e-a040-83a5fa0dc324",
   "metadata": {},
   "source": [
    "### 1. Search <br>\n",
    "The __search()__ function: searches for specified patterns within a string."
   ]
  },
  {
   "cell_type": "code",
   "execution_count": 49,
   "id": "5b51f5c9-e06c-4d73-a2db-867ba53d7228",
   "metadata": {},
   "outputs": [
    {
     "name": "stdout",
     "output_type": "stream",
     "text": [
      "Match found!\n"
     ]
    }
   ],
   "source": [
    "s1 = \"Michael Jackson is the best\"\n",
    "\n",
    "# Define the pattern to search for\n",
    "pattern = r\"Jackson\"\n",
    "\n",
    "# Use the search() function to search for the pattern in the string\n",
    "result = re.search(pattern, s1)\n",
    "\n",
    "# Check if a match was found\n",
    "if result:\n",
    "    print(\"Match found!\")\n",
    "else:\n",
    "    print(\"Match not found.\")\n"
   ]
  },
  {
   "cell_type": "markdown",
   "id": "4fab546d-b6ae-43b0-af6e-4c998c6795de",
   "metadata": {},
   "source": [
    "### *Regular expressions (RegEx) are patterns used to match and manipulate strings of text. There are several __special sequences__ in RegEx that can be used to __match specific characters or patterns.__*"
   ]
  },
  {
   "cell_type": "markdown",
   "id": "99e6e2d9-7d6e-4a3e-af92-3b5b30c237ed",
   "metadata": {},
   "source": [
    "| Special Sequence | Meaning                 | \tExample             |\n",
    "| -----------  | ----------------------- | ----------------------|\n",
    "| \\d|Matches any digit character (0-9)|\"123\" matches \"\\d\\d\\d\"|\n",
    "|\\D|Matches any non-digit character|\"hello\" matches \"\\D\\D\\D\\D\\D\"|\n",
    "|\\w|Matches any word character (a-z, A-Z, 0-9, and _)|\"hello_world\" matches \"\\w\\w\\w\\w\\w\\w\\w\\w\\w\\w\\w\"|\n",
    "|\\W|Matches any non-word character|\t\"@#$%\" matches \"\\W\\W\\W\\W\"|\n",
    "|\\s|Matches any whitespace character (space, tab, newline, etc.)|\"hello world\" matches \"\\w\\w\\w\\w\\w\\s\\w\\w\\w\\w\\w\"|\n",
    "|\\S|Matches any non-whitespace character|\"hello_world\" matches \"\\S\\S\\S\\S\\S\\S\\S\\S\\S\"|\n",
    "|\\b|Matches the boundary between a word character and a non-word character|\"cat\" matches \"\\bcat\\b\" in \"The cat sat on the mat\"|\n",
    "|\\B|Matches any position that is not a word boundary|\"cat\" matches \"\\Bcat\\B\" in \"category\" but not in \"The cat sat on the mat\"|"
   ]
  },
  {
   "cell_type": "markdown",
   "id": "1ee4c884-57c1-4315-aa06-c6303f64acff",
   "metadata": {},
   "source": [
    "## Special Sequence Examples:\n",
    "\n",
    "#### Ex: using the \\d special sequence in a regular expression pattern <br>\n",
    "The regular expression pattern is defined: **r\"\\d\\d\\d\\d\\d\\d\\d\\d\\d\\d\"** which uses the ( \\d ) special sequence to match any digit character (0-9), and the \\d sequence is repeated *_ten times to match ten consecutive digits._*"
   ]
  },
  {
   "cell_type": "code",
   "execution_count": 76,
   "id": "875685e3-57f9-443f-b82d-ea266b6ee157",
   "metadata": {},
   "outputs": [
    {
     "name": "stdout",
     "output_type": "stream",
     "text": [
      "Phone number found: 1234567890\n"
     ]
    }
   ],
   "source": [
    "pattern = r\"\\d\\d\\d\\d\\d\\d\\d\\d\\d\\d\"  # Matches any ten consecutive digits\n",
    "text = \"My Phone number is 1234567890\"\n",
    "match = re.search(pattern, text)\n",
    "\n",
    "if match:\n",
    "    print(\"Phone number found:\", match.group())\n",
    "else:\n",
    "    print(\"No match\")"
   ]
  },
  {
   "cell_type": "markdown",
   "id": "c339a41e-56ce-4834-84fd-9848b371cb92",
   "metadata": {},
   "source": [
    "#### Ex. Using the __(\\W)__ special sequence in a regular expression pattern "
   ]
  },
  {
   "cell_type": "code",
   "execution_count": 53,
   "id": "20634fd6-e3f3-479f-8e9d-c5c2d71dd390",
   "metadata": {},
   "outputs": [
    {
     "name": "stdout",
     "output_type": "stream",
     "text": [
      "Matches: [',', ' ', '!']\n"
     ]
    }
   ],
   "source": [
    "pattern = r\"\\W\"  # Matches any non-word character\n",
    "text = \"Hello, world!\"\n",
    "matches = re.findall(pattern, text)\n",
    "\n",
    "print(\"Matches:\", matches)"
   ]
  },
  {
   "cell_type": "markdown",
   "id": "c3830de1-95e5-43fb-b1b4-1d9356caf0f3",
   "metadata": {},
   "source": [
    "#### The __findall()__ function finds all occurrences of a specified pattern within a string."
   ]
  },
  {
   "cell_type": "code",
   "execution_count": 54,
   "id": "0be4b884-7434-4907-873e-9fd4c0d50d02",
   "metadata": {},
   "outputs": [
    {
     "name": "stdout",
     "output_type": "stream",
     "text": [
      "['as', 'as']\n"
     ]
    }
   ],
   "source": [
    "s2 = \"Michael Jackson was a singer and known as the 'King of Pop'\"\n",
    "\n",
    "\n",
    "# Use the findall() function to find all occurrences of the \"as\" in the string\n",
    "result = re.findall(\"as\", s2)\n",
    "\n",
    "# Print out the list of matched words\n",
    "print(result)"
   ]
  },
  {
   "cell_type": "markdown",
   "id": "e58a079a-e062-4d0e-a970-80bb7e4bbd32",
   "metadata": {},
   "source": [
    "### A regular expression's _Split()_ function: splits a string into an array of substrings based on a specified pattern."
   ]
  },
  {
   "cell_type": "code",
   "execution_count": null,
   "id": "ef88a09e-71f9-48ed-8771-322318c53608",
   "metadata": {},
   "outputs": [],
   "source": [
    "# Use the split function to split the string by the \"\\s\"\n",
    "split_array = re.split(\"\\s\", s2)\n",
    "\n",
    "# The split_array contains all the substrings, split by whitespace characters\n",
    "print(split_array) "
   ]
  },
  {
   "cell_type": "markdown",
   "id": "e9c14741-fafa-42d5-beaf-5cc13c9c7e73",
   "metadata": {},
   "source": [
    "### The _Sub function()_ of a regular expression: Used to replace all occurrences of a pattern in a string with a specified replacement."
   ]
  },
  {
   "cell_type": "code",
   "execution_count": 77,
   "id": "50094374-2e6b-4051-bf3c-f163930df54d",
   "metadata": {},
   "outputs": [
    {
     "name": "stdout",
     "output_type": "stream",
     "text": [
      "Michael Jackson was a singer and known as the 'legend'\n"
     ]
    }
   ],
   "source": [
    "# Define the regular expression pattern to search for\n",
    "pattern = r\"King of Pop\"\n",
    "\n",
    "# Define the replacement string\n",
    "replacement = \"legend\"\n",
    "\n",
    "# Use the sub function to replace the pattern with the replacement string\n",
    "new_string = re.sub(pattern, replacement, s2, flags=re.IGNORECASE)\n",
    "\n",
    "# The new_string contains the original string with the pattern replaced by the replacement string\n",
    "print(new_string) "
   ]
  },
  {
   "cell_type": "markdown",
   "id": "3d89687c-9267-42fa-8594-1184af80999a",
   "metadata": {},
   "source": [
    "## Strings Recap\n"
   ]
  },
  {
   "cell_type": "code",
   "execution_count": 130,
   "id": "7e682165-ae5a-44bc-bfaf-ec3c63e3f92f",
   "metadata": {},
   "outputs": [],
   "source": [
    "# Store value into Variable\n",
    "\n",
    "a='1'\n",
    "b='2'\n",
    "c=a+b"
   ]
  },
  {
   "cell_type": "code",
   "execution_count": 98,
   "id": "adcf68e4-d616-4e3c-80e4-8117dbd00b12",
   "metadata": {},
   "outputs": [
    {
     "data": {
      "text/plain": [
       "'1'"
      ]
     },
     "execution_count": 98,
     "metadata": {},
     "output_type": "execute_result"
    }
   ],
   "source": [
    "# Print out a value into variable\n",
    "\n",
    "a='1'\n",
    "b='2'\n",
    "c=a+b\n",
    "a"
   ]
  },
  {
   "cell_type": "code",
   "execution_count": 99,
   "id": "ddccbe5b-64d7-4056-be57-4699052d5aa7",
   "metadata": {},
   "outputs": [
    {
     "data": {
      "text/plain": [
       "'2'"
      ]
     },
     "execution_count": 99,
     "metadata": {},
     "output_type": "execute_result"
    }
   ],
   "source": [
    "# Print out a value into variable \n",
    "\n",
    "b"
   ]
  },
  {
   "cell_type": "code",
   "execution_count": 100,
   "id": "f6df0bd1-0ec9-40e0-98f1-28033945fdfe",
   "metadata": {},
   "outputs": [
    {
     "data": {
      "text/plain": [
       "'12'"
      ]
     },
     "execution_count": 100,
     "metadata": {},
     "output_type": "execute_result"
    }
   ],
   "source": [
    "# Print out a value into variable \n",
    "\n",
    "c=a+b\n",
    "c"
   ]
  },
  {
   "cell_type": "code",
   "execution_count": 127,
   "id": "bc4d9ec6-1af0-4ffe-958f-19a6be797400",
   "metadata": {},
   "outputs": [
    {
     "data": {
      "text/plain": [
       "'ABCDEFG'"
      ]
     },
     "execution_count": 127,
     "metadata": {},
     "output_type": "execute_result"
    }
   ],
   "source": [
    "# Assign string into variables\n",
    "\n",
    "name = \"ABCDEFG\"\n",
    "name"
   ]
  },
  {
   "cell_type": "code",
   "execution_count": 129,
   "id": "0c7a36e5-7c36-4ae5-a584-0d1f8bbcde76",
   "metadata": {},
   "outputs": [
    {
     "data": {
      "text/plain": [
       "'ABC'"
      ]
     },
     "execution_count": 129,
     "metadata": {},
     "output_type": "execute_result"
    }
   ],
   "source": [
    "# Consider the variable d use slicing to print out the first three elements\n",
    "\n",
    "name[0:3]"
   ]
  },
  {
   "cell_type": "code",
   "execution_count": 136,
   "id": "e3042440-281c-4846-acb1-8ab92c1ed4ef",
   "metadata": {},
   "outputs": [
    {
     "data": {
      "text/plain": [
       "'ABC'"
      ]
     },
     "execution_count": 136,
     "metadata": {},
     "output_type": "execute_result"
    }
   ],
   "source": [
    "# Use slicing to print the first three elements of the name\n",
    "\n",
    "name[0:3]"
   ]
  },
  {
   "cell_type": "code",
   "execution_count": 142,
   "id": "61fc0eac-a0f5-434d-a210-5c6c43ed56a2",
   "metadata": {},
   "outputs": [
    {
     "data": {
      "text/plain": [
       "'correct'"
      ]
     },
     "execution_count": 142,
     "metadata": {},
     "output_type": "execute_result"
    }
   ],
   "source": [
    "# Use a stride value of 2 to print out every second character of the string e\n",
    "\n",
    "e = 'clocrkr1e1c1t'\n",
    "e[::2]"
   ]
  },
  {
   "cell_type": "code",
   "execution_count": 161,
   "id": "f2525bbc-1fa2-48a3-b884-5a615b0d95ac",
   "metadata": {},
   "outputs": [
    {
     "name": "stdout",
     "output_type": "stream",
     "text": [
      "\\\\\\\n"
     ]
    }
   ],
   "source": [
    "# Print out a backslash \n",
    "print('\\\\\\\\\\\\')"
   ]
  },
  {
   "cell_type": "code",
   "execution_count": 168,
   "id": "50f7c5bf-5f60-44e4-9204-2a7287e1657c",
   "metadata": {},
   "outputs": [
    {
     "name": "stdout",
     "output_type": "stream",
     "text": [
      "before upper: You are wrong\n",
      "After upper: YOU ARE WRONG\n"
     ]
    }
   ],
   "source": [
    "# Convert all characters of the string to uppercase\n",
    "\n",
    "# Assign string to variable\n",
    "\n",
    "f = 'You are wrong'\n",
    "print(\"before upper:\", f)\n",
    "b = f.upper()\n",
    "print(\"After upper:\", b)\n"
   ]
  },
  {
   "cell_type": "code",
   "execution_count": 206,
   "id": "58e64a6f-91cc-4af7-9466-de27072d4fe3",
   "metadata": {},
   "outputs": [
    {
     "name": "stdout",
     "output_type": "stream",
     "text": [
      "before upper: You are wrong\n",
      "after upper: you are wrong\n"
     ]
    }
   ],
   "source": [
    "# Convert all characters of the string to lowercase\n",
    "\n",
    "# Assign string to variable\n",
    "\n",
    "f = 'You are wrong'\n",
    "print('before upper:', f)\n",
    "b = f.lower()\n",
    "print('after upper:', b)\n"
   ]
  },
  {
   "cell_type": "code",
   "execution_count": 209,
   "id": "2f18f9f2-c2ca-40f3-a7b2-5f59e8770d09",
   "metadata": {},
   "outputs": [],
   "source": [
    "# Assign string to a variable \n",
    "\n",
    "g = 'Mary had a little lamb Little lamb, little lamb Mary had a little lamb \\\n",
    "Its fleece was white as snow And everywhere that Mary went Mary went, Mary went \\\n",
    "Everywhere that Mary went The lamb was sure to go'"
   ]
  },
  {
   "cell_type": "code",
   "execution_count": 211,
   "id": "bdac8505-cb4b-4551-bb2c-9a66197e881b",
   "metadata": {},
   "outputs": [
    {
     "data": {
      "text/plain": [
       "95"
      ]
     },
     "execution_count": 211,
     "metadata": {},
     "output_type": "execute_result"
    }
   ],
   "source": [
    "# Consider variable g find the first index of the sub-string snow\n",
    "\n",
    "g.find('snow')"
   ]
  },
  {
   "cell_type": "code",
   "execution_count": 212,
   "id": "0865c20c-dd2c-41e9-93c9-041fa9e4f1f7",
   "metadata": {},
   "outputs": [
    {
     "data": {
      "text/plain": [
       "'Bob had a little lamb Little lamb, little lamb Bob had a little lamb Its fleece was white as snow And everywhere that Bob went Bob went, Bob went Everywhere that Bob went The lamb was sure to go'"
      ]
     },
     "execution_count": 212,
     "metadata": {},
     "output_type": "execute_result"
    }
   ],
   "source": [
    "# In the variable g replace the sub-string with Bob\n",
    "g.replace('Mary', 'Bob')"
   ]
  },
  {
   "cell_type": "code",
   "execution_count": 213,
   "id": "45f022bf-20f4-408c-9988-3d0e675bb5e2",
   "metadata": {},
   "outputs": [
    {
     "data": {
      "text/plain": [
       "'Mary had a little lamb Little lamb. little lamb Mary had a little lamb Its fleece was white as snow And everywhere that Mary went Mary went. Mary went Everywhere that Mary went The lamb was sure to go'"
      ]
     },
     "execution_count": 213,
     "metadata": {},
     "output_type": "execute_result"
    }
   ],
   "source": [
    "# In the variable g replace the sub-string , with .\n",
    "g.replace(',', '.')"
   ]
  },
  {
   "cell_type": "code",
   "execution_count": 215,
   "id": "08700627-a519-419e-8cc2-fab819fefcc6",
   "metadata": {},
   "outputs": [
    {
     "data": {
      "text/plain": [
       "['Mary',\n",
       " 'had',\n",
       " 'a',\n",
       " 'little',\n",
       " 'lamb',\n",
       " 'Little',\n",
       " 'lamb,',\n",
       " 'little',\n",
       " 'lamb',\n",
       " 'Mary',\n",
       " 'had',\n",
       " 'a',\n",
       " 'little',\n",
       " 'lamb',\n",
       " 'Its',\n",
       " 'fleece',\n",
       " 'was',\n",
       " 'white',\n",
       " 'as',\n",
       " 'snow',\n",
       " 'And',\n",
       " 'everywhere',\n",
       " 'that',\n",
       " 'Mary',\n",
       " 'went',\n",
       " 'Mary',\n",
       " 'went,',\n",
       " 'Mary',\n",
       " 'went',\n",
       " 'Everywhere',\n",
       " 'that',\n",
       " 'Mary',\n",
       " 'went',\n",
       " 'The',\n",
       " 'lamb',\n",
       " 'was',\n",
       " 'sure',\n",
       " 'to',\n",
       " 'go']"
      ]
     },
     "execution_count": 215,
     "metadata": {},
     "output_type": "execute_result"
    }
   ],
   "source": [
    "# In the variable g, split the substring to list\n",
    "g.split()"
   ]
  },
  {
   "cell_type": "code",
   "execution_count": 216,
   "id": "11269bd4-80b4-4dcd-a93f-09cb2966125e",
   "metadata": {},
   "outputs": [],
   "source": [
    "# Assign variable to a string \n",
    "s3 = \"House number- 1105\""
   ]
  },
  {
   "cell_type": "code",
   "execution_count": 219,
   "id": "77b0d7a8-0035-480e-aaf4-31cf8138c337",
   "metadata": {},
   "outputs": [
    {
     "name": "stdout",
     "output_type": "stream",
     "text": [
      "Digit found\n"
     ]
    }
   ],
   "source": [
    "# Use the search() function to search for the \"\\\\d\" in the string\n",
    "result = re.search(\"\\\\d\", s3)\n",
    "\n",
    "# Check if a match was found\n",
    "if result:\n",
    "    print(\"Digit found\")\n",
    "else:\n",
    "    print(\"Digit not found.\")"
   ]
  },
  {
   "cell_type": "code",
   "execution_count": 242,
   "id": "5c1e4188-af5d-4ca0-9b03-c65fa96ef5c6",
   "metadata": {},
   "outputs": [],
   "source": [
    "# Assign variable to a string \n",
    "\n",
    "str1= \"The quick brown fox jumps over the lazy dog.\""
   ]
  },
  {
   "cell_type": "code",
   "execution_count": 232,
   "id": "f244d6c4-3f0c-4c8c-9e47-5a6b2351295b",
   "metadata": {},
   "outputs": [
    {
     "name": "stdout",
     "output_type": "stream",
     "text": [
      "The quick brown bear jumps over the lazy dog.\n"
     ]
    }
   ],
   "source": [
    "# Use re.sub() to replace \"fox\" with \"bear\"\n",
    "new_str1 = re.sub(r\"fox\", \"bear\", str1)\n",
    "\n",
    "print(new_str1)"
   ]
  },
  {
   "cell_type": "code",
   "execution_count": 240,
   "id": "6eb376c3-36e7-4a67-83fc-3fe1eac739b9",
   "metadata": {},
   "outputs": [],
   "source": [
    "# Assign a variable to a string \n",
    "str2 = \"How much wood would a woodchuck chuck, if a woodchuck could chuck wood?\""
   ]
  },
  {
   "cell_type": "code",
   "execution_count": 241,
   "id": "fb6956a9-7a60-4549-a281-c9f3c0c04b5a",
   "metadata": {},
   "outputs": [
    {
     "name": "stdout",
     "output_type": "stream",
     "text": [
      "matches\n"
     ]
    }
   ],
   "source": [
    "# Use re.findall() to find all occurrences of \"woo\"\n",
    "matches = re.findall(r\"woo\", str2)\n",
    "print('matches')"
   ]
  }
 ],
 "metadata": {
  "kernelspec": {
   "display_name": "Python 3 (ipykernel)",
   "language": "python",
   "name": "python3"
  },
  "language_info": {
   "codemirror_mode": {
    "name": "ipython",
    "version": 3
   },
   "file_extension": ".py",
   "mimetype": "text/x-python",
   "name": "python",
   "nbconvert_exporter": "python",
   "pygments_lexer": "ipython3",
   "version": "3.12.4"
  }
 },
 "nbformat": 4,
 "nbformat_minor": 5
}
