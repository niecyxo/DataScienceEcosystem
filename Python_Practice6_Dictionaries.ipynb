{
 "cells": [
  {
   "cell_type": "markdown",
   "id": "888d4b17-2603-41b7-be3e-7fc8eb704357",
   "metadata": {},
   "source": [
    "# Python Practice 6"
   ]
  },
  {
   "cell_type": "markdown",
   "id": "45393ada-a4ec-4904-a357-7dc16ec1d4d5",
   "metadata": {},
   "source": [
    "## This document is part 6 of the composition of Python language in Jupyter Notebooks; Established to show basic understanding of coding in Python to perform create a Dictionary and perform operations on the Dictionary in Python. "
   ]
  },
  {
   "cell_type": "markdown",
   "id": "d22e34b5-1587-4e91-9432-2a7743452904",
   "metadata": {},
   "source": [
    "### Dictionaries: Consists of keys and values. \n",
    "* It is helpful to compare a dictionary to a list.\n",
    "* Instead of being indexed numerically like a list, dictionaries have keys."
   ]
  },
  {
   "cell_type": "markdown",
   "id": "437ec9c3-1447-495b-99ae-19cbbeeb0ef5",
   "metadata": {},
   "source": [
    "<img src=\"https://cf-courses-data.s3.us.cloud-object-storage.appdomain.cloud/IBMDeveloperSkillsNetwork-PY0101EN-SkillsNetwork/labs/Module%202/images/DictsList.png\" width=\"650\">"
   ]
  },
  {
   "cell_type": "markdown",
   "id": "88b2ff8b-50e1-490f-aed6-1ab6a8a227db",
   "metadata": {},
   "source": [
    "## Create a Dictionary and access the elements"
   ]
  },
  {
   "cell_type": "code",
   "execution_count": 2,
   "id": "42d6baf1-1946-4811-83c5-a2c4d8e87699",
   "metadata": {},
   "outputs": [
    {
     "data": {
      "text/plain": [
       "{'key1': 1,\n",
       " 'key2': '2',\n",
       " 'key3': [3, 3, 3],\n",
       " 'key4': (4, 4, 4),\n",
       " 'key5': 5,\n",
       " (0, 1): 6}"
      ]
     },
     "execution_count": 2,
     "metadata": {},
     "output_type": "execute_result"
    }
   ],
   "source": [
    "# Create the dictionary\n",
    "\n",
    "Dict = {\"key1\": 1, \"key2\": \"2\", \"key3\": [3, 3, 3], \"key4\": (4, 4, 4), ('key5'): 5, (0, 1): 6}\n",
    "Dict"
   ]
  },
  {
   "cell_type": "markdown",
   "id": "0246e056-dfed-4e8f-ba20-5285a45f525d",
   "metadata": {},
   "source": [
    "* ### The keys can be strings"
   ]
  },
  {
   "cell_type": "code",
   "execution_count": 3,
   "id": "0c503f31-a94f-49fb-b8fa-a978fd129faa",
   "metadata": {},
   "outputs": [
    {
     "data": {
      "text/plain": [
       "1"
      ]
     },
     "execution_count": 3,
     "metadata": {},
     "output_type": "execute_result"
    }
   ],
   "source": [
    "# Access to the value by the key\n",
    "\n",
    "Dict[\"key1\"]"
   ]
  },
  {
   "cell_type": "markdown",
   "id": "560905cb-69fa-4e7a-ab00-bf27105a0d30",
   "metadata": {},
   "source": [
    "* ### Keys can also be any _immutable_ object such as a _tuple_."
   ]
  },
  {
   "cell_type": "code",
   "execution_count": 4,
   "id": "9b6f4b26-e5a2-4c4e-bd2c-a247f76e54c4",
   "metadata": {},
   "outputs": [
    {
     "data": {
      "text/plain": [
       "6"
      ]
     },
     "execution_count": 4,
     "metadata": {},
     "output_type": "execute_result"
    }
   ],
   "source": [
    "# Access to the value by the key\n",
    "\n",
    "Dict[(0, 1)]"
   ]
  },
  {
   "cell_type": "markdown",
   "id": "fa387d65-dae4-4182-a411-f678054fbef1",
   "metadata": {},
   "source": [
    "* ### Each key is separated from its value by a colon \":\"\n",
    "* Commas separate the items, and _the whole dictionary is enclosed in curly braces. An empty dictionary without any items is written with just two curly braces -- _'{}'__"
   ]
  },
  {
   "cell_type": "code",
   "execution_count": 5,
   "id": "ea7a45c6-cdaa-4b11-900f-c007df9743cd",
   "metadata": {},
   "outputs": [
    {
     "data": {
      "text/plain": [
       "{'Thriller': '1982',\n",
       " 'Back in Black': '1980',\n",
       " 'The Dark Side of the Moon': '1973',\n",
       " 'The Bodyguard': '1992',\n",
       " 'Bat Out of Hell': '1977',\n",
       " 'Their Greatest Hits (1971-1975)': '1976',\n",
       " 'Saturday Night Fever': '1977',\n",
       " 'Rumours': '1977'}"
      ]
     },
     "execution_count": 5,
     "metadata": {},
     "output_type": "execute_result"
    }
   ],
   "source": [
    "# Create a sample dictionary\n",
    "\n",
    "release_year_dict = {\"Thriller\": \"1982\", \"Back in Black\": \"1980\", \\\n",
    "                    \"The Dark Side of the Moon\": \"1973\", \"The Bodyguard\": \"1992\", \\\n",
    "                    \"Bat Out of Hell\": \"1977\", \"Their Greatest Hits (1971-1975)\": \"1976\", \\\n",
    "                    \"Saturday Night Fever\": \"1977\", \"Rumours\": \"1977\"}\n",
    "release_year_dict"
   ]
  },
  {
   "cell_type": "markdown",
   "id": "a318031e-4498-492f-ae64-907504b41fb5",
   "metadata": {},
   "source": [
    "### * Like a list, a dictionary holds a sequence of elements.\n",
    "* Each element is *represented by a key and its corresponding value.*\n",
    "* *Dictionaries are created with two curly braces containing keys and values separated by a colon. For every key, there can only be one single value, however, multiple keys can hold the same value. Keys can only be strings, numbers, or tuples, but values can be any data type.*"
   ]
  },
  {
   "cell_type": "markdown",
   "id": "6a4c615a-31e1-4473-8aa5-c96436b2583c",
   "metadata": {},
   "source": [
    "### Keys: Retrieve the values based on the names."
   ]
  },
  {
   "cell_type": "code",
   "execution_count": 6,
   "id": "18fc978c-c9e6-4819-8c49-a395b57a7eea",
   "metadata": {},
   "outputs": [
    {
     "data": {
      "text/plain": [
       "'1982'"
      ]
     },
     "execution_count": 6,
     "metadata": {},
     "output_type": "execute_result"
    }
   ],
   "source": [
    "# Get value by keys\n",
    "\n",
    "release_year_dict['Thriller'] "
   ]
  },
  {
   "cell_type": "markdown",
   "id": "b2ee790d-7d9d-4a92-9126-1df8a196ada7",
   "metadata": {},
   "source": [
    "<img src=\"https://cf-courses-data.s3.us.cloud-object-storage.appdomain.cloud/IBMDeveloperSkillsNetwork-PY0101EN-SkillsNetwork/labs/Module%202/images/DictsKeyTwo.png\" width=\"500\">"
   ]
  },
  {
   "cell_type": "code",
   "execution_count": 7,
   "id": "3f4403b0-9f74-46e3-989e-abe875c220eb",
   "metadata": {},
   "outputs": [
    {
     "data": {
      "text/plain": [
       "'1992'"
      ]
     },
     "execution_count": 7,
     "metadata": {},
     "output_type": "execute_result"
    }
   ],
   "source": [
    "# Get value by key\n",
    "\n",
    "release_year_dict['The Bodyguard'] "
   ]
  },
  {
   "cell_type": "markdown",
   "id": "9d9934fc-3a6e-4328-a1aa-f271ad72bcca",
   "metadata": {},
   "source": [
    "* ### Retrieve the keys of the dictionary using the method *keys()*"
   ]
  },
  {
   "cell_type": "code",
   "execution_count": 8,
   "id": "109982aa-6c4a-43c4-91ec-74cea70651ee",
   "metadata": {},
   "outputs": [
    {
     "data": {
      "text/plain": [
       "dict_keys(['Thriller', 'Back in Black', 'The Dark Side of the Moon', 'The Bodyguard', 'Bat Out of Hell', 'Their Greatest Hits (1971-1975)', 'Saturday Night Fever', 'Rumours'])"
      ]
     },
     "execution_count": 8,
     "metadata": {},
     "output_type": "execute_result"
    }
   ],
   "source": [
    "release_year_dict.keys()"
   ]
  },
  {
   "cell_type": "markdown",
   "id": "97d0aa7c-09f7-4ad8-ad5d-0662f16fa389",
   "metadata": {},
   "source": [
    "* ### Retrieve the values using the method values()"
   ]
  },
  {
   "cell_type": "code",
   "execution_count": 9,
   "id": "05389bc5-4d22-401a-bf5e-3428cb58f95a",
   "metadata": {},
   "outputs": [
    {
     "data": {
      "text/plain": [
       "dict_values(['1982', '1980', '1973', '1992', '1977', '1976', '1977', '1977'])"
      ]
     },
     "execution_count": 9,
     "metadata": {},
     "output_type": "execute_result"
    }
   ],
   "source": [
    "release_year_dict.values()"
   ]
  },
  {
   "cell_type": "markdown",
   "id": "870abb5c-7600-4718-acc0-3272b65af5a7",
   "metadata": {},
   "source": [
    "* ### Append *(add an entry)* value with key into dictionary\n"
   ]
  },
  {
   "cell_type": "code",
   "execution_count": 10,
   "id": "1aa8f50a-0181-4219-bd82-896942488c6e",
   "metadata": {},
   "outputs": [
    {
     "data": {
      "text/plain": [
       "{'Thriller': '1982',\n",
       " 'Back in Black': '1980',\n",
       " 'The Dark Side of the Moon': '1973',\n",
       " 'The Bodyguard': '1992',\n",
       " 'Bat Out of Hell': '1977',\n",
       " 'Their Greatest Hits (1971-1975)': '1976',\n",
       " 'Saturday Night Fever': '1977',\n",
       " 'Rumours': '1977',\n",
       " 'Graduation': '2007'}"
      ]
     },
     "execution_count": 10,
     "metadata": {},
     "output_type": "execute_result"
    }
   ],
   "source": [
    "release_year_dict['Graduation'] = '2007'\n",
    "release_year_dict"
   ]
  },
  {
   "cell_type": "markdown",
   "id": "1af74e4f-f310-4acd-a94a-2c916f375559",
   "metadata": {},
   "source": [
    "* ### Delete a entry"
   ]
  },
  {
   "cell_type": "code",
   "execution_count": 13,
   "id": "07051d0b-74fa-4812-bb82-17ae3a5a0391",
   "metadata": {},
   "outputs": [
    {
     "data": {
      "text/plain": [
       "{'Back in Black': '1980',\n",
       " 'The Dark Side of the Moon': '1973',\n",
       " 'The Bodyguard': '1992',\n",
       " 'Bat Out of Hell': '1977',\n",
       " 'Their Greatest Hits (1971-1975)': '1976',\n",
       " 'Saturday Night Fever': '1977',\n",
       " 'Rumours': '1977'}"
      ]
     },
     "execution_count": 13,
     "metadata": {},
     "output_type": "execute_result"
    }
   ],
   "source": [
    "del(release_year_dict['Thriller'])\n",
    "del(release_year_dict['Graduation'])\n",
    "release_year_dict"
   ]
  },
  {
   "cell_type": "markdown",
   "id": "89e79eef-2010-434c-b826-2907bf6cf074",
   "metadata": {},
   "source": [
    "* ### Verify if an element is in the dictionary"
   ]
  },
  {
   "cell_type": "code",
   "execution_count": 14,
   "id": "9e7f795a-8f15-4d1c-bbdd-cc3ecc6fff36",
   "metadata": {},
   "outputs": [
    {
     "data": {
      "text/plain": [
       "True"
      ]
     },
     "execution_count": 14,
     "metadata": {},
     "output_type": "execute_result"
    }
   ],
   "source": [
    "# Verify the key is in the dictionary\n",
    "\n",
    "'The Bodyguard' in release_year_dict"
   ]
  },
  {
   "cell_type": "markdown",
   "id": "f32bf75f-4b6a-4e30-95ee-b8e6f05f2cb8",
   "metadata": {},
   "source": [
    "### Review on Dictionaries"
   ]
  },
  {
   "cell_type": "code",
   "execution_count": 16,
   "id": "c7393f4c-0dff-4e84-b2f6-4463a408c4a6",
   "metadata": {},
   "outputs": [
    {
     "data": {
      "text/plain": [
       "{'The Bodyguard': '1992', 'Saturday Night Fever': '1977'}"
      ]
     },
     "execution_count": 16,
     "metadata": {},
     "output_type": "execute_result"
    }
   ],
   "source": [
    "# Question sample dictionary\n",
    "\n",
    "soundtrack_dic = {\"The Bodyguard\":\"1992\", \"Saturday Night Fever\":\"1977\"}\n",
    "soundtrack_dic "
   ]
  },
  {
   "cell_type": "code",
   "execution_count": 17,
   "id": "20bcf2c7-3b1b-41d2-a1f0-d1d23102ab84",
   "metadata": {},
   "outputs": [
    {
     "data": {
      "text/plain": [
       "dict_keys(['The Bodyguard', 'Saturday Night Fever'])"
      ]
     },
     "execution_count": 17,
     "metadata": {},
     "output_type": "execute_result"
    }
   ],
   "source": [
    "soundtrack_dic.keys()"
   ]
  },
  {
   "cell_type": "code",
   "execution_count": 18,
   "id": "9ed787dd-2929-47da-90d9-18873e43bee5",
   "metadata": {},
   "outputs": [
    {
     "data": {
      "text/plain": [
       "dict_values(['1992', '1977'])"
      ]
     },
     "execution_count": 18,
     "metadata": {},
     "output_type": "execute_result"
    }
   ],
   "source": [
    "soundtrack_dic.values()"
   ]
  },
  {
   "cell_type": "code",
   "execution_count": 20,
   "id": "cb0d682a-5569-43b7-b068-440699134e69",
   "metadata": {},
   "outputs": [
    {
     "data": {
      "text/plain": [
       "{'The Bodyguard': 50, 'Back in Black': 50, 'Thriller': 65}"
      ]
     },
     "execution_count": 20,
     "metadata": {},
     "output_type": "execute_result"
    }
   ],
   "source": [
    "# Create a dictionary\n",
    "album_sales_dict = {\"The Bodyguard\":50, \"Back in Black\":50, \"Thriller\":65}\n",
    "album_sales_dict"
   ]
  },
  {
   "cell_type": "code",
   "execution_count": 25,
   "id": "5b42ad1b-36f9-4ca6-bcd6-aecf9371f6a7",
   "metadata": {},
   "outputs": [
    {
     "data": {
      "text/plain": [
       "65"
      ]
     },
     "execution_count": 25,
     "metadata": {},
     "output_type": "execute_result"
    }
   ],
   "source": [
    "album_sales_dict[\"Thriller\"]"
   ]
  },
  {
   "cell_type": "code",
   "execution_count": 26,
   "id": "3f33ce7b-d45f-4a37-8262-d22bdaecb918",
   "metadata": {},
   "outputs": [
    {
     "data": {
      "text/plain": [
       "dict_keys(['The Bodyguard', 'Back in Black', 'Thriller'])"
      ]
     },
     "execution_count": 26,
     "metadata": {},
     "output_type": "execute_result"
    }
   ],
   "source": [
    "album_sales_dict.keys()"
   ]
  },
  {
   "cell_type": "code",
   "execution_count": 27,
   "id": "66cede37-f4f0-45b2-ad40-e9d8cc6a1dfe",
   "metadata": {},
   "outputs": [
    {
     "data": {
      "text/plain": [
       "dict_values([50, 50, 65])"
      ]
     },
     "execution_count": 27,
     "metadata": {},
     "output_type": "execute_result"
    }
   ],
   "source": [
    "album_sales_dict.values()"
   ]
  },
  {
   "cell_type": "markdown",
   "id": "51190171-4589-4fc6-962e-f75a1f74eabe",
   "metadata": {},
   "source": [
    "### Scenario: Inventory Store"
   ]
  },
  {
   "cell_type": "markdown",
   "id": "954ab14b-cac9-49ad-aee3-03465b5034ac",
   "metadata": {},
   "source": [
    "* ### Task 1: Create an empty dictionary "
   ]
  },
  {
   "cell_type": "code",
   "execution_count": 28,
   "id": "a9b9ed7e-04b0-4ad6-a71f-d1c4498b91ab",
   "metadata": {},
   "outputs": [],
   "source": [
    "inventory = {}"
   ]
  },
  {
   "cell_type": "markdown",
   "id": "cef2f891-9442-4e49-bf37-1a2a11a2cb37",
   "metadata": {},
   "source": [
    "* ### Task 2: Store the first product details in variable"
   ]
  },
  {
   "cell_type": "code",
   "execution_count": 32,
   "id": "e53a8598-67f9-4014-8150-429802ce9f8a",
   "metadata": {},
   "outputs": [],
   "source": [
    "Product1_name= \"Mobile phone\"\n",
    "Product1_quantity= 5\n",
    "Product1_price= 20000\n",
    "Product1_release_year= 2020"
   ]
  },
  {
   "cell_type": "markdown",
   "id": "adda7ad2-7f1d-4a30-84d9-9b9ca4c8bd19",
   "metadata": {},
   "source": [
    "* ### Task 3: Add the details in inventory"
   ]
  },
  {
   "cell_type": "code",
   "execution_count": 34,
   "id": "a2bee460-205b-4e16-892e-7eaf8506cc28",
   "metadata": {},
   "outputs": [],
   "source": [
    "inventory['Product1']= \"Mobile phone\"\n",
    "inventory['Product1_quantity']= 5\n",
    "inventory['Product1_price']= 20000\n",
    "inventory['Product1_release_year']= 2020"
   ]
  },
  {
   "cell_type": "markdown",
   "id": "00744f09-346a-4827-a9df-654b9f19ffe9",
   "metadata": {},
   "source": [
    "* ### Task 4: Store the second product details in a variable"
   ]
  },
  {
   "cell_type": "code",
   "execution_count": 35,
   "id": "b0b80408-9ae6-45a5-9716-e8ca9375dcf6",
   "metadata": {},
   "outputs": [],
   "source": [
    "Product2_name= \"Laptop\"\n",
    "Product2_quantity= 10\n",
    "Product2_price = 50000\n",
    "Product2_release_year= 2023"
   ]
  },
  {
   "cell_type": "markdown",
   "id": "83032eac-8499-45e3-8eb9-c6ccf14cb423",
   "metadata": {},
   "source": [
    "* ### Task 5: Store the second product details in inventory"
   ]
  },
  {
   "cell_type": "code",
   "execution_count": 38,
   "id": "f0385efa-c224-4933-b1a5-aa129a286841",
   "metadata": {},
   "outputs": [],
   "source": [
    "inventory[\"ProductNo2\"]= Product2_name\n",
    "inventory[\"ProductNo2_quantity\"]= Product2_quantity\n",
    "inventory[\"ProductNo2_price\"]= Product2_price\n",
    "inventory[\"ProductNo2_release_year\"]=Product2_release_year"
   ]
  },
  {
   "cell_type": "markdown",
   "id": "0b8b7109-864b-4870-b11f-1d8924a75974",
   "metadata": {},
   "source": [
    "* ### Task 6:  Display the Products present in the inventory"
   ]
  },
  {
   "cell_type": "code",
   "execution_count": 39,
   "id": "d14f9c7d-2683-49c9-afd1-d129a1f1b98f",
   "metadata": {},
   "outputs": [
    {
     "name": "stdout",
     "output_type": "stream",
     "text": [
      "{'Product1': 'Mobile phone', 'Product1_quantity': 5, 'Product1_price': 20000, 'Product1_release_year': 2020, 'ProductNo2': 'Laptop', 'ProductNo2_quantity': 10, 'ProductNo2_price': 50000, 'ProductNo2_release_year': 2023}\n"
     ]
    }
   ],
   "source": [
    "print(inventory)"
   ]
  },
  {
   "cell_type": "markdown",
   "id": "20a8ad02-51e0-4a34-aa08-1f8a706ed751",
   "metadata": {},
   "source": [
    "* ### Task 7: Check if ProductNo1_release_year and ProductNo2_release_year is in the inventory"
   ]
  },
  {
   "cell_type": "code",
   "execution_count": 76,
   "id": "c5cfb67e-2264-486c-a87f-3f1da13f5819",
   "metadata": {},
   "outputs": [
    {
     "data": {
      "text/plain": [
       "False"
      ]
     },
     "execution_count": 76,
     "metadata": {},
     "output_type": "execute_result"
    }
   ],
   "source": [
    "# Verify release year\n",
    "\n",
    "'ProductNo1_release_year' in inventory\n",
    "'ProductNo2_release_year' in inventory"
   ]
  }
 ],
 "metadata": {
  "kernelspec": {
   "display_name": "Python 3 (ipykernel)",
   "language": "python",
   "name": "python3"
  },
  "language_info": {
   "codemirror_mode": {
    "name": "ipython",
    "version": 3
   },
   "file_extension": ".py",
   "mimetype": "text/x-python",
   "name": "python",
   "nbconvert_exporter": "python",
   "pygments_lexer": "ipython3",
   "version": "3.12.4"
  }
 },
 "nbformat": 4,
 "nbformat_minor": 5
}
